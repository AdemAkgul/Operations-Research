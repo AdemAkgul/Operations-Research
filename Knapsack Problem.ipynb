{
 "cells": [
  {
   "cell_type": "code",
   "execution_count": 1,
   "metadata": {},
   "outputs": [],
   "source": [
    "import numpy as np\n",
    "rnd = np.random\n",
    "from gurobipy import Model, GRB, quicksum"
   ]
  },
  {
   "cell_type": "code",
   "execution_count": 2,
   "metadata": {},
   "outputs": [
    {
     "name": "stdout",
     "output_type": "stream",
     "text": [
      "Using license file C:\\Users\\aakgul\\gurobi.lic\n",
      "Academic license - for non-commercial use only - expires 2021-06-23\n"
     ]
    }
   ],
   "source": [
    "mdl = Model(\"Knapsack\")"
   ]
  },
  {
   "cell_type": "code",
   "execution_count": 3,
   "metadata": {},
   "outputs": [],
   "source": [
    "n = 100 #number of items\n",
    "W = list(rnd.randint(1,100,n)) #weight of every item\n",
    "P = list(rnd.randint(1,30,n)) #price of every item"
   ]
  },
  {
   "cell_type": "code",
   "execution_count": 4,
   "metadata": {},
   "outputs": [],
   "source": [
    "x = mdl.addVars(n,vtype=GRB.BINARY, name = \"x\") #set variables"
   ]
  },
  {
   "cell_type": "code",
   "execution_count": 5,
   "metadata": {},
   "outputs": [],
   "source": [
    "mdl.setObjective(x.prod(P), GRB.MAXIMIZE)"
   ]
  },
  {
   "cell_type": "code",
   "execution_count": 6,
   "metadata": {},
   "outputs": [
    {
     "data": {
      "text/plain": [
       "<gurobi.Constr *Awaiting Model Update*>"
      ]
     },
     "execution_count": 6,
     "metadata": {},
     "output_type": "execute_result"
    }
   ],
   "source": [
    "mdl.addConstr(x.prod(W) <=1000, name = \"knapsack\") #capacity constrain, knapsack has a limited capacity, say 1000..."
   ]
  },
  {
   "cell_type": "code",
   "execution_count": 7,
   "metadata": {},
   "outputs": [
    {
     "name": "stdout",
     "output_type": "stream",
     "text": [
      "Gurobi Optimizer version 9.1.0 build v9.1.0rc0 (win64)\n",
      "Thread count: 4 physical cores, 8 logical processors, using up to 8 threads\n",
      "Optimize a model with 1 rows, 100 columns and 100 nonzeros\n",
      "Model fingerprint: 0xda47bfa9\n",
      "Variable types: 0 continuous, 100 integer (100 binary)\n",
      "Coefficient statistics:\n",
      "  Matrix range     [3e+00, 1e+02]\n",
      "  Objective range  [1e+00, 3e+01]\n",
      "  Bounds range     [1e+00, 1e+00]\n",
      "  RHS range        [1e+03, 1e+03]\n",
      "Found heuristic solution: objective 318.0000000\n",
      "Presolve removed 1 rows and 100 columns\n",
      "Presolve time: 0.01s\n",
      "Presolve: All rows and columns removed\n",
      "\n",
      "Explored 0 nodes (0 simplex iterations) in 0.04 seconds\n",
      "Thread count was 1 (of 8 available processors)\n",
      "\n",
      "Solution count 2: 745 \n",
      "\n",
      "Optimal solution found (tolerance 1.00e-04)\n",
      "Best objective 7.450000000000e+02, best bound 7.450000000000e+02, gap 0.0000%\n"
     ]
    }
   ],
   "source": [
    "mdl.optimize()"
   ]
  },
  {
   "cell_type": "code",
   "execution_count": 8,
   "metadata": {},
   "outputs": [
    {
     "name": "stdout",
     "output_type": "stream",
     "text": [
      "\n",
      "    Variable            X \n",
      "-------------------------\n",
      "        x[0]            1 \n",
      "        x[3]            1 \n",
      "        x[4]            1 \n",
      "        x[7]            1 \n",
      "       x[16]            1 \n",
      "       x[17]            1 \n",
      "       x[19]            1 \n",
      "       x[20]            1 \n",
      "       x[23]            1 \n",
      "       x[24]            1 \n",
      "       x[25]            1 \n",
      "       x[30]            1 \n",
      "       x[32]            1 \n",
      "       x[34]            1 \n",
      "       x[42]            1 \n",
      "       x[46]            1 \n",
      "       x[48]            1 \n",
      "       x[51]            1 \n",
      "       x[54]            1 \n",
      "       x[55]            1 \n",
      "       x[61]            1 \n",
      "       x[62]            1 \n",
      "       x[65]            1 \n",
      "       x[68]            1 \n",
      "       x[69]            1 \n",
      "       x[71]            1 \n",
      "       x[72]            1 \n",
      "       x[75]            1 \n",
      "       x[79]            1 \n",
      "       x[80]            1 \n",
      "       x[83]            1 \n",
      "       x[86]            1 \n",
      "       x[87]            1 \n",
      "       x[89]            1 \n",
      "       x[98]            1 \n",
      "       x[99]            1 \n"
     ]
    }
   ],
   "source": [
    "mdl.printAttr('X')"
   ]
  }
 ],
 "metadata": {
  "kernelspec": {
   "display_name": "Python 3",
   "language": "python",
   "name": "python3"
  },
  "language_info": {
   "codemirror_mode": {
    "name": "ipython",
    "version": 3
   },
   "file_extension": ".py",
   "mimetype": "text/x-python",
   "name": "python",
   "nbconvert_exporter": "python",
   "pygments_lexer": "ipython3",
   "version": "3.8.3"
  }
 },
 "nbformat": 4,
 "nbformat_minor": 4
}
