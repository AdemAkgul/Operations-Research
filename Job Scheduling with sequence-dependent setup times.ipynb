{
 "cells": [
  {
   "cell_type": "markdown",
   "metadata": {},
   "source": [
    "In this notebook, I handled the job scheduling problem. We have one machine and some jobs which have a given processing time. All jobs have sequence-dependent setup times to each other. Besides, all jobs or some jobs have a due date. There may be some objectives in this problem. One is the total tardiness, which minimizes the total amount of time deviated from due dates, while the other is to minimize the completion time of the last job. There may be also other objectives. In this problem, I solved the first problem and second problem respectively. You can incorporate into the model some other constraints like precedence constraints and release date constraints. For instance job 10 should not be carried out before a certain date. Or job 6 must be carried out before job 14. Job sequencing problem is a very challenging problem even if it is a small-scale problem. In this notebook, we handled a tiny problem, which is 15 jobs. İf you have more machines, the problem will get harder and harder. Instead of the mathematical model, you can try heuristics for large-scale problems."
   ]
  },
  {
   "cell_type": "code",
   "execution_count": 1,
   "metadata": {},
   "outputs": [],
   "source": [
    "import gurobipy as gb\n",
    "import numpy as np\n",
    "import matplotlib.pyplot as plt\n",
    "import pandas as pd"
   ]
  },
  {
   "cell_type": "code",
   "execution_count": 2,
   "metadata": {},
   "outputs": [],
   "source": [
    "n = 15#number of jobs\n",
    "PT = {(i): np.random.randint(2,30) for i in range(1,n+1)} #(process time)\n",
    "DD = {(i): np.random.randint(2,80) for i in range(1,n+1)} #(due date)\n",
    "A = [(i,j) for i in range(1,n+1) for j in range(1,n+1) if j > i]\n",
    "B = {(i,j): np.random.randint(1,15) for i in range(1,n+1) for j in range(1,n+1) if j > i}#setup time between job i and job j"
   ]
  },
  {
   "cell_type": "code",
   "execution_count": 3,
   "metadata": {},
   "outputs": [],
   "source": [
    "#I took every largest setup time between job i and all jobs to determine reasonable big M value\n",
    "t = 0\n",
    "m = 0\n",
    "for i in range(1,n+1):\n",
    "    for j in range(1,n+1):\n",
    "        if j > i:\n",
    "            if B[i,j] > t:\n",
    "                t = B[i,j]\n",
    "    m += t\n",
    "    t = 0"
   ]
  },
  {
   "cell_type": "code",
   "execution_count": 4,
   "metadata": {},
   "outputs": [
    {
     "data": {
      "text/plain": [
       "170"
      ]
     },
     "execution_count": 4,
     "metadata": {},
     "output_type": "execute_result"
    }
   ],
   "source": [
    "m"
   ]
  },
  {
   "cell_type": "code",
   "execution_count": 5,
   "metadata": {},
   "outputs": [],
   "source": [
    "#reasonable big M value = sum of all processing time + m\n",
    "M = sum(PT.values())+m"
   ]
  },
  {
   "cell_type": "code",
   "execution_count": 6,
   "metadata": {},
   "outputs": [
    {
     "data": {
      "text/plain": [
       "403"
      ]
     },
     "execution_count": 6,
     "metadata": {},
     "output_type": "execute_result"
    }
   ],
   "source": [
    "M"
   ]
  },
  {
   "cell_type": "code",
   "execution_count": 7,
   "metadata": {},
   "outputs": [],
   "source": [
    "from gurobipy import Model, GRB, quicksum"
   ]
  },
  {
   "cell_type": "code",
   "execution_count": 37,
   "metadata": {},
   "outputs": [],
   "source": [
    "mdl = Model(\"JS\")"
   ]
  },
  {
   "cell_type": "code",
   "execution_count": 38,
   "metadata": {},
   "outputs": [],
   "source": [
    "x = mdl.addVars(A,vtype = GRB.BINARY,name = \"x\")#if job i is executed before job j, it equals to 1, ow 0\n",
    "slack = mdl.addVars(range(1,n+1),vtype = GRB.CONTINUOUS, name = \"early_production\")\n",
    "surplas = mdl.addVars(range(1,n+1),vtype = GRB.CONTINUOUS, name = \"tardiness\")\n",
    "start = mdl.addVars(range(1,n+1),vtype = GRB.CONTINUOUS, name = \"start_time\")"
   ]
  },
  {
   "cell_type": "code",
   "execution_count": 39,
   "metadata": {},
   "outputs": [],
   "source": [
    "mdl.setObjective(quicksum(surplas[i] for i in range(1,n+1)), GRB.MINIMIZE)#minimize total tardiness"
   ]
  },
  {
   "cell_type": "code",
   "execution_count": 40,
   "metadata": {},
   "outputs": [
    {
     "data": {
      "text/plain": [
       "{(1, 2): <gurobi.Constr *Awaiting Model Update*>,\n",
       " (1, 3): <gurobi.Constr *Awaiting Model Update*>,\n",
       " (1, 4): <gurobi.Constr *Awaiting Model Update*>,\n",
       " (1, 5): <gurobi.Constr *Awaiting Model Update*>,\n",
       " (1, 6): <gurobi.Constr *Awaiting Model Update*>,\n",
       " (1, 7): <gurobi.Constr *Awaiting Model Update*>,\n",
       " (1, 8): <gurobi.Constr *Awaiting Model Update*>,\n",
       " (1, 9): <gurobi.Constr *Awaiting Model Update*>,\n",
       " (1, 10): <gurobi.Constr *Awaiting Model Update*>,\n",
       " (1, 11): <gurobi.Constr *Awaiting Model Update*>,\n",
       " (1, 12): <gurobi.Constr *Awaiting Model Update*>,\n",
       " (1, 13): <gurobi.Constr *Awaiting Model Update*>,\n",
       " (1, 14): <gurobi.Constr *Awaiting Model Update*>,\n",
       " (1, 15): <gurobi.Constr *Awaiting Model Update*>,\n",
       " (2, 3): <gurobi.Constr *Awaiting Model Update*>,\n",
       " (2, 4): <gurobi.Constr *Awaiting Model Update*>,\n",
       " (2, 5): <gurobi.Constr *Awaiting Model Update*>,\n",
       " (2, 6): <gurobi.Constr *Awaiting Model Update*>,\n",
       " (2, 7): <gurobi.Constr *Awaiting Model Update*>,\n",
       " (2, 8): <gurobi.Constr *Awaiting Model Update*>,\n",
       " (2, 9): <gurobi.Constr *Awaiting Model Update*>,\n",
       " (2, 10): <gurobi.Constr *Awaiting Model Update*>,\n",
       " (2, 11): <gurobi.Constr *Awaiting Model Update*>,\n",
       " (2, 12): <gurobi.Constr *Awaiting Model Update*>,\n",
       " (2, 13): <gurobi.Constr *Awaiting Model Update*>,\n",
       " (2, 14): <gurobi.Constr *Awaiting Model Update*>,\n",
       " (2, 15): <gurobi.Constr *Awaiting Model Update*>,\n",
       " (3, 4): <gurobi.Constr *Awaiting Model Update*>,\n",
       " (3, 5): <gurobi.Constr *Awaiting Model Update*>,\n",
       " (3, 6): <gurobi.Constr *Awaiting Model Update*>,\n",
       " (3, 7): <gurobi.Constr *Awaiting Model Update*>,\n",
       " (3, 8): <gurobi.Constr *Awaiting Model Update*>,\n",
       " (3, 9): <gurobi.Constr *Awaiting Model Update*>,\n",
       " (3, 10): <gurobi.Constr *Awaiting Model Update*>,\n",
       " (3, 11): <gurobi.Constr *Awaiting Model Update*>,\n",
       " (3, 12): <gurobi.Constr *Awaiting Model Update*>,\n",
       " (3, 13): <gurobi.Constr *Awaiting Model Update*>,\n",
       " (3, 14): <gurobi.Constr *Awaiting Model Update*>,\n",
       " (3, 15): <gurobi.Constr *Awaiting Model Update*>,\n",
       " (4, 5): <gurobi.Constr *Awaiting Model Update*>,\n",
       " (4, 6): <gurobi.Constr *Awaiting Model Update*>,\n",
       " (4, 7): <gurobi.Constr *Awaiting Model Update*>,\n",
       " (4, 8): <gurobi.Constr *Awaiting Model Update*>,\n",
       " (4, 9): <gurobi.Constr *Awaiting Model Update*>,\n",
       " (4, 10): <gurobi.Constr *Awaiting Model Update*>,\n",
       " (4, 11): <gurobi.Constr *Awaiting Model Update*>,\n",
       " (4, 12): <gurobi.Constr *Awaiting Model Update*>,\n",
       " (4, 13): <gurobi.Constr *Awaiting Model Update*>,\n",
       " (4, 14): <gurobi.Constr *Awaiting Model Update*>,\n",
       " (4, 15): <gurobi.Constr *Awaiting Model Update*>,\n",
       " (5, 6): <gurobi.Constr *Awaiting Model Update*>,\n",
       " (5, 7): <gurobi.Constr *Awaiting Model Update*>,\n",
       " (5, 8): <gurobi.Constr *Awaiting Model Update*>,\n",
       " (5, 9): <gurobi.Constr *Awaiting Model Update*>,\n",
       " (5, 10): <gurobi.Constr *Awaiting Model Update*>,\n",
       " (5, 11): <gurobi.Constr *Awaiting Model Update*>,\n",
       " (5, 12): <gurobi.Constr *Awaiting Model Update*>,\n",
       " (5, 13): <gurobi.Constr *Awaiting Model Update*>,\n",
       " (5, 14): <gurobi.Constr *Awaiting Model Update*>,\n",
       " (5, 15): <gurobi.Constr *Awaiting Model Update*>,\n",
       " (6, 7): <gurobi.Constr *Awaiting Model Update*>,\n",
       " (6, 8): <gurobi.Constr *Awaiting Model Update*>,\n",
       " (6, 9): <gurobi.Constr *Awaiting Model Update*>,\n",
       " (6, 10): <gurobi.Constr *Awaiting Model Update*>,\n",
       " (6, 11): <gurobi.Constr *Awaiting Model Update*>,\n",
       " (6, 12): <gurobi.Constr *Awaiting Model Update*>,\n",
       " (6, 13): <gurobi.Constr *Awaiting Model Update*>,\n",
       " (6, 14): <gurobi.Constr *Awaiting Model Update*>,\n",
       " (6, 15): <gurobi.Constr *Awaiting Model Update*>,\n",
       " (7, 8): <gurobi.Constr *Awaiting Model Update*>,\n",
       " (7, 9): <gurobi.Constr *Awaiting Model Update*>,\n",
       " (7, 10): <gurobi.Constr *Awaiting Model Update*>,\n",
       " (7, 11): <gurobi.Constr *Awaiting Model Update*>,\n",
       " (7, 12): <gurobi.Constr *Awaiting Model Update*>,\n",
       " (7, 13): <gurobi.Constr *Awaiting Model Update*>,\n",
       " (7, 14): <gurobi.Constr *Awaiting Model Update*>,\n",
       " (7, 15): <gurobi.Constr *Awaiting Model Update*>,\n",
       " (8, 9): <gurobi.Constr *Awaiting Model Update*>,\n",
       " (8, 10): <gurobi.Constr *Awaiting Model Update*>,\n",
       " (8, 11): <gurobi.Constr *Awaiting Model Update*>,\n",
       " (8, 12): <gurobi.Constr *Awaiting Model Update*>,\n",
       " (8, 13): <gurobi.Constr *Awaiting Model Update*>,\n",
       " (8, 14): <gurobi.Constr *Awaiting Model Update*>,\n",
       " (8, 15): <gurobi.Constr *Awaiting Model Update*>,\n",
       " (9, 10): <gurobi.Constr *Awaiting Model Update*>,\n",
       " (9, 11): <gurobi.Constr *Awaiting Model Update*>,\n",
       " (9, 12): <gurobi.Constr *Awaiting Model Update*>,\n",
       " (9, 13): <gurobi.Constr *Awaiting Model Update*>,\n",
       " (9, 14): <gurobi.Constr *Awaiting Model Update*>,\n",
       " (9, 15): <gurobi.Constr *Awaiting Model Update*>,\n",
       " (10, 11): <gurobi.Constr *Awaiting Model Update*>,\n",
       " (10, 12): <gurobi.Constr *Awaiting Model Update*>,\n",
       " (10, 13): <gurobi.Constr *Awaiting Model Update*>,\n",
       " (10, 14): <gurobi.Constr *Awaiting Model Update*>,\n",
       " (10, 15): <gurobi.Constr *Awaiting Model Update*>,\n",
       " (11, 12): <gurobi.Constr *Awaiting Model Update*>,\n",
       " (11, 13): <gurobi.Constr *Awaiting Model Update*>,\n",
       " (11, 14): <gurobi.Constr *Awaiting Model Update*>,\n",
       " (11, 15): <gurobi.Constr *Awaiting Model Update*>,\n",
       " (12, 13): <gurobi.Constr *Awaiting Model Update*>,\n",
       " (12, 14): <gurobi.Constr *Awaiting Model Update*>,\n",
       " (12, 15): <gurobi.Constr *Awaiting Model Update*>,\n",
       " (13, 14): <gurobi.Constr *Awaiting Model Update*>,\n",
       " (13, 15): <gurobi.Constr *Awaiting Model Update*>,\n",
       " (14, 15): <gurobi.Constr *Awaiting Model Update*>}"
      ]
     },
     "execution_count": 40,
     "metadata": {},
     "output_type": "execute_result"
    }
   ],
   "source": [
    "mdl.addConstrs((start[i]+B[i,j]-start[j] -M*(1-x[i,j])+PT[i]) <= 0 for i,j in A)#either job i is executed before j or job i is executed after j"
   ]
  },
  {
   "cell_type": "code",
   "execution_count": 41,
   "metadata": {},
   "outputs": [
    {
     "data": {
      "text/plain": [
       "{(1, 2): <gurobi.Constr *Awaiting Model Update*>,\n",
       " (1, 3): <gurobi.Constr *Awaiting Model Update*>,\n",
       " (1, 4): <gurobi.Constr *Awaiting Model Update*>,\n",
       " (1, 5): <gurobi.Constr *Awaiting Model Update*>,\n",
       " (1, 6): <gurobi.Constr *Awaiting Model Update*>,\n",
       " (1, 7): <gurobi.Constr *Awaiting Model Update*>,\n",
       " (1, 8): <gurobi.Constr *Awaiting Model Update*>,\n",
       " (1, 9): <gurobi.Constr *Awaiting Model Update*>,\n",
       " (1, 10): <gurobi.Constr *Awaiting Model Update*>,\n",
       " (1, 11): <gurobi.Constr *Awaiting Model Update*>,\n",
       " (1, 12): <gurobi.Constr *Awaiting Model Update*>,\n",
       " (1, 13): <gurobi.Constr *Awaiting Model Update*>,\n",
       " (1, 14): <gurobi.Constr *Awaiting Model Update*>,\n",
       " (1, 15): <gurobi.Constr *Awaiting Model Update*>,\n",
       " (2, 3): <gurobi.Constr *Awaiting Model Update*>,\n",
       " (2, 4): <gurobi.Constr *Awaiting Model Update*>,\n",
       " (2, 5): <gurobi.Constr *Awaiting Model Update*>,\n",
       " (2, 6): <gurobi.Constr *Awaiting Model Update*>,\n",
       " (2, 7): <gurobi.Constr *Awaiting Model Update*>,\n",
       " (2, 8): <gurobi.Constr *Awaiting Model Update*>,\n",
       " (2, 9): <gurobi.Constr *Awaiting Model Update*>,\n",
       " (2, 10): <gurobi.Constr *Awaiting Model Update*>,\n",
       " (2, 11): <gurobi.Constr *Awaiting Model Update*>,\n",
       " (2, 12): <gurobi.Constr *Awaiting Model Update*>,\n",
       " (2, 13): <gurobi.Constr *Awaiting Model Update*>,\n",
       " (2, 14): <gurobi.Constr *Awaiting Model Update*>,\n",
       " (2, 15): <gurobi.Constr *Awaiting Model Update*>,\n",
       " (3, 4): <gurobi.Constr *Awaiting Model Update*>,\n",
       " (3, 5): <gurobi.Constr *Awaiting Model Update*>,\n",
       " (3, 6): <gurobi.Constr *Awaiting Model Update*>,\n",
       " (3, 7): <gurobi.Constr *Awaiting Model Update*>,\n",
       " (3, 8): <gurobi.Constr *Awaiting Model Update*>,\n",
       " (3, 9): <gurobi.Constr *Awaiting Model Update*>,\n",
       " (3, 10): <gurobi.Constr *Awaiting Model Update*>,\n",
       " (3, 11): <gurobi.Constr *Awaiting Model Update*>,\n",
       " (3, 12): <gurobi.Constr *Awaiting Model Update*>,\n",
       " (3, 13): <gurobi.Constr *Awaiting Model Update*>,\n",
       " (3, 14): <gurobi.Constr *Awaiting Model Update*>,\n",
       " (3, 15): <gurobi.Constr *Awaiting Model Update*>,\n",
       " (4, 5): <gurobi.Constr *Awaiting Model Update*>,\n",
       " (4, 6): <gurobi.Constr *Awaiting Model Update*>,\n",
       " (4, 7): <gurobi.Constr *Awaiting Model Update*>,\n",
       " (4, 8): <gurobi.Constr *Awaiting Model Update*>,\n",
       " (4, 9): <gurobi.Constr *Awaiting Model Update*>,\n",
       " (4, 10): <gurobi.Constr *Awaiting Model Update*>,\n",
       " (4, 11): <gurobi.Constr *Awaiting Model Update*>,\n",
       " (4, 12): <gurobi.Constr *Awaiting Model Update*>,\n",
       " (4, 13): <gurobi.Constr *Awaiting Model Update*>,\n",
       " (4, 14): <gurobi.Constr *Awaiting Model Update*>,\n",
       " (4, 15): <gurobi.Constr *Awaiting Model Update*>,\n",
       " (5, 6): <gurobi.Constr *Awaiting Model Update*>,\n",
       " (5, 7): <gurobi.Constr *Awaiting Model Update*>,\n",
       " (5, 8): <gurobi.Constr *Awaiting Model Update*>,\n",
       " (5, 9): <gurobi.Constr *Awaiting Model Update*>,\n",
       " (5, 10): <gurobi.Constr *Awaiting Model Update*>,\n",
       " (5, 11): <gurobi.Constr *Awaiting Model Update*>,\n",
       " (5, 12): <gurobi.Constr *Awaiting Model Update*>,\n",
       " (5, 13): <gurobi.Constr *Awaiting Model Update*>,\n",
       " (5, 14): <gurobi.Constr *Awaiting Model Update*>,\n",
       " (5, 15): <gurobi.Constr *Awaiting Model Update*>,\n",
       " (6, 7): <gurobi.Constr *Awaiting Model Update*>,\n",
       " (6, 8): <gurobi.Constr *Awaiting Model Update*>,\n",
       " (6, 9): <gurobi.Constr *Awaiting Model Update*>,\n",
       " (6, 10): <gurobi.Constr *Awaiting Model Update*>,\n",
       " (6, 11): <gurobi.Constr *Awaiting Model Update*>,\n",
       " (6, 12): <gurobi.Constr *Awaiting Model Update*>,\n",
       " (6, 13): <gurobi.Constr *Awaiting Model Update*>,\n",
       " (6, 14): <gurobi.Constr *Awaiting Model Update*>,\n",
       " (6, 15): <gurobi.Constr *Awaiting Model Update*>,\n",
       " (7, 8): <gurobi.Constr *Awaiting Model Update*>,\n",
       " (7, 9): <gurobi.Constr *Awaiting Model Update*>,\n",
       " (7, 10): <gurobi.Constr *Awaiting Model Update*>,\n",
       " (7, 11): <gurobi.Constr *Awaiting Model Update*>,\n",
       " (7, 12): <gurobi.Constr *Awaiting Model Update*>,\n",
       " (7, 13): <gurobi.Constr *Awaiting Model Update*>,\n",
       " (7, 14): <gurobi.Constr *Awaiting Model Update*>,\n",
       " (7, 15): <gurobi.Constr *Awaiting Model Update*>,\n",
       " (8, 9): <gurobi.Constr *Awaiting Model Update*>,\n",
       " (8, 10): <gurobi.Constr *Awaiting Model Update*>,\n",
       " (8, 11): <gurobi.Constr *Awaiting Model Update*>,\n",
       " (8, 12): <gurobi.Constr *Awaiting Model Update*>,\n",
       " (8, 13): <gurobi.Constr *Awaiting Model Update*>,\n",
       " (8, 14): <gurobi.Constr *Awaiting Model Update*>,\n",
       " (8, 15): <gurobi.Constr *Awaiting Model Update*>,\n",
       " (9, 10): <gurobi.Constr *Awaiting Model Update*>,\n",
       " (9, 11): <gurobi.Constr *Awaiting Model Update*>,\n",
       " (9, 12): <gurobi.Constr *Awaiting Model Update*>,\n",
       " (9, 13): <gurobi.Constr *Awaiting Model Update*>,\n",
       " (9, 14): <gurobi.Constr *Awaiting Model Update*>,\n",
       " (9, 15): <gurobi.Constr *Awaiting Model Update*>,\n",
       " (10, 11): <gurobi.Constr *Awaiting Model Update*>,\n",
       " (10, 12): <gurobi.Constr *Awaiting Model Update*>,\n",
       " (10, 13): <gurobi.Constr *Awaiting Model Update*>,\n",
       " (10, 14): <gurobi.Constr *Awaiting Model Update*>,\n",
       " (10, 15): <gurobi.Constr *Awaiting Model Update*>,\n",
       " (11, 12): <gurobi.Constr *Awaiting Model Update*>,\n",
       " (11, 13): <gurobi.Constr *Awaiting Model Update*>,\n",
       " (11, 14): <gurobi.Constr *Awaiting Model Update*>,\n",
       " (11, 15): <gurobi.Constr *Awaiting Model Update*>,\n",
       " (12, 13): <gurobi.Constr *Awaiting Model Update*>,\n",
       " (12, 14): <gurobi.Constr *Awaiting Model Update*>,\n",
       " (12, 15): <gurobi.Constr *Awaiting Model Update*>,\n",
       " (13, 14): <gurobi.Constr *Awaiting Model Update*>,\n",
       " (13, 15): <gurobi.Constr *Awaiting Model Update*>,\n",
       " (14, 15): <gurobi.Constr *Awaiting Model Update*>}"
      ]
     },
     "execution_count": 41,
     "metadata": {},
     "output_type": "execute_result"
    }
   ],
   "source": [
    "mdl.addConstrs((start[j]+B[i,j]-start[i] -M*x[i,j]+PT[j]) <= 0 for i,j in A)#either job i is executed before j or job i is executed after j"
   ]
  },
  {
   "cell_type": "code",
   "execution_count": 42,
   "metadata": {},
   "outputs": [
    {
     "data": {
      "text/plain": [
       "{1: <gurobi.Constr *Awaiting Model Update*>,\n",
       " 2: <gurobi.Constr *Awaiting Model Update*>,\n",
       " 3: <gurobi.Constr *Awaiting Model Update*>,\n",
       " 4: <gurobi.Constr *Awaiting Model Update*>,\n",
       " 5: <gurobi.Constr *Awaiting Model Update*>,\n",
       " 6: <gurobi.Constr *Awaiting Model Update*>,\n",
       " 7: <gurobi.Constr *Awaiting Model Update*>,\n",
       " 8: <gurobi.Constr *Awaiting Model Update*>,\n",
       " 9: <gurobi.Constr *Awaiting Model Update*>,\n",
       " 10: <gurobi.Constr *Awaiting Model Update*>,\n",
       " 11: <gurobi.Constr *Awaiting Model Update*>,\n",
       " 12: <gurobi.Constr *Awaiting Model Update*>,\n",
       " 13: <gurobi.Constr *Awaiting Model Update*>,\n",
       " 14: <gurobi.Constr *Awaiting Model Update*>,\n",
       " 15: <gurobi.Constr *Awaiting Model Update*>}"
      ]
     },
     "execution_count": 42,
     "metadata": {},
     "output_type": "execute_result"
    }
   ],
   "source": [
    "mdl.addConstrs(start[i]+slack[i]-surplas[i]  == DD[i]-PT[i] for i in range(1,n+1))#early production and tardy production "
   ]
  },
  {
   "cell_type": "code",
   "execution_count": 43,
   "metadata": {},
   "outputs": [
    {
     "data": {
      "text/plain": [
       "{1: <gurobi.Constr *Awaiting Model Update*>,\n",
       " 2: <gurobi.Constr *Awaiting Model Update*>,\n",
       " 3: <gurobi.Constr *Awaiting Model Update*>,\n",
       " 4: <gurobi.Constr *Awaiting Model Update*>,\n",
       " 5: <gurobi.Constr *Awaiting Model Update*>,\n",
       " 6: <gurobi.Constr *Awaiting Model Update*>,\n",
       " 7: <gurobi.Constr *Awaiting Model Update*>,\n",
       " 8: <gurobi.Constr *Awaiting Model Update*>,\n",
       " 9: <gurobi.Constr *Awaiting Model Update*>,\n",
       " 10: <gurobi.Constr *Awaiting Model Update*>,\n",
       " 11: <gurobi.Constr *Awaiting Model Update*>,\n",
       " 12: <gurobi.Constr *Awaiting Model Update*>,\n",
       " 13: <gurobi.Constr *Awaiting Model Update*>,\n",
       " 14: <gurobi.Constr *Awaiting Model Update*>,\n",
       " 15: <gurobi.Constr *Awaiting Model Update*>}"
      ]
     },
     "execution_count": 43,
     "metadata": {},
     "output_type": "execute_result"
    }
   ],
   "source": [
    "mdl.addConstrs(start[i] <= M for i in range(1,n+1))#a resonable upper bound for start times."
   ]
  },
  {
   "cell_type": "code",
   "execution_count": 44,
   "metadata": {},
   "outputs": [
    {
     "name": "stdout",
     "output_type": "stream",
     "text": [
      "Changed value of parameter MIPGAP to 0.05\n",
      "   Prev: 0.0001  Min: 0.0  Max: inf  Default: 0.0001\n",
      "Changed value of parameter MIPFocus to 2\n",
      "   Prev: 0  Min: 0  Max: 3  Default: 0\n",
      "Changed value of parameter TimeLimit to 250.0\n",
      "   Prev: inf  Min: 0.0  Max: inf  Default: inf\n",
      "Gurobi Optimizer version 9.1.0 build v9.1.0rc0 (win64)\n",
      "Thread count: 4 physical cores, 8 logical processors, using up to 8 threads\n",
      "Optimize a model with 240 rows, 150 columns and 690 nonzeros\n",
      "Model fingerprint: 0x15ef361f\n",
      "Variable types: 45 continuous, 105 integer (105 binary)\n",
      "Coefficient statistics:\n",
      "  Matrix range     [1e+00, 4e+02]\n",
      "  Objective range  [1e+00, 1e+00]\n",
      "  Bounds range     [1e+00, 1e+00]\n",
      "  RHS range        [5e+00, 4e+02]\n",
      "Presolve removed 16 rows and 16 columns\n",
      "Presolve time: 0.00s\n",
      "Presolved: 224 rows, 134 columns, 658 nonzeros\n",
      "Variable types: 29 continuous, 105 integer (105 binary)\n",
      "Found heuristic solution: objective 1856.0000000\n",
      "Presolve removed 105 rows and 0 columns\n",
      "Presolved: 119 rows, 239 columns, 448 nonzeros\n",
      "\n",
      "\n",
      "Root relaxation: objective 1.600000e+01, 90 iterations, 0.01 seconds\n",
      "\n",
      "    Nodes    |    Current Node    |     Objective Bounds      |     Work\n",
      " Expl Unexpl |  Obj  Depth IntInf | Incumbent    BestBd   Gap | It/Node Time\n",
      "\n",
      "     0     0   16.00000    0   57 1856.00000   16.00000  99.1%     -    0s\n",
      "     0     0  949.41970    0   27 1856.00000  949.41970  48.8%     -    0s\n",
      "H    0     0                    1685.0000000  949.41970  43.7%     -    0s\n",
      "H    0     0                    1666.0000000  949.41970  43.0%     -    0s\n",
      "H    0     0                    1650.0000000  949.41970  42.5%     -    0s\n",
      "H    0     0                    1624.0000000  949.41970  41.5%     -    0s\n",
      "     0     0  963.22669    0   25 1624.00000  963.22669  40.7%     -    0s\n",
      "H    0     0                    1520.0000000  963.22669  36.6%     -    0s\n",
      "H    0     0                    1371.0000000  963.22669  29.7%     -    0s\n",
      "     0     0  963.71244    0   30 1371.00000  963.71244  29.7%     -    0s\n",
      "     0     0  965.45640    0   32 1371.00000  965.45640  29.6%     -    0s\n",
      "     0     0  965.45640    0   32 1371.00000  965.45640  29.6%     -    0s\n",
      "H    0     0                    1365.0000000  965.45640  29.3%     -    0s\n",
      "     0     2  965.45640    0   30 1365.00000  965.45640  29.3%     -    0s\n",
      "H  238   234                    1303.0000000  969.71244  25.6%  24.2    0s\n",
      "H  297   253                    1301.0000000  969.71244  25.5%  24.9    0s\n",
      "H  583   433                    1251.0000000  970.31457  22.4%  25.9    0s\n",
      "H 1027   683                    1220.0000000  972.51171  20.3%  26.3    0s\n",
      "H 1065   671                    1203.0000000  975.12260  18.9%  25.4    2s\n",
      "H 1245   763                    1195.0000000  977.21003  18.2%  32.5    3s\n",
      "  2997  1261 1043.31438   37   20 1195.00000  981.87595  17.8%  31.5    5s\n",
      "H 3477  1486                    1174.0000000  984.30594  16.2%  31.4    5s\n",
      "  9102  4860 1009.14486   34   30 1174.00000  991.59804  15.5%  32.8   10s\n",
      " 16767  8626 1008.10409   27   43 1174.00000  996.30596  15.1%  31.4   15s\n",
      " 24434 12620 1077.04689   40   18 1174.00000  999.49977  14.9%  30.6   20s\n",
      " 32618 16277 1046.45171   40   15 1174.00000 1002.00315  14.7%  29.9   25s\n",
      " 38073 18753 1049.22395   37   30 1174.00000 1003.18585  14.5%  29.9   30s\n",
      " 43914 21486 1024.65674   36   39 1174.00000 1004.14530  14.5%  29.9   35s\n",
      " 51410 24919     cutoff   48      1174.00000 1005.26836  14.4%  29.9   40s\n",
      " 58115 27711 1031.81897   35   32 1174.00000 1006.20194  14.3%  29.8   45s\n",
      " 64741 30765 1060.92762   33   33 1174.00000 1007.01276  14.2%  29.8   50s\n",
      " 68113 32156 1024.86448   31   28 1174.00000 1007.39592  14.2%  29.8   56s\n",
      " 72497 34050 infeasible   36      1174.00000 1007.94643  14.1%  29.7   60s\n",
      " 78269 36721 1044.01936   36   30 1174.00000 1008.54032  14.1%  29.7   65s\n",
      " 85411 39759 1062.43946   36   43 1174.00000 1009.21612  14.0%  29.6   70s\n",
      " 92044 42462 1091.49150   44   13 1174.00000 1009.70528  14.0%  29.6   75s\n",
      " 96852 44791 1028.50762   36   22 1174.00000 1010.04715  14.0%  29.6   80s\n",
      " 104059 47802 1020.77245   32   33 1174.00000 1010.53769  13.9%  29.5   85s\n",
      " 110528 50153     cutoff   52      1174.00000 1010.93662  13.9%  29.4   90s\n",
      " 116574 52862 1047.28751   35   29 1174.00000 1011.43285  13.8%  29.4   95s\n",
      " 122379 55317     cutoff   40      1174.00000 1011.81545  13.8%  29.3  100s\n",
      " 128435 57743 1150.22699   40   19 1174.00000 1012.15581  13.8%  29.3  105s\n",
      " 134591 60029 1024.44805   35   22 1174.00000 1012.50067  13.8%  29.2  110s\n",
      " 140929 62872 1038.82465   35   31 1174.00000 1012.80184  13.7%  29.2  115s\n",
      " 147068 65233     cutoff   45      1174.00000 1013.14451  13.7%  29.2  120s\n",
      " 153386 67539 1032.20459   35   32 1174.00000 1013.51270  13.7%  29.1  125s\n",
      " 159536 69923 1152.20905   52    7 1174.00000 1013.78249  13.6%  29.0  130s\n",
      " 165242 72012 1045.64936   37   31 1174.00000 1014.04478  13.6%  29.1  135s\n",
      " 170655 74273 1031.16303   34   24 1174.00000 1014.28557  13.6%  29.1  140s\n",
      " 177747 76599 1124.38737   45   28 1174.00000 1014.59480  13.6%  28.9  145s\n",
      " 183497 79157 1025.36893   35   32 1174.00000 1014.84594  13.6%  29.0  150s\n",
      " 185412 79814 1156.40870   44    5 1174.00000 1014.93696  13.5%  28.9  155s\n",
      " 189656 81618 1045.88747   41   37 1174.00000 1015.11449  13.5%  29.0  160s\n",
      " 196382 84094 1050.90503   42   31 1174.00000 1015.41952  13.5%  28.9  165s\n",
      " 201959 86085 1036.41411   36   17 1174.00000 1015.62712  13.5%  28.8  170s\n",
      " 207936 88465 1036.52544   43   22 1174.00000 1015.86596  13.5%  28.8  175s\n",
      " 214226 90750 1121.36038   42   21 1174.00000 1016.10308  13.4%  28.8  180s\n",
      " 221362 93429 1159.18264   42   13 1174.00000 1016.40025  13.4%  28.7  185s\n",
      " 227378 95682 1078.57891   43   21 1174.00000 1016.60561  13.4%  28.6  190s\n",
      " 233265 97916 1063.81942   34   21 1174.00000 1016.84313  13.4%  28.6  195s\n",
      " 238370 100123 1094.33819   40   23 1174.00000 1016.98593  13.4%  28.6  200s\n",
      " 243944 102325 1054.35560   39   11 1174.00000 1017.15399  13.4%  28.6  205s\n",
      " 250557 104830 1017.60509   37   25 1174.00000 1017.36115  13.3%  28.6  210s\n",
      " 256355 106912 1029.83993   35   21 1174.00000 1017.53640  13.3%  28.5  216s\n",
      " 260819 108720 1037.92985   38   27 1174.00000 1017.65480  13.3%  28.5  220s\n",
      " 266869 111104 1029.11269   35   44 1174.00000 1017.84762  13.3%  28.5  225s\n",
      " 272485 113139 1076.56676   40   22 1174.00000 1017.97494  13.3%  28.5  230s\n",
      " 275999 114473 1051.92922   37   38 1174.00000 1018.07474  13.3%  28.5  235s\n",
      " 281984 116782     cutoff   42      1174.00000 1018.26575  13.3%  28.5  240s\n",
      " 287239 118821 1038.62957   38   53 1174.00000 1018.42032  13.3%  28.5  245s\n",
      " 289058 119507 1124.18991   29   24 1174.00000 1018.46902  13.2%  28.5  250s\n",
      "\n",
      "Cutting planes:\n",
      "  Gomory: 71\n",
      "  Implied bound: 30\n",
      "  MIR: 287\n",
      "  Flow cover: 704\n",
      "  Inf proof: 811\n",
      "  Relax-and-lift: 16\n",
      "\n",
      "Explored 289825 nodes (8252778 simplex iterations) in 250.04 seconds\n",
      "Thread count was 8 (of 8 available processors)\n",
      "\n",
      "Solution count 10: 1174 1195 1203 ... 1520\n",
      "\n",
      "Time limit reached\n",
      "Best objective 1.174000000000e+03, best bound 1.018491568593e+03, gap 13.2460%\n"
     ]
    }
   ],
   "source": [
    "mdl.Params.MIPGAP = 0.05\n",
    "mdl.Params.MIPFocus = 2\n",
    "mdl.Params.TimeLimit = 250\n",
    "mdl.optimize()"
   ]
  },
  {
   "cell_type": "code",
   "execution_count": 45,
   "metadata": {},
   "outputs": [
    {
     "name": "stdout",
     "output_type": "stream",
     "text": [
      "\n",
      "    Variable            X \n",
      "-------------------------\n",
      "      x[1,2]            1 \n",
      "      x[1,3]            1 \n",
      "      x[1,4]            1 \n",
      "      x[1,5]            1 \n",
      "      x[1,6]            1 \n",
      "      x[1,7]            1 \n",
      "      x[1,9]            1 \n",
      "     x[1,13]            1 \n",
      "     x[1,14]            1 \n",
      "      x[2,3]            1 \n",
      "      x[2,4]            1 \n",
      "      x[2,5]            1 \n",
      "      x[2,6]            1 \n",
      "      x[2,7]            1 \n",
      "      x[2,9]            1 \n",
      "     x[2,13]            1 \n",
      "      x[5,9]            1 \n",
      "      x[6,7]            1 \n",
      "      x[6,9]            1 \n",
      "     x[6,13]            1 \n",
      "      x[7,9]            1 \n",
      "     x[7,13]            1 \n",
      "      x[8,9]            1 \n",
      "     x[8,11]            1 \n",
      "     x[8,13]            1 \n",
      "     x[8,14]            1 \n",
      "    x[10,11]            1 \n",
      "    x[10,13]            1 \n",
      "    x[10,14]            1 \n",
      "    x[11,13]            1 \n",
      "    x[11,14]            1 \n",
      "    x[12,13]            1 \n",
      "    x[12,14]            1 \n",
      "    x[12,15]            1 \n",
      "early_production[10]           21 \n",
      "early_production[11]           13 \n",
      "early_production[12]           26 \n",
      "early_production[15]           33 \n",
      "tardiness[1]            8 \n",
      "tardiness[2]           67 \n",
      "tardiness[3]          206 \n",
      "tardiness[4]          191 \n",
      "tardiness[5]          182 \n",
      "tardiness[6]           51 \n",
      "tardiness[7]          110 \n",
      "tardiness[8]           29 \n",
      "tardiness[9]          159 \n",
      "tardiness[13]          131 \n",
      "tardiness[14]           40 \n",
      "start_time[1]           52 \n",
      "start_time[2]           86 \n",
      "start_time[3]          255 \n",
      "start_time[4]          218 \n",
      "start_time[5]          166 \n",
      "start_time[6]          105 \n",
      "start_time[7]          122 \n",
      "start_time[8]           39 \n",
      "start_time[9]          187 \n",
      "start_time[10]           22 \n",
      "start_time[11]           47 \n",
      "start_time[13]          141 \n",
      "start_time[14]           72 \n",
      "start_time[15]            9 \n"
     ]
    }
   ],
   "source": [
    "mdl.printAttr('X')"
   ]
  },
  {
   "cell_type": "code",
   "execution_count": 46,
   "metadata": {},
   "outputs": [
    {
     "name": "stdout",
     "output_type": "stream",
     "text": [
      "[(1, 52.0), (2, 86.0), (3, 255.0), (4, 218.0), (5, 166.0), (6, 105.0), (7, 122.0), (8, 39.0), (9, 187.0), (10, 22.0), (11, 47.0), (12, 0.0), (13, 141.0), (14, 72.0), (15, 9.0)]\n"
     ]
    }
   ],
   "source": [
    "liste = []\n",
    "for i in start:\n",
    "    liste.append((i,round(start[i].x,0)))\n",
    "print(liste)"
   ]
  },
  {
   "cell_type": "code",
   "execution_count": 47,
   "metadata": {},
   "outputs": [
    {
     "name": "stdout",
     "output_type": "stream",
     "text": [
      "[(12, 0.0), (15, 9.0), (10, 22.0), (8, 39.0), (11, 47.0), (1, 52.0), (14, 72.0), (2, 86.0), (6, 105.0), (7, 122.0), (13, 141.0), (5, 166.0), (9, 187.0), (4, 218.0), (3, 255.0)]\n"
     ]
    }
   ],
   "source": [
    "def takeSecond(elem):\n",
    "    return elem[1]\n",
    "liste.sort(key = takeSecond)\n",
    "print(liste)"
   ]
  },
  {
   "cell_type": "code",
   "execution_count": 48,
   "metadata": {},
   "outputs": [],
   "source": [
    "a, b = map(list, zip(*liste))\n",
    "c = [PT[i] for i in a]\n",
    "f = [i+j for i,j in zip(b,c)]"
   ]
  },
  {
   "cell_type": "code",
   "execution_count": 49,
   "metadata": {},
   "outputs": [],
   "source": [
    "başlama = [start[k].x for k in a]"
   ]
  },
  {
   "cell_type": "code",
   "execution_count": 50,
   "metadata": {},
   "outputs": [
    {
     "data": {
      "image/png": "[encoded data removed]",
      "text/plain": [
       "<Figure size 864x576 with 1 Axes>"
      ]
     },
     "metadata": {
      "needs_background": "light"
     },
     "output_type": "display_data"
    }
   ],
   "source": [
    "#horizontal, every gap between jobs in the figure is setup times\n",
    "plt.figure(figsize=(12,8))\n",
    "for k in range(n):\n",
    "    plt.barh(1,c[k],left = başlama[k], height = 0.6)\n",
    "    #plt.xticks(range(1,n+1), a)\n",
    "    plt.xticks(başlama, rotation = 45)\n",
    "    plt.yticks(range(0,3), rotation = 45)\n",
    "    #plt.xticks(rotation = 45)\n",
    "    plt.xlabel(\"start times\")\n",
    "    plt.legend(a, loc = \"best\")"
   ]
  },
  {
   "cell_type": "code",
   "execution_count": 51,
   "metadata": {},
   "outputs": [
    {
     "name": "stdout",
     "output_type": "stream",
     "text": [
      "283.99999999999625\n"
     ]
    }
   ],
   "source": [
    "#completion time of all jobs, which means completion time of the last job\n",
    "print(başlama[-1]+c[-1])"
   ]
  },
  {
   "cell_type": "code",
   "execution_count": 52,
   "metadata": {},
   "outputs": [],
   "source": [
    "mdl1 = Model(\"JS\")#minimize the completion time of the last job"
   ]
  },
  {
   "cell_type": "code",
   "execution_count": 53,
   "metadata": {},
   "outputs": [],
   "source": [
    "x = mdl1.addVars(A,vtype = GRB.BINARY,name = \"x\")\n",
    "Zmax = mdl1.addVar()#for completion time of the last job, nini(max) objective\n",
    "start = mdl1.addVars(range(1,n+1),vtype = GRB.CONTINUOUS, name = \"start\")"
   ]
  },
  {
   "cell_type": "code",
   "execution_count": 54,
   "metadata": {},
   "outputs": [],
   "source": [
    "mdl1.setObjective(Zmax)#minimize the completion time of the last job"
   ]
  },
  {
   "cell_type": "code",
   "execution_count": 55,
   "metadata": {},
   "outputs": [
    {
     "data": {
      "text/plain": [
       "{(1, 2): <gurobi.Constr *Awaiting Model Update*>,\n",
       " (1, 3): <gurobi.Constr *Awaiting Model Update*>,\n",
       " (1, 4): <gurobi.Constr *Awaiting Model Update*>,\n",
       " (1, 5): <gurobi.Constr *Awaiting Model Update*>,\n",
       " (1, 6): <gurobi.Constr *Awaiting Model Update*>,\n",
       " (1, 7): <gurobi.Constr *Awaiting Model Update*>,\n",
       " (1, 8): <gurobi.Constr *Awaiting Model Update*>,\n",
       " (1, 9): <gurobi.Constr *Awaiting Model Update*>,\n",
       " (1, 10): <gurobi.Constr *Awaiting Model Update*>,\n",
       " (1, 11): <gurobi.Constr *Awaiting Model Update*>,\n",
       " (1, 12): <gurobi.Constr *Awaiting Model Update*>,\n",
       " (1, 13): <gurobi.Constr *Awaiting Model Update*>,\n",
       " (1, 14): <gurobi.Constr *Awaiting Model Update*>,\n",
       " (1, 15): <gurobi.Constr *Awaiting Model Update*>,\n",
       " (2, 3): <gurobi.Constr *Awaiting Model Update*>,\n",
       " (2, 4): <gurobi.Constr *Awaiting Model Update*>,\n",
       " (2, 5): <gurobi.Constr *Awaiting Model Update*>,\n",
       " (2, 6): <gurobi.Constr *Awaiting Model Update*>,\n",
       " (2, 7): <gurobi.Constr *Awaiting Model Update*>,\n",
       " (2, 8): <gurobi.Constr *Awaiting Model Update*>,\n",
       " (2, 9): <gurobi.Constr *Awaiting Model Update*>,\n",
       " (2, 10): <gurobi.Constr *Awaiting Model Update*>,\n",
       " (2, 11): <gurobi.Constr *Awaiting Model Update*>,\n",
       " (2, 12): <gurobi.Constr *Awaiting Model Update*>,\n",
       " (2, 13): <gurobi.Constr *Awaiting Model Update*>,\n",
       " (2, 14): <gurobi.Constr *Awaiting Model Update*>,\n",
       " (2, 15): <gurobi.Constr *Awaiting Model Update*>,\n",
       " (3, 4): <gurobi.Constr *Awaiting Model Update*>,\n",
       " (3, 5): <gurobi.Constr *Awaiting Model Update*>,\n",
       " (3, 6): <gurobi.Constr *Awaiting Model Update*>,\n",
       " (3, 7): <gurobi.Constr *Awaiting Model Update*>,\n",
       " (3, 8): <gurobi.Constr *Awaiting Model Update*>,\n",
       " (3, 9): <gurobi.Constr *Awaiting Model Update*>,\n",
       " (3, 10): <gurobi.Constr *Awaiting Model Update*>,\n",
       " (3, 11): <gurobi.Constr *Awaiting Model Update*>,\n",
       " (3, 12): <gurobi.Constr *Awaiting Model Update*>,\n",
       " (3, 13): <gurobi.Constr *Awaiting Model Update*>,\n",
       " (3, 14): <gurobi.Constr *Awaiting Model Update*>,\n",
       " (3, 15): <gurobi.Constr *Awaiting Model Update*>,\n",
       " (4, 5): <gurobi.Constr *Awaiting Model Update*>,\n",
       " (4, 6): <gurobi.Constr *Awaiting Model Update*>,\n",
       " (4, 7): <gurobi.Constr *Awaiting Model Update*>,\n",
       " (4, 8): <gurobi.Constr *Awaiting Model Update*>,\n",
       " (4, 9): <gurobi.Constr *Awaiting Model Update*>,\n",
       " (4, 10): <gurobi.Constr *Awaiting Model Update*>,\n",
       " (4, 11): <gurobi.Constr *Awaiting Model Update*>,\n",
       " (4, 12): <gurobi.Constr *Awaiting Model Update*>,\n",
       " (4, 13): <gurobi.Constr *Awaiting Model Update*>,\n",
       " (4, 14): <gurobi.Constr *Awaiting Model Update*>,\n",
       " (4, 15): <gurobi.Constr *Awaiting Model Update*>,\n",
       " (5, 6): <gurobi.Constr *Awaiting Model Update*>,\n",
       " (5, 7): <gurobi.Constr *Awaiting Model Update*>,\n",
       " (5, 8): <gurobi.Constr *Awaiting Model Update*>,\n",
       " (5, 9): <gurobi.Constr *Awaiting Model Update*>,\n",
       " (5, 10): <gurobi.Constr *Awaiting Model Update*>,\n",
       " (5, 11): <gurobi.Constr *Awaiting Model Update*>,\n",
       " (5, 12): <gurobi.Constr *Awaiting Model Update*>,\n",
       " (5, 13): <gurobi.Constr *Awaiting Model Update*>,\n",
       " (5, 14): <gurobi.Constr *Awaiting Model Update*>,\n",
       " (5, 15): <gurobi.Constr *Awaiting Model Update*>,\n",
       " (6, 7): <gurobi.Constr *Awaiting Model Update*>,\n",
       " (6, 8): <gurobi.Constr *Awaiting Model Update*>,\n",
       " (6, 9): <gurobi.Constr *Awaiting Model Update*>,\n",
       " (6, 10): <gurobi.Constr *Awaiting Model Update*>,\n",
       " (6, 11): <gurobi.Constr *Awaiting Model Update*>,\n",
       " (6, 12): <gurobi.Constr *Awaiting Model Update*>,\n",
       " (6, 13): <gurobi.Constr *Awaiting Model Update*>,\n",
       " (6, 14): <gurobi.Constr *Awaiting Model Update*>,\n",
       " (6, 15): <gurobi.Constr *Awaiting Model Update*>,\n",
       " (7, 8): <gurobi.Constr *Awaiting Model Update*>,\n",
       " (7, 9): <gurobi.Constr *Awaiting Model Update*>,\n",
       " (7, 10): <gurobi.Constr *Awaiting Model Update*>,\n",
       " (7, 11): <gurobi.Constr *Awaiting Model Update*>,\n",
       " (7, 12): <gurobi.Constr *Awaiting Model Update*>,\n",
       " (7, 13): <gurobi.Constr *Awaiting Model Update*>,\n",
       " (7, 14): <gurobi.Constr *Awaiting Model Update*>,\n",
       " (7, 15): <gurobi.Constr *Awaiting Model Update*>,\n",
       " (8, 9): <gurobi.Constr *Awaiting Model Update*>,\n",
       " (8, 10): <gurobi.Constr *Awaiting Model Update*>,\n",
       " (8, 11): <gurobi.Constr *Awaiting Model Update*>,\n",
       " (8, 12): <gurobi.Constr *Awaiting Model Update*>,\n",
       " (8, 13): <gurobi.Constr *Awaiting Model Update*>,\n",
       " (8, 14): <gurobi.Constr *Awaiting Model Update*>,\n",
       " (8, 15): <gurobi.Constr *Awaiting Model Update*>,\n",
       " (9, 10): <gurobi.Constr *Awaiting Model Update*>,\n",
       " (9, 11): <gurobi.Constr *Awaiting Model Update*>,\n",
       " (9, 12): <gurobi.Constr *Awaiting Model Update*>,\n",
       " (9, 13): <gurobi.Constr *Awaiting Model Update*>,\n",
       " (9, 14): <gurobi.Constr *Awaiting Model Update*>,\n",
       " (9, 15): <gurobi.Constr *Awaiting Model Update*>,\n",
       " (10, 11): <gurobi.Constr *Awaiting Model Update*>,\n",
       " (10, 12): <gurobi.Constr *Awaiting Model Update*>,\n",
       " (10, 13): <gurobi.Constr *Awaiting Model Update*>,\n",
       " (10, 14): <gurobi.Constr *Awaiting Model Update*>,\n",
       " (10, 15): <gurobi.Constr *Awaiting Model Update*>,\n",
       " (11, 12): <gurobi.Constr *Awaiting Model Update*>,\n",
       " (11, 13): <gurobi.Constr *Awaiting Model Update*>,\n",
       " (11, 14): <gurobi.Constr *Awaiting Model Update*>,\n",
       " (11, 15): <gurobi.Constr *Awaiting Model Update*>,\n",
       " (12, 13): <gurobi.Constr *Awaiting Model Update*>,\n",
       " (12, 14): <gurobi.Constr *Awaiting Model Update*>,\n",
       " (12, 15): <gurobi.Constr *Awaiting Model Update*>,\n",
       " (13, 14): <gurobi.Constr *Awaiting Model Update*>,\n",
       " (13, 15): <gurobi.Constr *Awaiting Model Update*>,\n",
       " (14, 15): <gurobi.Constr *Awaiting Model Update*>}"
      ]
     },
     "execution_count": 55,
     "metadata": {},
     "output_type": "execute_result"
    }
   ],
   "source": [
    "mdl1.addConstrs((start[i]+B[i,j]-start[j] -M*(1-x[i,j])+PT[i]) <= 0 for i,j in A)"
   ]
  },
  {
   "cell_type": "code",
   "execution_count": 56,
   "metadata": {},
   "outputs": [
    {
     "data": {
      "text/plain": [
       "{(1, 2): <gurobi.Constr *Awaiting Model Update*>,\n",
       " (1, 3): <gurobi.Constr *Awaiting Model Update*>,\n",
       " (1, 4): <gurobi.Constr *Awaiting Model Update*>,\n",
       " (1, 5): <gurobi.Constr *Awaiting Model Update*>,\n",
       " (1, 6): <gurobi.Constr *Awaiting Model Update*>,\n",
       " (1, 7): <gurobi.Constr *Awaiting Model Update*>,\n",
       " (1, 8): <gurobi.Constr *Awaiting Model Update*>,\n",
       " (1, 9): <gurobi.Constr *Awaiting Model Update*>,\n",
       " (1, 10): <gurobi.Constr *Awaiting Model Update*>,\n",
       " (1, 11): <gurobi.Constr *Awaiting Model Update*>,\n",
       " (1, 12): <gurobi.Constr *Awaiting Model Update*>,\n",
       " (1, 13): <gurobi.Constr *Awaiting Model Update*>,\n",
       " (1, 14): <gurobi.Constr *Awaiting Model Update*>,\n",
       " (1, 15): <gurobi.Constr *Awaiting Model Update*>,\n",
       " (2, 3): <gurobi.Constr *Awaiting Model Update*>,\n",
       " (2, 4): <gurobi.Constr *Awaiting Model Update*>,\n",
       " (2, 5): <gurobi.Constr *Awaiting Model Update*>,\n",
       " (2, 6): <gurobi.Constr *Awaiting Model Update*>,\n",
       " (2, 7): <gurobi.Constr *Awaiting Model Update*>,\n",
       " (2, 8): <gurobi.Constr *Awaiting Model Update*>,\n",
       " (2, 9): <gurobi.Constr *Awaiting Model Update*>,\n",
       " (2, 10): <gurobi.Constr *Awaiting Model Update*>,\n",
       " (2, 11): <gurobi.Constr *Awaiting Model Update*>,\n",
       " (2, 12): <gurobi.Constr *Awaiting Model Update*>,\n",
       " (2, 13): <gurobi.Constr *Awaiting Model Update*>,\n",
       " (2, 14): <gurobi.Constr *Awaiting Model Update*>,\n",
       " (2, 15): <gurobi.Constr *Awaiting Model Update*>,\n",
       " (3, 4): <gurobi.Constr *Awaiting Model Update*>,\n",
       " (3, 5): <gurobi.Constr *Awaiting Model Update*>,\n",
       " (3, 6): <gurobi.Constr *Awaiting Model Update*>,\n",
       " (3, 7): <gurobi.Constr *Awaiting Model Update*>,\n",
       " (3, 8): <gurobi.Constr *Awaiting Model Update*>,\n",
       " (3, 9): <gurobi.Constr *Awaiting Model Update*>,\n",
       " (3, 10): <gurobi.Constr *Awaiting Model Update*>,\n",
       " (3, 11): <gurobi.Constr *Awaiting Model Update*>,\n",
       " (3, 12): <gurobi.Constr *Awaiting Model Update*>,\n",
       " (3, 13): <gurobi.Constr *Awaiting Model Update*>,\n",
       " (3, 14): <gurobi.Constr *Awaiting Model Update*>,\n",
       " (3, 15): <gurobi.Constr *Awaiting Model Update*>,\n",
       " (4, 5): <gurobi.Constr *Awaiting Model Update*>,\n",
       " (4, 6): <gurobi.Constr *Awaiting Model Update*>,\n",
       " (4, 7): <gurobi.Constr *Awaiting Model Update*>,\n",
       " (4, 8): <gurobi.Constr *Awaiting Model Update*>,\n",
       " (4, 9): <gurobi.Constr *Awaiting Model Update*>,\n",
       " (4, 10): <gurobi.Constr *Awaiting Model Update*>,\n",
       " (4, 11): <gurobi.Constr *Awaiting Model Update*>,\n",
       " (4, 12): <gurobi.Constr *Awaiting Model Update*>,\n",
       " (4, 13): <gurobi.Constr *Awaiting Model Update*>,\n",
       " (4, 14): <gurobi.Constr *Awaiting Model Update*>,\n",
       " (4, 15): <gurobi.Constr *Awaiting Model Update*>,\n",
       " (5, 6): <gurobi.Constr *Awaiting Model Update*>,\n",
       " (5, 7): <gurobi.Constr *Awaiting Model Update*>,\n",
       " (5, 8): <gurobi.Constr *Awaiting Model Update*>,\n",
       " (5, 9): <gurobi.Constr *Awaiting Model Update*>,\n",
       " (5, 10): <gurobi.Constr *Awaiting Model Update*>,\n",
       " (5, 11): <gurobi.Constr *Awaiting Model Update*>,\n",
       " (5, 12): <gurobi.Constr *Awaiting Model Update*>,\n",
       " (5, 13): <gurobi.Constr *Awaiting Model Update*>,\n",
       " (5, 14): <gurobi.Constr *Awaiting Model Update*>,\n",
       " (5, 15): <gurobi.Constr *Awaiting Model Update*>,\n",
       " (6, 7): <gurobi.Constr *Awaiting Model Update*>,\n",
       " (6, 8): <gurobi.Constr *Awaiting Model Update*>,\n",
       " (6, 9): <gurobi.Constr *Awaiting Model Update*>,\n",
       " (6, 10): <gurobi.Constr *Awaiting Model Update*>,\n",
       " (6, 11): <gurobi.Constr *Awaiting Model Update*>,\n",
       " (6, 12): <gurobi.Constr *Awaiting Model Update*>,\n",
       " (6, 13): <gurobi.Constr *Awaiting Model Update*>,\n",
       " (6, 14): <gurobi.Constr *Awaiting Model Update*>,\n",
       " (6, 15): <gurobi.Constr *Awaiting Model Update*>,\n",
       " (7, 8): <gurobi.Constr *Awaiting Model Update*>,\n",
       " (7, 9): <gurobi.Constr *Awaiting Model Update*>,\n",
       " (7, 10): <gurobi.Constr *Awaiting Model Update*>,\n",
       " (7, 11): <gurobi.Constr *Awaiting Model Update*>,\n",
       " (7, 12): <gurobi.Constr *Awaiting Model Update*>,\n",
       " (7, 13): <gurobi.Constr *Awaiting Model Update*>,\n",
       " (7, 14): <gurobi.Constr *Awaiting Model Update*>,\n",
       " (7, 15): <gurobi.Constr *Awaiting Model Update*>,\n",
       " (8, 9): <gurobi.Constr *Awaiting Model Update*>,\n",
       " (8, 10): <gurobi.Constr *Awaiting Model Update*>,\n",
       " (8, 11): <gurobi.Constr *Awaiting Model Update*>,\n",
       " (8, 12): <gurobi.Constr *Awaiting Model Update*>,\n",
       " (8, 13): <gurobi.Constr *Awaiting Model Update*>,\n",
       " (8, 14): <gurobi.Constr *Awaiting Model Update*>,\n",
       " (8, 15): <gurobi.Constr *Awaiting Model Update*>,\n",
       " (9, 10): <gurobi.Constr *Awaiting Model Update*>,\n",
       " (9, 11): <gurobi.Constr *Awaiting Model Update*>,\n",
       " (9, 12): <gurobi.Constr *Awaiting Model Update*>,\n",
       " (9, 13): <gurobi.Constr *Awaiting Model Update*>,\n",
       " (9, 14): <gurobi.Constr *Awaiting Model Update*>,\n",
       " (9, 15): <gurobi.Constr *Awaiting Model Update*>,\n",
       " (10, 11): <gurobi.Constr *Awaiting Model Update*>,\n",
       " (10, 12): <gurobi.Constr *Awaiting Model Update*>,\n",
       " (10, 13): <gurobi.Constr *Awaiting Model Update*>,\n",
       " (10, 14): <gurobi.Constr *Awaiting Model Update*>,\n",
       " (10, 15): <gurobi.Constr *Awaiting Model Update*>,\n",
       " (11, 12): <gurobi.Constr *Awaiting Model Update*>,\n",
       " (11, 13): <gurobi.Constr *Awaiting Model Update*>,\n",
       " (11, 14): <gurobi.Constr *Awaiting Model Update*>,\n",
       " (11, 15): <gurobi.Constr *Awaiting Model Update*>,\n",
       " (12, 13): <gurobi.Constr *Awaiting Model Update*>,\n",
       " (12, 14): <gurobi.Constr *Awaiting Model Update*>,\n",
       " (12, 15): <gurobi.Constr *Awaiting Model Update*>,\n",
       " (13, 14): <gurobi.Constr *Awaiting Model Update*>,\n",
       " (13, 15): <gurobi.Constr *Awaiting Model Update*>,\n",
       " (14, 15): <gurobi.Constr *Awaiting Model Update*>}"
      ]
     },
     "execution_count": 56,
     "metadata": {},
     "output_type": "execute_result"
    }
   ],
   "source": [
    "mdl1.addConstrs((start[j]+B[i,j]-start[i] -M*x[i,j]+PT[j]) <= 0 for i,j in A)"
   ]
  },
  {
   "cell_type": "code",
   "execution_count": 57,
   "metadata": {},
   "outputs": [
    {
     "data": {
      "text/plain": [
       "{1: <gurobi.Constr *Awaiting Model Update*>,\n",
       " 2: <gurobi.Constr *Awaiting Model Update*>,\n",
       " 3: <gurobi.Constr *Awaiting Model Update*>,\n",
       " 4: <gurobi.Constr *Awaiting Model Update*>,\n",
       " 5: <gurobi.Constr *Awaiting Model Update*>,\n",
       " 6: <gurobi.Constr *Awaiting Model Update*>,\n",
       " 7: <gurobi.Constr *Awaiting Model Update*>,\n",
       " 8: <gurobi.Constr *Awaiting Model Update*>,\n",
       " 9: <gurobi.Constr *Awaiting Model Update*>,\n",
       " 10: <gurobi.Constr *Awaiting Model Update*>,\n",
       " 11: <gurobi.Constr *Awaiting Model Update*>,\n",
       " 12: <gurobi.Constr *Awaiting Model Update*>,\n",
       " 13: <gurobi.Constr *Awaiting Model Update*>,\n",
       " 14: <gurobi.Constr *Awaiting Model Update*>,\n",
       " 15: <gurobi.Constr *Awaiting Model Update*>}"
      ]
     },
     "execution_count": 57,
     "metadata": {},
     "output_type": "execute_result"
    }
   ],
   "source": [
    "mdl1.addConstrs(Zmax >= start[i] + PT[i] for i in range(1,n+1))#zmax must be greater or equal than start time plus process time of every job"
   ]
  },
  {
   "cell_type": "code",
   "execution_count": 58,
   "metadata": {},
   "outputs": [
    {
     "data": {
      "text/plain": [
       "{1: <gurobi.Constr *Awaiting Model Update*>,\n",
       " 2: <gurobi.Constr *Awaiting Model Update*>,\n",
       " 3: <gurobi.Constr *Awaiting Model Update*>,\n",
       " 4: <gurobi.Constr *Awaiting Model Update*>,\n",
       " 5: <gurobi.Constr *Awaiting Model Update*>,\n",
       " 6: <gurobi.Constr *Awaiting Model Update*>,\n",
       " 7: <gurobi.Constr *Awaiting Model Update*>,\n",
       " 8: <gurobi.Constr *Awaiting Model Update*>,\n",
       " 9: <gurobi.Constr *Awaiting Model Update*>,\n",
       " 10: <gurobi.Constr *Awaiting Model Update*>,\n",
       " 11: <gurobi.Constr *Awaiting Model Update*>,\n",
       " 12: <gurobi.Constr *Awaiting Model Update*>,\n",
       " 13: <gurobi.Constr *Awaiting Model Update*>,\n",
       " 14: <gurobi.Constr *Awaiting Model Update*>,\n",
       " 15: <gurobi.Constr *Awaiting Model Update*>}"
      ]
     },
     "execution_count": 58,
     "metadata": {},
     "output_type": "execute_result"
    }
   ],
   "source": [
    "mdl1.addConstrs(start[i] <= M for i in range(1,n+1))"
   ]
  },
  {
   "cell_type": "code",
   "execution_count": 59,
   "metadata": {},
   "outputs": [
    {
     "name": "stdout",
     "output_type": "stream",
     "text": [
      "Changed value of parameter MIPGAP to 0.05\n",
      "   Prev: 0.0001  Min: 0.0  Max: inf  Default: 0.0001\n",
      "Changed value of parameter MIPFocus to 2\n",
      "   Prev: 0  Min: 0  Max: 3  Default: 0\n",
      "Changed value of parameter TimeLimit to 250.0\n",
      "   Prev: inf  Min: 0.0  Max: inf  Default: inf\n",
      "Gurobi Optimizer version 9.1.0 build v9.1.0rc0 (win64)\n",
      "Thread count: 4 physical cores, 8 logical processors, using up to 8 threads\n",
      "Optimize a model with 240 rows, 121 columns and 675 nonzeros\n",
      "Model fingerprint: 0x1c457378\n",
      "Variable types: 16 continuous, 105 integer (105 binary)\n",
      "Coefficient statistics:\n",
      "  Matrix range     [1e+00, 4e+02]\n",
      "  Objective range  [1e+00, 1e+00]\n",
      "  Bounds range     [1e+00, 1e+00]\n",
      "  RHS range        [4e+00, 4e+02]\n",
      "Presolve removed 15 rows and 0 columns\n",
      "Presolve time: 0.00s\n",
      "Presolved: 225 rows, 121 columns, 660 nonzeros\n",
      "Variable types: 16 continuous, 105 integer (105 binary)\n",
      "Found heuristic solution: objective 343.0000000\n",
      "Presolve removed 105 rows and 0 columns\n",
      "Presolved: 120 rows, 226 columns, 450 nonzeros\n",
      "\n",
      "\n",
      "Root relaxation: objective 6.600000e+01, 91 iterations, 0.00 seconds\n",
      "\n",
      "    Nodes    |    Current Node    |     Objective Bounds      |     Work\n",
      " Expl Unexpl |  Obj  Depth IntInf | Incumbent    BestBd   Gap | It/Node Time\n",
      "\n",
      "     0     0   66.00000    0   50  343.00000   66.00000  80.8%     -    0s\n",
      "     0     0  143.66249    0   97  343.00000  143.66249  58.1%     -    0s\n",
      "H    0     0                     339.0000000  143.66249  57.6%     -    0s\n",
      "H    0     0                     333.0000000  143.66249  56.9%     -    0s\n",
      "H    0     0                     311.0000000  143.66249  53.8%     -    0s\n",
      "     0     0  143.66249    0   97  311.00000  143.66249  53.8%     -    0s\n",
      "     0     0  145.33770    0  105  311.00000  145.33770  53.3%     -    0s\n",
      "     0     0  145.49430    0  101  311.00000  145.49430  53.2%     -    0s\n",
      "     0     0  145.55800    0  102  311.00000  145.55800  53.2%     -    0s\n",
      "     0     0  145.60570    0  102  311.00000  145.60570  53.2%     -    0s\n",
      "     0     0  145.60570    0  102  311.00000  145.60570  53.2%     -    0s\n",
      "H    0     0                     310.0000000  145.60570  53.0%     -    0s\n",
      "H    0     0                     308.0000000  145.60570  52.7%     -    0s\n",
      "H    0     0                     307.0000000  145.60570  52.6%     -    0s\n",
      "     0     0  150.50233    0   96  307.00000  150.50233  51.0%     -    0s\n",
      "     0     0  151.27482    0   99  307.00000  151.27482  50.7%     -    0s\n",
      "     0     0  151.55826    0  102  307.00000  151.55826  50.6%     -    0s\n",
      "     0     0  151.61259    0  102  307.00000  151.61259  50.6%     -    0s\n",
      "     0     0  152.72136    0  102  307.00000  152.72136  50.3%     -    0s\n",
      "     0     0  152.97102    0  105  307.00000  152.97102  50.2%     -    0s\n",
      "     0     0  153.03701    0  103  307.00000  153.03701  50.2%     -    0s\n",
      "     0     0  153.05192    0  105  307.00000  153.05192  50.1%     -    0s\n",
      "     0     0  153.60800    0  100  307.00000  153.60800  50.0%     -    0s\n",
      "     0     0  153.69158    0  103  307.00000  153.69158  49.9%     -    0s\n",
      "     0     0  153.69292    0  103  307.00000  153.69292  49.9%     -    0s\n",
      "     0     0  153.71987    0  102  307.00000  153.71987  49.9%     -    0s\n",
      "     0     0  153.71987    0  102  307.00000  153.71987  49.9%     -    0s\n",
      "H    0     0                     304.0000000  153.71987  49.4%     -    0s\n",
      "     0     2  153.71987    0  102  304.00000  153.71987  49.4%     -    0s\n",
      "H  166   149                     301.0000000  159.51660  47.0%  63.5    0s\n",
      "H  174   149                     299.0000000  159.51660  46.6%  61.2    0s\n",
      "H  214   211                     288.0000000  159.51660  44.6%  54.9    0s\n",
      "H  405   337                     287.0000000  159.51660  44.4%  44.3    0s\n",
      "H  545   463                     285.0000000  159.51660  44.0%  41.7    0s\n",
      "H 1143   790                     285.0000000  164.25166  42.4%  51.1    3s\n",
      "H 1302   837                     284.0000000  164.25166  42.2%  55.4    4s\n",
      "  1817   948  279.00000   35    9  284.00000  164.25166  42.2%  57.6    5s\n",
      "H 1841   919                     281.0000000  164.25166  41.5%  57.8    5s\n",
      "* 2235  1008              48     280.0000000  164.25166  41.3%  64.2    5s\n",
      "  5789  2674  248.03096   36   15  280.00000  168.51561  39.8%  72.8   10s\n",
      "H 6126  2779                     280.0000000  168.79132  39.7%  73.1   10s\n",
      "H 7790  3509                     274.0000000  170.53563  37.8%  73.7   12s\n",
      "  9733  4511  226.33442   29   77  274.00000  172.36731  37.1%  74.2   15s\n",
      " 14177  6294  205.36884   22   82  274.00000  175.83678  35.8%  74.8   23s\n",
      " 15401  6936  247.19842   25   46  274.00000  176.68584  35.5%  74.8   25s\n",
      " 20328  8850 infeasible   27       274.00000  180.00561  34.3%  75.5   30s\n",
      " 24186 10376  233.63187   23   54  274.00000  182.11217  33.5%  75.3   35s\n",
      " 30105 12532  238.74984   25   60  274.00000  185.15413  32.4%  74.9   40s\n",
      " 34906 14176 infeasible   33       274.00000  187.29111  31.6%  74.9   45s\n",
      " 39967 15686  259.00000   39    6  274.00000  189.12543  31.0%  74.5   50s\n",
      " 44876 17195     cutoff   32       274.00000  191.23808  30.2%  74.3   55s\n",
      " 49542 18762  251.84444   30   17  274.00000  193.05680  29.5%  74.3   60s\n",
      " 54542 20526  222.98802   25   68  274.00000  194.50518  29.0%  73.9   65s\n",
      " 59290 21955  270.00000   35    8  274.00000  196.26158  28.4%  73.4   70s\n",
      " 64406 23478  244.56916   29   58  274.00000  197.70720  27.8%  73.0   75s\n",
      " 69227 24987  220.52292   26   78  274.00000  199.19804  27.3%  72.7   80s\n",
      " 75139 26718  252.38497   29   30  274.00000  200.67210  26.8%  72.1   85s\n",
      " 80133 28195  232.65017   29   64  274.00000  201.93340  26.3%  71.6   90s\n",
      " 85855 29777  246.00000   26   43  274.00000  203.20719  25.8%  71.1   95s\n",
      " 90584 31148  242.00000   27   59  274.00000  204.23270  25.5%  70.9  100s\n",
      " 95653 32433 infeasible   30       274.00000  205.23517  25.1%  70.6  105s\n",
      " 100461 33748  221.76285   26   62  274.00000  206.34612  24.7%  70.4  110s\n",
      " 105485 35180  250.84483   31   25  274.00000  207.20574  24.4%  70.0  115s\n",
      " 110265 36432 infeasible   38       274.00000  208.13819  24.0%  69.7  120s\n",
      "H111097 36417                     273.0000000  208.29499  23.7%  69.6  121s\n",
      "H113651 37148                     273.0000000  208.69226  23.6%  69.5  123s\n",
      " 114664 37580  230.00000   25   71  273.00000  208.91196  23.5%  69.4  125s\n",
      " 118706 38574  212.30503   26   68  273.00000  209.62609  23.2%  69.2  130s\n",
      " 123908 40027 infeasible   26       273.00000  210.28637  23.0%  68.9  135s\n",
      " 127721 41125 infeasible   36       273.00000  210.91468  22.7%  68.7  140s\n",
      " 133937 42607  264.00000   42    5  273.00000  211.63095  22.5%  68.2  145s\n",
      " 139308 43908  237.56461   28   65  273.00000  212.26946  22.2%  68.0  150s\n",
      " 144328 45246  237.75041   26   53  273.00000  212.90832  22.0%  67.7  155s\n",
      " 145233 45461  256.55986   26   31  273.00000  213.00000  22.0%  67.7  160s\n",
      " 150289 46830  259.00000   32    7  273.00000  213.48721  21.8%  67.6  165s\n",
      " 156270 48363  271.00000   34    5  273.00000  214.15572  21.6%  67.3  170s\n",
      " 160718 49504  256.00000   31   41  273.00000  214.62936  21.4%  67.2  175s\n",
      " 165745 50754  267.00000   37   24  273.00000  215.19829  21.2%  67.0  180s\n",
      " 169740 51807  251.85737   28   50  273.00000  215.70668  21.0%  66.9  185s\n",
      " 174631 52994 infeasible   36       273.00000  216.25042  20.8%  66.8  190s\n",
      " 179645 54257  247.54545   30   53  273.00000  216.75333  20.6%  66.6  195s\n",
      " 184273 55451 infeasible   34       273.00000  217.13629  20.5%  66.5  200s\n",
      " 190053 56943  265.00000   26    7  273.00000  217.70804  20.3%  66.3  205s\n",
      " 195191 58323  267.00000   37    7  273.00000  218.18777  20.1%  66.2  210s\n",
      " 199305 59235  255.00000   33   30  273.00000  218.61070  19.9%  66.0  215s\n",
      " 204918 60712  238.87577   30   56  273.00000  219.09201  19.7%  65.8  220s\n",
      " 208685 61683  244.00000   29   32  273.00000  219.51314  19.6%  65.7  225s\n",
      " 211502 62110  258.00000   32   28  273.00000  219.82740  19.5%  65.6  232s\n",
      " 213426 62757  249.47092   28   36  273.00000  220.00000  19.4%  65.6  235s\n",
      " 218777 63868  260.00000   32    6  273.00000  220.50989  19.2%  65.4  240s\n",
      " 224601 65228  239.79023   26   37  273.00000  221.00000  19.0%  65.2  245s\n",
      " 229439 66381 infeasible   40       273.00000  221.40074  18.9%  65.1  250s\n",
      "\n",
      "Cutting planes:\n",
      "  Gomory: 157\n",
      "  MIR: 133\n"
     ]
    },
    {
     "name": "stdout",
     "output_type": "stream",
     "text": [
      "  StrongCG: 2\n",
      "  Flow cover: 889\n",
      "  Inf proof: 525\n",
      "  RLT: 5\n",
      "  Relax-and-lift: 5\n",
      "\n",
      "Explored 230112 nodes (14976155 simplex iterations) in 250.03 seconds\n",
      "Thread count was 8 (of 8 available processors)\n",
      "\n",
      "Solution count 10: 273 274 280 ... 299\n",
      "\n",
      "Time limit reached\n",
      "Best objective 2.729999999726e+02, best bound 2.214533705012e+02, gap 18.8815%\n"
     ]
    }
   ],
   "source": [
    "mdl1.Params.MIPGAP = 0.05\n",
    "mdl1.Params.MIPFocus = 2\n",
    "mdl1.Params.TimeLimit = 250\n",
    "mdl1.optimize()"
   ]
  },
  {
   "cell_type": "code",
   "execution_count": 60,
   "metadata": {},
   "outputs": [
    {
     "name": "stdout",
     "output_type": "stream",
     "text": [
      "[(1, 155.0), (2, 189.0), (3, 209.0), (4, 16.0), (5, 136.0), (6, 76.0), (7, 116.0), (8, 9.0), (9, 47.0), (10, 261.0), (11, 0.0), (12, 239.0), (13, 93.0), (14, 175.0), (15, 248.0)]\n"
     ]
    }
   ],
   "source": [
    "liste = []\n",
    "for i in start:\n",
    "    liste.append((i,round(start[i].x,0)))\n",
    "print(liste)"
   ]
  },
  {
   "cell_type": "code",
   "execution_count": 61,
   "metadata": {},
   "outputs": [
    {
     "name": "stdout",
     "output_type": "stream",
     "text": [
      "[(11, 0.0), (8, 9.0), (4, 16.0), (9, 47.0), (6, 76.0), (13, 93.0), (7, 116.0), (5, 136.0), (1, 155.0), (14, 175.0), (2, 189.0), (3, 209.0), (12, 239.0), (15, 248.0), (10, 261.0)]\n"
     ]
    }
   ],
   "source": [
    "def takeSecond(elem):\n",
    "    return elem[1]\n",
    "liste.sort(key = takeSecond)\n",
    "print(liste)"
   ]
  },
  {
   "cell_type": "code",
   "execution_count": 62,
   "metadata": {},
   "outputs": [],
   "source": [
    "a, b = map(list, zip(*liste))\n",
    "c = [PT[i] for i in a]\n",
    "f = [i+j for i,j in zip(b,c)]"
   ]
  },
  {
   "cell_type": "code",
   "execution_count": 63,
   "metadata": {},
   "outputs": [],
   "source": [
    "başlama = [start[k].x for k in a]"
   ]
  },
  {
   "cell_type": "code",
   "execution_count": 64,
   "metadata": {},
   "outputs": [
    {
     "data": {
      "image/png": "[encoded data removed]",
      "text/plain": [
       "<Figure size 864x576 with 1 Axes>"
      ]
     },
     "metadata": {
      "needs_background": "light"
     },
     "output_type": "display_data"
    }
   ],
   "source": [
    "#horizontal, every gap between jobs in the figure is setup times\n",
    "plt.figure(figsize=(12,8))\n",
    "for k in range(n):\n",
    "    plt.barh(1,c[k],left = başlama[k], height = 0.6,hatch = \"--\")\n",
    "    #plt.xticks(range(1,n+1), a)\n",
    "    plt.xticks(başlama, rotation = 45)\n",
    "    plt.yticks(range(0,3), rotation = 45)\n",
    "    #plt.xticks(rotation = 45)\n",
    "    plt.xlabel(\"start times\")\n",
    "    plt.legend(a, loc = \"best\")"
   ]
  }
 ],
 "metadata": {
  "kernelspec": {
   "display_name": "Python 3",
   "language": "python",
   "name": "python3"
  },
  "language_info": {
   "codemirror_mode": {
    "name": "ipython",
    "version": 3
   },
   "file_extension": ".py",
   "mimetype": "text/x-python",
   "name": "python",
   "nbconvert_exporter": "python",
   "pygments_lexer": "ipython3",
   "version": "3.8.3"
  }
 },
 "nbformat": 4,
 "nbformat_minor": 4
}
