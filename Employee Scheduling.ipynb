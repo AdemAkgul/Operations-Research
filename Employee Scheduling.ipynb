{
 "cells": [
  {
   "cell_type": "markdown",
   "metadata": {},
   "source": [
    "Employee scheduling explained in this notebook is not a hard problem. Of course, you can face a very challenging problem regarding employee scheduling (workforce optimization). In this model, you have to solve a 2-day scheduling problem (suppose it is valentine's day and you made some campaigns for this special day). You used historical data (past valentine's day) and predicted employee requirements for every 2-hour period. Every employee can be worked at most 8 hours because of union or government rules. How can you optimize this process? The trickiest part is identifying the appropriate decision variables. You need to identify the number or workers who start to work as variables in a particular period. If you choose the number of employees working in a particular period as a variable, you will absolutely fail."
   ]
  },
  {
   "cell_type": "code",
   "execution_count": 61,
   "metadata": {},
   "outputs": [],
   "source": [
    "import gurobipy as gb\n",
    "import numpy as np\n",
    "import matplotlib.pyplot as plt"
   ]
  },
  {
   "cell_type": "code",
   "execution_count": 62,
   "metadata": {},
   "outputs": [],
   "source": [
    "g = 2 #number of days\n",
    "n = 12 #number or time slots in a day (number of shifts), \n",
    "t = 8 #maximum hour of working time in a day.\n",
    "S = int((t/(24/n))) # Calculated for how many time slots an employee work through. Ee have 2-hour-shift and \n",
    "#an employee must work 1th two-hour priod through 4th 2-hour period\n",
    "min_requirement = {0:10,1:10,2:10,3:12,4:12,5:13,6:14,7:14,8:15,9:15,10:16,11:16,12:16,13:17,14:17,15:20,16:18,17:18,18:20,19:21,\n",
    "20:19,21:25,22:25,23:25,24:26,25:22,26:15}#The first three time slots are in normal setup. Others are in campaign period\n",
    "L = list(range(len(min_requirement)))"
   ]
  },
  {
   "cell_type": "code",
   "execution_count": 63,
   "metadata": {},
   "outputs": [
    {
     "data": {
      "image/png": "[encoded data removed]",
      "text/plain": [
       "<Figure size 432x288 with 1 Axes>"
      ]
     },
     "metadata": {
      "needs_background": "light"
     },
     "output_type": "display_data"
    }
   ],
   "source": [
    "#visualisation. A campaign period between normal setups.\n",
    "labels = [\"t-\"+str(i)+\"-\"+str(int(24/n))+\"h\" for i in range(len(min_requirement))]\n",
    "width = 0.3\n",
    "plt.bar(np.arange(1,len(min_requirement)+1),min_requirement.values(), width, color = \"b\", label = \"campaign period\")\n",
    "plt.bar([1,2,3,28,29,30],[10,10,10,10,10,10], width, color = \"g\", label = \"regular period\")\n",
    "plt.xticks(range(1,len(min_requirement)+1),labels, rotation = 90)\n",
    "plt.legend()\n",
    "plt.show()"
   ]
  },
  {
   "cell_type": "code",
   "execution_count": 64,
   "metadata": {},
   "outputs": [],
   "source": [
    "mdl = gb.Model(\"Employee_Scheduling\")"
   ]
  },
  {
   "cell_type": "code",
   "execution_count": 65,
   "metadata": {},
   "outputs": [],
   "source": [
    "x = mdl.addVars(len(min_requirement),vtype = gb.GRB.INTEGER, name = \"x\")#number of employees who start to work in time period Xi"
   ]
  },
  {
   "cell_type": "code",
   "execution_count": 66,
   "metadata": {},
   "outputs": [],
   "source": [
    "mdl.setObjective(gb.quicksum(x[i] for i in range(len(min_requirement))))"
   ]
  },
  {
   "cell_type": "code",
   "execution_count": 67,
   "metadata": {},
   "outputs": [
    {
     "data": {
      "text/plain": [
       "{0: <gurobi.Constr *Awaiting Model Update*>,\n",
       " 1: <gurobi.Constr *Awaiting Model Update*>,\n",
       " 2: <gurobi.Constr *Awaiting Model Update*>,\n",
       " 3: <gurobi.Constr *Awaiting Model Update*>,\n",
       " 4: <gurobi.Constr *Awaiting Model Update*>,\n",
       " 5: <gurobi.Constr *Awaiting Model Update*>,\n",
       " 6: <gurobi.Constr *Awaiting Model Update*>,\n",
       " 7: <gurobi.Constr *Awaiting Model Update*>,\n",
       " 8: <gurobi.Constr *Awaiting Model Update*>,\n",
       " 9: <gurobi.Constr *Awaiting Model Update*>,\n",
       " 10: <gurobi.Constr *Awaiting Model Update*>,\n",
       " 11: <gurobi.Constr *Awaiting Model Update*>,\n",
       " 12: <gurobi.Constr *Awaiting Model Update*>,\n",
       " 13: <gurobi.Constr *Awaiting Model Update*>,\n",
       " 14: <gurobi.Constr *Awaiting Model Update*>,\n",
       " 15: <gurobi.Constr *Awaiting Model Update*>,\n",
       " 16: <gurobi.Constr *Awaiting Model Update*>,\n",
       " 17: <gurobi.Constr *Awaiting Model Update*>,\n",
       " 18: <gurobi.Constr *Awaiting Model Update*>,\n",
       " 19: <gurobi.Constr *Awaiting Model Update*>,\n",
       " 20: <gurobi.Constr *Awaiting Model Update*>,\n",
       " 21: <gurobi.Constr *Awaiting Model Update*>,\n",
       " 22: <gurobi.Constr *Awaiting Model Update*>,\n",
       " 23: <gurobi.Constr *Awaiting Model Update*>,\n",
       " 24: <gurobi.Constr *Awaiting Model Update*>,\n",
       " 25: <gurobi.Constr *Awaiting Model Update*>,\n",
       " 26: <gurobi.Constr *Awaiting Model Update*>}"
      ]
     },
     "execution_count": 67,
     "metadata": {},
     "output_type": "execute_result"
    }
   ],
   "source": [
    "mdl.addConstrs(gb.quicksum(x[L[i-s]] for s in range(S)) >= min_requirement[i] for i in range(len(min_requirement)))"
   ]
  },
  {
   "cell_type": "code",
   "execution_count": 68,
   "metadata": {},
   "outputs": [
    {
     "name": "stdout",
     "output_type": "stream",
     "text": [
      "Gurobi Optimizer version 9.1.0 build v9.1.0rc0 (win64)\n",
      "Thread count: 4 physical cores, 8 logical processors, using up to 8 threads\n",
      "Optimize a model with 27 rows, 27 columns and 108 nonzeros\n",
      "Model fingerprint: 0x9abf20d1\n",
      "Variable types: 0 continuous, 27 integer (0 binary)\n",
      "Coefficient statistics:\n",
      "  Matrix range     [1e+00, 1e+00]\n",
      "  Objective range  [1e+00, 1e+00]\n",
      "  Bounds range     [0e+00, 0e+00]\n",
      "  RHS range        [1e+01, 3e+01]\n",
      "Found heuristic solution: objective 120.0000000\n",
      "Presolve time: 0.00s\n",
      "Presolved: 27 rows, 27 columns, 108 nonzeros\n",
      "Variable types: 0 continuous, 27 integer (0 binary)\n",
      "\n",
      "Root relaxation: objective 1.153333e+02, 26 iterations, 0.00 seconds\n",
      "\n",
      "    Nodes    |    Current Node    |     Objective Bounds      |     Work\n",
      " Expl Unexpl |  Obj  Depth IntInf | Incumbent    BestBd   Gap | It/Node Time\n",
      "\n",
      "     0     0  115.33333    0   20  120.00000  115.33333  3.89%     -    0s\n",
      "H    0     0                     116.0000000  115.33333  0.57%     -    0s\n",
      "     0     0  115.33333    0   20  116.00000  115.33333  0.57%     -    0s\n",
      "\n",
      "Explored 1 nodes (26 simplex iterations) in 0.02 seconds\n",
      "Thread count was 8 (of 8 available processors)\n",
      "\n",
      "Solution count 2: 116 120 \n",
      "\n",
      "Optimal solution found (tolerance 1.00e-04)\n",
      "Best objective 1.160000000000e+02, best bound 1.160000000000e+02, gap 0.0000%\n"
     ]
    }
   ],
   "source": [
    "mdl.optimize()"
   ]
  },
  {
   "cell_type": "code",
   "execution_count": 69,
   "metadata": {},
   "outputs": [
    {
     "name": "stdout",
     "output_type": "stream",
     "text": [
      "\n",
      "    Variable            X \n",
      "-------------------------\n",
      "        x[0]            5 \n",
      "        x[2]            4 \n",
      "        x[3]            5 \n",
      "        x[4]            3 \n",
      "        x[5]            1 \n",
      "        x[6]            5 \n",
      "        x[7]            5 \n",
      "        x[8]            4 \n",
      "        x[9]            1 \n",
      "       x[10]            6 \n",
      "       x[11]            5 \n",
      "       x[12]            4 \n",
      "       x[13]            2 \n",
      "       x[14]            6 \n",
      "       x[15]            8 \n",
      "       x[16]            2 \n",
      "       x[17]            2 \n",
      "       x[18]            8 \n",
      "       x[19]            9 \n",
      "       x[21]            8 \n",
      "       x[22]            8 \n",
      "       x[23]           10 \n",
      "       x[25]            4 \n",
      "       x[26]            1 \n"
     ]
    }
   ],
   "source": [
    "mdl.printAttr(\"X\")"
   ]
  },
  {
   "cell_type": "code",
   "execution_count": 70,
   "metadata": {},
   "outputs": [],
   "source": [
    "liste =  [int(x[i].x) for i in range(len(min_requirement))]"
   ]
  },
  {
   "cell_type": "code",
   "execution_count": 71,
   "metadata": {},
   "outputs": [
    {
     "name": "stdout",
     "output_type": "stream",
     "text": [
      "[10, 10, 10, 14, 12, 13, 14, 14, 15, 15, 16, 16, 16, 17, 17, 20, 18, 18, 20, 21, 19, 25, 25, 26, 26, 22, 15] dict_values([10, 10, 10, 12, 12, 13, 14, 14, 15, 15, 16, 16, 16, 17, 17, 20, 18, 18, 20, 21, 19, 25, 25, 25, 26, 22, 15])\n"
     ]
    }
   ],
   "source": [
    "liste1 = []\n",
    "for i in range(len(liste)):\n",
    "    a = 0\n",
    "    for j in range(S):\n",
    "        a += liste[i]\n",
    "        i -= 1\n",
    "       \n",
    "    liste1.append(a)\n",
    "print(liste1,min_requirement.values())  "
   ]
  },
  {
   "cell_type": "code",
   "execution_count": 72,
   "metadata": {},
   "outputs": [
    {
     "data": {
      "image/png": "[encoded data removed]",
      "text/plain": [
       "<Figure size 864x576 with 1 Axes>"
      ]
     },
     "metadata": {
      "needs_background": "light"
     },
     "output_type": "display_data"
    }
   ],
   "source": [
    "plt.figure(figsize=(12,8))\n",
    "labels = [\"t-\"+str(i)+\"-\"+str(int(24/n))+\"h\" for i in range(len(min_requirement))]\n",
    "width = 0.3\n",
    "plt.bar(np.arange(1,len(min_requirement)+1),min_requirement.values(), width, color = \"b\", label = \"Required_CampPer\")\n",
    "plt.bar([1,2,3],[10,10,10], width, color = \"g\",label = \"Required_Normal\")\n",
    "plt.bar(np.arange(1,len(min_requirement)+1)+width,liste1,width, color = \"r\", label = \"Available\")\n",
    "plt.bar(np.arange(1,len(min_requirement)+1)+width*2,liste,width, color = \"black\", label = \"Starting_to_Work\")\n",
    "\n",
    "plt.xticks(range(1,len(min_requirement)+1),labels, rotation = 90)\n",
    "plt.legend()\n",
    "plt.show()"
   ]
  },
  {
   "cell_type": "code",
   "execution_count": 73,
   "metadata": {},
   "outputs": [],
   "source": [
    "mdl.write(\"employee_scheduling.lp\")#save algebraic model and check whether model is true or not "
   ]
  }
 ],
 "metadata": {
  "kernelspec": {
   "display_name": "Python 3",
   "language": "python",
   "name": "python3"
  },
  "language_info": {
   "codemirror_mode": {
    "name": "ipython",
    "version": 3
   },
   "file_extension": ".py",
   "mimetype": "text/x-python",
   "name": "python",
   "nbconvert_exporter": "python",
   "pygments_lexer": "ipython3",
   "version": "3.8.3"
  }
 },
 "nbformat": 4,
 "nbformat_minor": 4
}
