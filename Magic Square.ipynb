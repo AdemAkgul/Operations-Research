{
 "cells": [
  {
   "cell_type": "code",
   "execution_count": 1,
   "metadata": {},
   "outputs": [],
   "source": [
    "import gurobipy as gb"
   ]
  },
  {
   "cell_type": "code",
   "execution_count": 2,
   "metadata": {},
   "outputs": [
    {
     "name": "stdout",
     "output_type": "stream",
     "text": [
      "\n",
      "--------------------------------------------\n",
      "Warning: your license will expire in 3 days\n",
      "--------------------------------------------\n",
      "\n",
      "Using license file C:\\Users\\aakgul\\gurobi.lic\n",
      "Academic license - for non-commercial use only - expires 2021-02-17\n"
     ]
    }
   ],
   "source": [
    "mdl = gb.Model(\"Magic Square\")"
   ]
  },
  {
   "cell_type": "code",
   "execution_count": 3,
   "metadata": {},
   "outputs": [],
   "source": [
    "n = 8 #dimension of grid\n",
    "t = n*n # number of figures"
   ]
  },
  {
   "cell_type": "code",
   "execution_count": 4,
   "metadata": {},
   "outputs": [],
   "source": [
    "x = mdl.addVars(n,n,t, vtype = gb.GRB.BINARY, name = \"Xijk\")#if number k is assigned to row i and row j, it equals to 1, ow 0"
   ]
  },
  {
   "cell_type": "code",
   "execution_count": 5,
   "metadata": {},
   "outputs": [],
   "source": [
    "#mdl.setObjective(gb.quicksum(x[i,j,k]*(k+1) for j in range(n) for k in range(t) for i in range(1)))\n",
    "#mdl.params.BranchDir = 1,mdl.params.Presolve = 2, mdl.params.PreSparsify = 0 parametre setinde en kısa sürede verdi. 8 örnekte bu daha hızlı (6 saniye, constrain 10 saniye, 10da constrain 93, amaçlı olan bu yani 150yi geçti kapattım). burada dedimki bir satırın toplam değeri minimize olsun. minimize olacak değer biliniyor bu arada. n*(n+1)/2\n",
    "#amaç fonksyonun böyle deaktif yapıp contrain programing yaptım bir nevi. 10 örnekte setobjectiveden daha hızlı aşağıdaki  amaçsız model model"
   ]
  },
  {
   "cell_type": "code",
   "execution_count": 6,
   "metadata": {},
   "outputs": [
    {
     "data": {
      "text/plain": [
       "{0: <gurobi.Constr *Awaiting Model Update*>,\n",
       " 1: <gurobi.Constr *Awaiting Model Update*>,\n",
       " 2: <gurobi.Constr *Awaiting Model Update*>,\n",
       " 3: <gurobi.Constr *Awaiting Model Update*>,\n",
       " 4: <gurobi.Constr *Awaiting Model Update*>,\n",
       " 5: <gurobi.Constr *Awaiting Model Update*>,\n",
       " 6: <gurobi.Constr *Awaiting Model Update*>,\n",
       " 7: <gurobi.Constr *Awaiting Model Update*>,\n",
       " 8: <gurobi.Constr *Awaiting Model Update*>,\n",
       " 9: <gurobi.Constr *Awaiting Model Update*>,\n",
       " 10: <gurobi.Constr *Awaiting Model Update*>,\n",
       " 11: <gurobi.Constr *Awaiting Model Update*>,\n",
       " 12: <gurobi.Constr *Awaiting Model Update*>,\n",
       " 13: <gurobi.Constr *Awaiting Model Update*>,\n",
       " 14: <gurobi.Constr *Awaiting Model Update*>,\n",
       " 15: <gurobi.Constr *Awaiting Model Update*>,\n",
       " 16: <gurobi.Constr *Awaiting Model Update*>,\n",
       " 17: <gurobi.Constr *Awaiting Model Update*>,\n",
       " 18: <gurobi.Constr *Awaiting Model Update*>,\n",
       " 19: <gurobi.Constr *Awaiting Model Update*>,\n",
       " 20: <gurobi.Constr *Awaiting Model Update*>,\n",
       " 21: <gurobi.Constr *Awaiting Model Update*>,\n",
       " 22: <gurobi.Constr *Awaiting Model Update*>,\n",
       " 23: <gurobi.Constr *Awaiting Model Update*>,\n",
       " 24: <gurobi.Constr *Awaiting Model Update*>,\n",
       " 25: <gurobi.Constr *Awaiting Model Update*>,\n",
       " 26: <gurobi.Constr *Awaiting Model Update*>,\n",
       " 27: <gurobi.Constr *Awaiting Model Update*>,\n",
       " 28: <gurobi.Constr *Awaiting Model Update*>,\n",
       " 29: <gurobi.Constr *Awaiting Model Update*>,\n",
       " 30: <gurobi.Constr *Awaiting Model Update*>,\n",
       " 31: <gurobi.Constr *Awaiting Model Update*>,\n",
       " 32: <gurobi.Constr *Awaiting Model Update*>,\n",
       " 33: <gurobi.Constr *Awaiting Model Update*>,\n",
       " 34: <gurobi.Constr *Awaiting Model Update*>,\n",
       " 35: <gurobi.Constr *Awaiting Model Update*>,\n",
       " 36: <gurobi.Constr *Awaiting Model Update*>,\n",
       " 37: <gurobi.Constr *Awaiting Model Update*>,\n",
       " 38: <gurobi.Constr *Awaiting Model Update*>,\n",
       " 39: <gurobi.Constr *Awaiting Model Update*>,\n",
       " 40: <gurobi.Constr *Awaiting Model Update*>,\n",
       " 41: <gurobi.Constr *Awaiting Model Update*>,\n",
       " 42: <gurobi.Constr *Awaiting Model Update*>,\n",
       " 43: <gurobi.Constr *Awaiting Model Update*>,\n",
       " 44: <gurobi.Constr *Awaiting Model Update*>,\n",
       " 45: <gurobi.Constr *Awaiting Model Update*>,\n",
       " 46: <gurobi.Constr *Awaiting Model Update*>,\n",
       " 47: <gurobi.Constr *Awaiting Model Update*>,\n",
       " 48: <gurobi.Constr *Awaiting Model Update*>,\n",
       " 49: <gurobi.Constr *Awaiting Model Update*>,\n",
       " 50: <gurobi.Constr *Awaiting Model Update*>,\n",
       " 51: <gurobi.Constr *Awaiting Model Update*>,\n",
       " 52: <gurobi.Constr *Awaiting Model Update*>,\n",
       " 53: <gurobi.Constr *Awaiting Model Update*>,\n",
       " 54: <gurobi.Constr *Awaiting Model Update*>,\n",
       " 55: <gurobi.Constr *Awaiting Model Update*>,\n",
       " 56: <gurobi.Constr *Awaiting Model Update*>,\n",
       " 57: <gurobi.Constr *Awaiting Model Update*>,\n",
       " 58: <gurobi.Constr *Awaiting Model Update*>,\n",
       " 59: <gurobi.Constr *Awaiting Model Update*>,\n",
       " 60: <gurobi.Constr *Awaiting Model Update*>,\n",
       " 61: <gurobi.Constr *Awaiting Model Update*>,\n",
       " 62: <gurobi.Constr *Awaiting Model Update*>,\n",
       " 63: <gurobi.Constr *Awaiting Model Update*>}"
      ]
     },
     "execution_count": 6,
     "metadata": {},
     "output_type": "execute_result"
    }
   ],
   "source": [
    "mdl.addConstrs((gb.quicksum(x[i,j,k] for i in range(n) for j in range(n)) == 1 \n",
    "                for k in range(t)),name = \"hepsi\")#every number must be used exactly once"
   ]
  },
  {
   "cell_type": "code",
   "execution_count": 7,
   "metadata": {},
   "outputs": [
    {
     "data": {
      "text/plain": [
       "{(0, 0): <gurobi.Constr *Awaiting Model Update*>,\n",
       " (0, 1): <gurobi.Constr *Awaiting Model Update*>,\n",
       " (0, 2): <gurobi.Constr *Awaiting Model Update*>,\n",
       " (0, 3): <gurobi.Constr *Awaiting Model Update*>,\n",
       " (0, 4): <gurobi.Constr *Awaiting Model Update*>,\n",
       " (0, 5): <gurobi.Constr *Awaiting Model Update*>,\n",
       " (0, 6): <gurobi.Constr *Awaiting Model Update*>,\n",
       " (0, 7): <gurobi.Constr *Awaiting Model Update*>,\n",
       " (1, 0): <gurobi.Constr *Awaiting Model Update*>,\n",
       " (1, 1): <gurobi.Constr *Awaiting Model Update*>,\n",
       " (1, 2): <gurobi.Constr *Awaiting Model Update*>,\n",
       " (1, 3): <gurobi.Constr *Awaiting Model Update*>,\n",
       " (1, 4): <gurobi.Constr *Awaiting Model Update*>,\n",
       " (1, 5): <gurobi.Constr *Awaiting Model Update*>,\n",
       " (1, 6): <gurobi.Constr *Awaiting Model Update*>,\n",
       " (1, 7): <gurobi.Constr *Awaiting Model Update*>,\n",
       " (2, 0): <gurobi.Constr *Awaiting Model Update*>,\n",
       " (2, 1): <gurobi.Constr *Awaiting Model Update*>,\n",
       " (2, 2): <gurobi.Constr *Awaiting Model Update*>,\n",
       " (2, 3): <gurobi.Constr *Awaiting Model Update*>,\n",
       " (2, 4): <gurobi.Constr *Awaiting Model Update*>,\n",
       " (2, 5): <gurobi.Constr *Awaiting Model Update*>,\n",
       " (2, 6): <gurobi.Constr *Awaiting Model Update*>,\n",
       " (2, 7): <gurobi.Constr *Awaiting Model Update*>,\n",
       " (3, 0): <gurobi.Constr *Awaiting Model Update*>,\n",
       " (3, 1): <gurobi.Constr *Awaiting Model Update*>,\n",
       " (3, 2): <gurobi.Constr *Awaiting Model Update*>,\n",
       " (3, 3): <gurobi.Constr *Awaiting Model Update*>,\n",
       " (3, 4): <gurobi.Constr *Awaiting Model Update*>,\n",
       " (3, 5): <gurobi.Constr *Awaiting Model Update*>,\n",
       " (3, 6): <gurobi.Constr *Awaiting Model Update*>,\n",
       " (3, 7): <gurobi.Constr *Awaiting Model Update*>,\n",
       " (4, 0): <gurobi.Constr *Awaiting Model Update*>,\n",
       " (4, 1): <gurobi.Constr *Awaiting Model Update*>,\n",
       " (4, 2): <gurobi.Constr *Awaiting Model Update*>,\n",
       " (4, 3): <gurobi.Constr *Awaiting Model Update*>,\n",
       " (4, 4): <gurobi.Constr *Awaiting Model Update*>,\n",
       " (4, 5): <gurobi.Constr *Awaiting Model Update*>,\n",
       " (4, 6): <gurobi.Constr *Awaiting Model Update*>,\n",
       " (4, 7): <gurobi.Constr *Awaiting Model Update*>,\n",
       " (5, 0): <gurobi.Constr *Awaiting Model Update*>,\n",
       " (5, 1): <gurobi.Constr *Awaiting Model Update*>,\n",
       " (5, 2): <gurobi.Constr *Awaiting Model Update*>,\n",
       " (5, 3): <gurobi.Constr *Awaiting Model Update*>,\n",
       " (5, 4): <gurobi.Constr *Awaiting Model Update*>,\n",
       " (5, 5): <gurobi.Constr *Awaiting Model Update*>,\n",
       " (5, 6): <gurobi.Constr *Awaiting Model Update*>,\n",
       " (5, 7): <gurobi.Constr *Awaiting Model Update*>,\n",
       " (6, 0): <gurobi.Constr *Awaiting Model Update*>,\n",
       " (6, 1): <gurobi.Constr *Awaiting Model Update*>,\n",
       " (6, 2): <gurobi.Constr *Awaiting Model Update*>,\n",
       " (6, 3): <gurobi.Constr *Awaiting Model Update*>,\n",
       " (6, 4): <gurobi.Constr *Awaiting Model Update*>,\n",
       " (6, 5): <gurobi.Constr *Awaiting Model Update*>,\n",
       " (6, 6): <gurobi.Constr *Awaiting Model Update*>,\n",
       " (6, 7): <gurobi.Constr *Awaiting Model Update*>,\n",
       " (7, 0): <gurobi.Constr *Awaiting Model Update*>,\n",
       " (7, 1): <gurobi.Constr *Awaiting Model Update*>,\n",
       " (7, 2): <gurobi.Constr *Awaiting Model Update*>,\n",
       " (7, 3): <gurobi.Constr *Awaiting Model Update*>,\n",
       " (7, 4): <gurobi.Constr *Awaiting Model Update*>,\n",
       " (7, 5): <gurobi.Constr *Awaiting Model Update*>,\n",
       " (7, 6): <gurobi.Constr *Awaiting Model Update*>,\n",
       " (7, 7): <gurobi.Constr *Awaiting Model Update*>}"
      ]
     },
     "execution_count": 7,
     "metadata": {},
     "output_type": "execute_result"
    }
   ],
   "source": [
    "mdl.addConstrs((gb.quicksum(x[i,j,k]  for k in range(t) ) == 1  \n",
    "                for i in range(n) for j in range(n)),name = \"s\")#every cell must include a distinct number"
   ]
  },
  {
   "cell_type": "code",
   "execution_count": 8,
   "metadata": {},
   "outputs": [
    {
     "data": {
      "text/plain": [
       "{0: <gurobi.Constr *Awaiting Model Update*>,\n",
       " 1: <gurobi.Constr *Awaiting Model Update*>,\n",
       " 2: <gurobi.Constr *Awaiting Model Update*>,\n",
       " 3: <gurobi.Constr *Awaiting Model Update*>,\n",
       " 4: <gurobi.Constr *Awaiting Model Update*>,\n",
       " 5: <gurobi.Constr *Awaiting Model Update*>,\n",
       " 6: <gurobi.Constr *Awaiting Model Update*>,\n",
       " 7: <gurobi.Constr *Awaiting Model Update*>}"
      ]
     },
     "execution_count": 8,
     "metadata": {},
     "output_type": "execute_result"
    }
   ],
   "source": [
    "mdl.addConstrs((gb.quicksum(x[i,j,k]*(k+1) for j in range(n) for k in range(t)) == (n*(n**2+1)/2) for i in range(n))\n",
    "               ,name = \"rows\")#sum of every rows must equal to n*(n**2+1)/2"
   ]
  },
  {
   "cell_type": "code",
   "execution_count": 9,
   "metadata": {},
   "outputs": [
    {
     "data": {
      "text/plain": [
       "{0: <gurobi.Constr *Awaiting Model Update*>,\n",
       " 1: <gurobi.Constr *Awaiting Model Update*>,\n",
       " 2: <gurobi.Constr *Awaiting Model Update*>,\n",
       " 3: <gurobi.Constr *Awaiting Model Update*>,\n",
       " 4: <gurobi.Constr *Awaiting Model Update*>,\n",
       " 5: <gurobi.Constr *Awaiting Model Update*>,\n",
       " 6: <gurobi.Constr *Awaiting Model Update*>,\n",
       " 7: <gurobi.Constr *Awaiting Model Update*>}"
      ]
     },
     "execution_count": 9,
     "metadata": {},
     "output_type": "execute_result"
    }
   ],
   "source": [
    "mdl.addConstrs((gb.quicksum(x[i,j,k]*(k+1) for i in range(n) for k in range(t)) == n*(n**2+1)/2 for j in range(n))\n",
    "               ,name = \"columns\")#sum of every columns must equal to n*(n**2+1)/2"
   ]
  },
  {
   "cell_type": "code",
   "execution_count": 10,
   "metadata": {},
   "outputs": [
    {
     "data": {
      "text/plain": [
       "{0: <gurobi.Constr *Awaiting Model Update*>}"
      ]
     },
     "execution_count": 10,
     "metadata": {},
     "output_type": "execute_result"
    }
   ],
   "source": [
    "mdl.addConstrs((gb.quicksum(x[j,j,k]*(k+1) for j in range(n) for k in range(t)) == n*(n**2+1)/2 for i in range(1))\n",
    "               ,name = \"diag\")#sum of every diagonals must equal to n*(n**2+1)/2"
   ]
  },
  {
   "cell_type": "code",
   "execution_count": 11,
   "metadata": {},
   "outputs": [
    {
     "data": {
      "text/plain": [
       "{0: <gurobi.Constr *Awaiting Model Update*>}"
      ]
     },
     "execution_count": 11,
     "metadata": {},
     "output_type": "execute_result"
    }
   ],
   "source": [
    "mdl.addConstrs((gb.quicksum(x[j,l,k]*(k+1) for j,l in zip(list(range(n)),list(range(n-1,-1,-1)))  \n",
    "                for k in range(t)) == n*(n**2+1)/2  \n",
    "                for i in range(1)),name = \"anti_diag\")#sum of every anti diagonals must equal to n*(n**2+1)/2"
   ]
  },
  {
   "cell_type": "code",
   "execution_count": 12,
   "metadata": {},
   "outputs": [
    {
     "name": "stdout",
     "output_type": "stream",
     "text": [
      "Changed value of parameter Heuristics to 0.5\n",
      "   Prev: 0.05  Min: 0.0  Max: 1.0  Default: 0.05\n",
      "Changed value of parameter PreSolve to 2\n",
      "   Prev: -1  Min: -1  Max: 2  Default: -1\n",
      "Gurobi Optimizer version 9.1.0 build v9.1.0rc0 (win64)\n",
      "Thread count: 4 physical cores, 8 logical processors, using up to 8 threads\n",
      "Optimize a model with 146 rows, 4096 columns and 17408 nonzeros\n",
      "Model fingerprint: 0xa1debd6c\n",
      "Variable types: 0 continuous, 4096 integer (4096 binary)\n",
      "Coefficient statistics:\n",
      "  Matrix range     [1e+00, 6e+01]\n",
      "  Objective range  [0e+00, 0e+00]\n",
      "  Bounds range     [1e+00, 1e+00]\n",
      "  RHS range        [1e+00, 3e+02]\n",
      "Presolve time: 0.14s\n",
      "Presolved: 146 rows, 4096 columns, 17264 nonzeros\n",
      "Variable types: 0 continuous, 4096 integer (4096 binary)\n",
      "Presolve removed 3 rows and 1 columns\n",
      "Presolved: 143 rows, 4095 columns, 16631 nonzeros\n",
      "\n",
      "\n",
      "Root relaxation: objective 0.000000e+00, 472 iterations, 0.05 seconds\n",
      "\n",
      "    Nodes    |    Current Node    |     Objective Bounds      |     Work\n",
      " Expl Unexpl |  Obj  Depth IntInf | Incumbent    BestBd   Gap | It/Node Time\n",
      "\n",
      "     0     0    0.00000    0   49          -    0.00000      -     -    0s\n",
      "     0     0    0.00000    0   87          -    0.00000      -     -    0s\n",
      "     0     0    0.00000    0   50          -    0.00000      -     -    1s\n",
      "     0     0    0.00000    0   52          -    0.00000      -     -    1s\n",
      "     0     0    0.00000    0   45          -    0.00000      -     -    1s\n",
      "     0     2    0.00000    0   45          -    0.00000      -     -    3s\n",
      "  2086   283    0.00000   58   26          -    0.00000      -  33.6    5s\n",
      "  8285   342 infeasible   69               -    0.00000      -  23.1   10s\n",
      "* 8625   220              78       0.0000000    0.00000  0.00%  23.0   10s\n",
      "\n",
      "Cutting planes:\n",
      "  Cover: 145\n",
      "  GUB cover: 4\n",
      "\n",
      "Explored 8883 nodes (221817 simplex iterations) in 10.04 seconds\n",
      "Thread count was 8 (of 8 available processors)\n",
      "\n",
      "Solution count 1: 0 \n",
      "\n",
      "Optimal solution found (tolerance 1.00e-04)\n",
      "Best objective 0.000000000000e+00, best bound 0.000000000000e+00, gap 0.0000%\n"
     ]
    }
   ],
   "source": [
    "mdl.params.Heuristics = 0.5\n",
    "mdl.params.PreSolve = 2\n",
    "mdl.optimize()"
   ]
  },
  {
   "cell_type": "code",
   "execution_count": 13,
   "metadata": {},
   "outputs": [],
   "source": [
    "mdl.write(\"magic_square.lp\")"
   ]
  },
  {
   "cell_type": "code",
   "execution_count": 14,
   "metadata": {},
   "outputs": [
    {
     "name": "stdout",
     "output_type": "stream",
     "text": [
      "\n",
      "    Variable            X \n",
      "-------------------------\n",
      "Xijk[0,0,54]            1 \n",
      "Xijk[0,1,60]            1 \n",
      "Xijk[0,2,21]            1 \n",
      "Xijk[0,3,62]            1 \n",
      "Xijk[0,4,33]            1 \n",
      "Xijk[0,5,14]            1 \n",
      " Xijk[0,6,7]            1 \n",
      " Xijk[0,7,1]            1 \n",
      "Xijk[1,0,15]            1 \n",
      "Xijk[1,1,23]            1 \n",
      " Xijk[1,2,8]            1 \n",
      "Xijk[1,3,32]            1 \n",
      "Xijk[1,4,50]            1 \n",
      "Xijk[1,5,46]            1 \n",
      "Xijk[1,6,53]            1 \n",
      "Xijk[1,7,25]            1 \n",
      "Xijk[2,0,51]            1 \n",
      "Xijk[2,1,13]            1 \n",
      " Xijk[2,2,3]            1 \n",
      "Xijk[2,3,47]            1 \n",
      "Xijk[2,4,42]            1 \n",
      " Xijk[2,5,0]            1 \n",
      "Xijk[2,6,35]            1 \n",
      "Xijk[2,7,61]            1 \n",
      "Xijk[3,0,24]            1 \n",
      "Xijk[3,1,39]            1 \n",
      "Xijk[3,2,56]            1 \n",
      " Xijk[3,3,5]            1 \n",
      "Xijk[3,4,59]            1 \n",
      "Xijk[3,5,43]            1 \n",
      " Xijk[3,6,6]            1 \n",
      "Xijk[3,7,20]            1 \n",
      "Xijk[4,0,10]            1 \n",
      "Xijk[4,1,22]            1 \n",
      "Xijk[4,2,48]            1 \n",
      "Xijk[4,3,27]            1 \n",
      "Xijk[4,4,29]            1 \n",
      " Xijk[4,5,9]            1 \n",
      "Xijk[4,6,55]            1 \n",
      "Xijk[4,7,52]            1 \n",
      "Xijk[5,0,19]            1 \n",
      "Xijk[5,1,17]            1 \n",
      "Xijk[5,2,58]            1 \n",
      "Xijk[5,3,12]            1 \n",
      "Xijk[5,4,26]            1 \n",
      "Xijk[5,5,57]            1 \n",
      "Xijk[5,6,18]            1 \n",
      "Xijk[5,7,45]            1 \n",
      "Xijk[6,0,63]            1 \n",
      "Xijk[6,1,38]            1 \n",
      "Xijk[6,2,28]            1 \n",
      "Xijk[6,3,31]            1 \n",
      " Xijk[6,4,2]            1 \n",
      "Xijk[6,5,49]            1 \n",
      "Xijk[6,6,37]            1 \n",
      " Xijk[6,7,4]            1 \n",
      "Xijk[7,0,16]            1 \n",
      "Xijk[7,1,40]            1 \n",
      "Xijk[7,2,30]            1 \n",
      "Xijk[7,3,36]            1 \n",
      "Xijk[7,4,11]            1 \n",
      "Xijk[7,5,34]            1 \n",
      "Xijk[7,6,41]            1 \n",
      "Xijk[7,7,44]            1 \n"
     ]
    }
   ],
   "source": [
    "mdl.printAttr('X')"
   ]
  },
  {
   "cell_type": "markdown",
   "metadata": {},
   "source": [
    "mdl.tune()"
   ]
  },
  {
   "cell_type": "code",
   "execution_count": 15,
   "metadata": {},
   "outputs": [],
   "source": [
    "atama = [(i,j,k) for i,j,k in x if x[i,j,k].x == 1]"
   ]
  },
  {
   "cell_type": "code",
   "execution_count": 16,
   "metadata": {},
   "outputs": [
    {
     "name": "stdout",
     "output_type": "stream",
     "text": [
      "sum of diogonal: 260.0 --sum of antidiogonal: 260.0\n"
     ]
    }
   ],
   "source": [
    "import pandas as pd\n",
    "import numpy as np\n",
    "df = pd.DataFrame(np.zeros((n,n)))\n",
    "for i,j,k in atama:\n",
    "    df.iloc[i,j] = k\n",
    "diagonal = np.array(df).trace()\n",
    "antidiagonal = np.fliplr(df).diagonal()#https://numpy.org/devdocs/reference/generated/numpy.diagonal.html\n",
    "print(\"sum of diogonal:\",diagonal+n,\"--sum of antidiogonal:\",sum(antidiagonal)+n)\n",
    "df[\"Sum_of_Rows\"] = df.sum()+n#n satır sütun 0 dan başladığı için koydum. yoksa 1den başlasa yukarıda modelin indexi gerek kalmazdı\n",
    "df = df.append(pd.Series(df.sum(axis = 0)+n,index = df.columns,name = \"Sum_of_Columns\"))\n",
    "df.loc[\"Sum_of_Columns\",\"Sum_of_Rows\"] = diagonal+n#satur sütunun toplamına üstüne koyarak bir daha topmasın diye"
   ]
  },
  {
   "cell_type": "code",
   "execution_count": 17,
   "metadata": {},
   "outputs": [
    {
     "data": {
      "text/html": [
       "<div>\n",
       "<style scoped>\n",
       "    .dataframe tbody tr th:only-of-type {\n",
       "        vertical-align: middle;\n",
       "    }\n",
       "\n",
       "    .dataframe tbody tr th {\n",
       "        vertical-align: top;\n",
       "    }\n",
       "\n",
       "    .dataframe thead th {\n",
       "        text-align: right;\n",
       "    }\n",
       "</style>\n",
       "<table border=\"1\" class=\"dataframe\">\n",
       "  <thead>\n",
       "    <tr style=\"text-align: right;\">\n",
       "      <th></th>\n",
       "      <th>0</th>\n",
       "      <th>1</th>\n",
       "      <th>2</th>\n",
       "      <th>3</th>\n",
       "      <th>4</th>\n",
       "      <th>5</th>\n",
       "      <th>6</th>\n",
       "      <th>7</th>\n",
       "      <th>Sum_of_Rows</th>\n",
       "    </tr>\n",
       "  </thead>\n",
       "  <tbody>\n",
       "    <tr>\n",
       "      <th>0</th>\n",
       "      <td>54.0</td>\n",
       "      <td>60.0</td>\n",
       "      <td>21.0</td>\n",
       "      <td>62.0</td>\n",
       "      <td>33.0</td>\n",
       "      <td>14.0</td>\n",
       "      <td>7.0</td>\n",
       "      <td>1.0</td>\n",
       "      <td>260.0</td>\n",
       "    </tr>\n",
       "    <tr>\n",
       "      <th>1</th>\n",
       "      <td>15.0</td>\n",
       "      <td>23.0</td>\n",
       "      <td>8.0</td>\n",
       "      <td>32.0</td>\n",
       "      <td>50.0</td>\n",
       "      <td>46.0</td>\n",
       "      <td>53.0</td>\n",
       "      <td>25.0</td>\n",
       "      <td>260.0</td>\n",
       "    </tr>\n",
       "    <tr>\n",
       "      <th>2</th>\n",
       "      <td>51.0</td>\n",
       "      <td>13.0</td>\n",
       "      <td>3.0</td>\n",
       "      <td>47.0</td>\n",
       "      <td>42.0</td>\n",
       "      <td>0.0</td>\n",
       "      <td>35.0</td>\n",
       "      <td>61.0</td>\n",
       "      <td>260.0</td>\n",
       "    </tr>\n",
       "    <tr>\n",
       "      <th>3</th>\n",
       "      <td>24.0</td>\n",
       "      <td>39.0</td>\n",
       "      <td>56.0</td>\n",
       "      <td>5.0</td>\n",
       "      <td>59.0</td>\n",
       "      <td>43.0</td>\n",
       "      <td>6.0</td>\n",
       "      <td>20.0</td>\n",
       "      <td>260.0</td>\n",
       "    </tr>\n",
       "    <tr>\n",
       "      <th>4</th>\n",
       "      <td>10.0</td>\n",
       "      <td>22.0</td>\n",
       "      <td>48.0</td>\n",
       "      <td>27.0</td>\n",
       "      <td>29.0</td>\n",
       "      <td>9.0</td>\n",
       "      <td>55.0</td>\n",
       "      <td>52.0</td>\n",
       "      <td>260.0</td>\n",
       "    </tr>\n",
       "    <tr>\n",
       "      <th>5</th>\n",
       "      <td>19.0</td>\n",
       "      <td>17.0</td>\n",
       "      <td>58.0</td>\n",
       "      <td>12.0</td>\n",
       "      <td>26.0</td>\n",
       "      <td>57.0</td>\n",
       "      <td>18.0</td>\n",
       "      <td>45.0</td>\n",
       "      <td>260.0</td>\n",
       "    </tr>\n",
       "    <tr>\n",
       "      <th>6</th>\n",
       "      <td>63.0</td>\n",
       "      <td>38.0</td>\n",
       "      <td>28.0</td>\n",
       "      <td>31.0</td>\n",
       "      <td>2.0</td>\n",
       "      <td>49.0</td>\n",
       "      <td>37.0</td>\n",
       "      <td>4.0</td>\n",
       "      <td>260.0</td>\n",
       "    </tr>\n",
       "    <tr>\n",
       "      <th>7</th>\n",
       "      <td>16.0</td>\n",
       "      <td>40.0</td>\n",
       "      <td>30.0</td>\n",
       "      <td>36.0</td>\n",
       "      <td>11.0</td>\n",
       "      <td>34.0</td>\n",
       "      <td>41.0</td>\n",
       "      <td>44.0</td>\n",
       "      <td>260.0</td>\n",
       "    </tr>\n",
       "    <tr>\n",
       "      <th>Sum_of_Columns</th>\n",
       "      <td>260.0</td>\n",
       "      <td>260.0</td>\n",
       "      <td>260.0</td>\n",
       "      <td>260.0</td>\n",
       "      <td>260.0</td>\n",
       "      <td>260.0</td>\n",
       "      <td>260.0</td>\n",
       "      <td>260.0</td>\n",
       "      <td>260.0</td>\n",
       "    </tr>\n",
       "  </tbody>\n",
       "</table>\n",
       "</div>"
      ],
      "text/plain": [
       "                    0      1      2      3      4      5      6      7  \\\n",
       "0                54.0   60.0   21.0   62.0   33.0   14.0    7.0    1.0   \n",
       "1                15.0   23.0    8.0   32.0   50.0   46.0   53.0   25.0   \n",
       "2                51.0   13.0    3.0   47.0   42.0    0.0   35.0   61.0   \n",
       "3                24.0   39.0   56.0    5.0   59.0   43.0    6.0   20.0   \n",
       "4                10.0   22.0   48.0   27.0   29.0    9.0   55.0   52.0   \n",
       "5                19.0   17.0   58.0   12.0   26.0   57.0   18.0   45.0   \n",
       "6                63.0   38.0   28.0   31.0    2.0   49.0   37.0    4.0   \n",
       "7                16.0   40.0   30.0   36.0   11.0   34.0   41.0   44.0   \n",
       "Sum_of_Columns  260.0  260.0  260.0  260.0  260.0  260.0  260.0  260.0   \n",
       "\n",
       "                Sum_of_Rows  \n",
       "0                     260.0  \n",
       "1                     260.0  \n",
       "2                     260.0  \n",
       "3                     260.0  \n",
       "4                     260.0  \n",
       "5                     260.0  \n",
       "6                     260.0  \n",
       "7                     260.0  \n",
       "Sum_of_Columns        260.0  "
      ]
     },
     "execution_count": 17,
     "metadata": {},
     "output_type": "execute_result"
    }
   ],
   "source": [
    "df"
   ]
  },
  {
   "cell_type": "code",
   "execution_count": null,
   "metadata": {},
   "outputs": [],
   "source": []
  }
 ],
 "metadata": {
  "kernelspec": {
   "display_name": "Python 3",
   "language": "python",
   "name": "python3"
  },
  "language_info": {
   "codemirror_mode": {
    "name": "ipython",
    "version": 3
   },
   "file_extension": ".py",
   "mimetype": "text/x-python",
   "name": "python",
   "nbconvert_exporter": "python",
   "pygments_lexer": "ipython3",
   "version": "3.8.3"
  }
 },
 "nbformat": 4,
 "nbformat_minor": 4
}
