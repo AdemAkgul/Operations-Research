{
 "cells": [
  {
   "cell_type": "markdown",
   "metadata": {},
   "source": [
    "1-D Cutting stock problem is one of the most famous problems in OR. In this problem, the amount of residual pieces of processed stock rolls must be minimized. You can minimize the number of stock rolls to be used or the total length of residual (waste, scrap, etc.) pieces. There are two other variants of this problem: 2-D and 3D. I addressed 1-D problem in this post because it is comparatively easy. Mathematical model as followed below is not a good model due to fact that it has many symmetries. There are some other technics to handle this problem. \n",
    "https://laurentlessard.com/teaching/cs524/slides/21%20-%20set%20cover%20and%20TSP.pdf"
   ]
  },
  {
   "cell_type": "code",
   "execution_count": 372,
   "metadata": {},
   "outputs": [],
   "source": [
    "import gurobipy as gb\n",
    "import numpy as np\n",
    "import matplotlib.pyplot as plt"
   ]
  },
  {
   "cell_type": "code",
   "execution_count": 373,
   "metadata": {},
   "outputs": [],
   "source": [
    "n = 10 #number of types of orders. For instance 6 20cm-length, 12 30cm-legnth, etc. \n",
    "m = 20 #number of cutting stock rolls\n",
    "d = 500 #length of cutting stock roll. You may have rolls which have different lenghts. It does not matter.\n",
    "dn = {i: np.random.randint(10,80) for i in range(n)} #length of every order type\n",
    "tn = {i: np.random.randint(10,40) for i in range(n)} #number of every order type"
   ]
  },
  {
   "cell_type": "code",
   "execution_count": 374,
   "metadata": {},
   "outputs": [],
   "source": [
    "summation = [ dn[i]*tn[i] for i in range(n)]"
   ]
  },
  {
   "cell_type": "code",
   "execution_count": 375,
   "metadata": {},
   "outputs": [
    {
     "data": {
      "text/plain": [
       "(6247, 10000)"
      ]
     },
     "execution_count": 375,
     "metadata": {},
     "output_type": "execute_result"
    }
   ],
   "source": [
    "sum(summation),m*d #total length of orders (tlo) (meter) and total amount of stocks (tas) (meter). tlo must be less than tas\n",
    "#for feasible model."
   ]
  },
  {
   "cell_type": "code",
   "execution_count": 376,
   "metadata": {},
   "outputs": [],
   "source": [
    "mdl = gb.Model(\"Cutting Stock\")"
   ]
  },
  {
   "cell_type": "code",
   "execution_count": 377,
   "metadata": {},
   "outputs": [],
   "source": [
    "x = mdl.addVars(n,m, vtype = gb.GRB.INTEGER, name = \"x\")#number of order n cutting from stock m\n",
    "y = mdl.addVars(m, vtype = gb.GRB.BINARY, name = \"y\")#if stock m is used, it equals to 1, ow 0"
   ]
  },
  {
   "cell_type": "code",
   "execution_count": 378,
   "metadata": {},
   "outputs": [],
   "source": [
    "mdl.setObjective(gb.quicksum(y[j] for j in range(m)))#minimize number of used stocks"
   ]
  },
  {
   "cell_type": "code",
   "execution_count": 379,
   "metadata": {},
   "outputs": [],
   "source": [
    "#mdl.setObjective(gb.quicksum(y[j]*d-x[i,j]*dn[i] for i in range(n) for j in range(m)))#you can minimize total length of residual\n",
    "#pieces. obj1 and obj2 have same solution. "
   ]
  },
  {
   "cell_type": "code",
   "execution_count": 380,
   "metadata": {},
   "outputs": [
    {
     "data": {
      "text/plain": [
       "{0: <gurobi.Constr *Awaiting Model Update*>,\n",
       " 1: <gurobi.Constr *Awaiting Model Update*>,\n",
       " 2: <gurobi.Constr *Awaiting Model Update*>,\n",
       " 3: <gurobi.Constr *Awaiting Model Update*>,\n",
       " 4: <gurobi.Constr *Awaiting Model Update*>,\n",
       " 5: <gurobi.Constr *Awaiting Model Update*>,\n",
       " 6: <gurobi.Constr *Awaiting Model Update*>,\n",
       " 7: <gurobi.Constr *Awaiting Model Update*>,\n",
       " 8: <gurobi.Constr *Awaiting Model Update*>,\n",
       " 9: <gurobi.Constr *Awaiting Model Update*>,\n",
       " 10: <gurobi.Constr *Awaiting Model Update*>,\n",
       " 11: <gurobi.Constr *Awaiting Model Update*>,\n",
       " 12: <gurobi.Constr *Awaiting Model Update*>,\n",
       " 13: <gurobi.Constr *Awaiting Model Update*>,\n",
       " 14: <gurobi.Constr *Awaiting Model Update*>,\n",
       " 15: <gurobi.Constr *Awaiting Model Update*>,\n",
       " 16: <gurobi.Constr *Awaiting Model Update*>,\n",
       " 17: <gurobi.Constr *Awaiting Model Update*>,\n",
       " 18: <gurobi.Constr *Awaiting Model Update*>,\n",
       " 19: <gurobi.Constr *Awaiting Model Update*>}"
      ]
     },
     "execution_count": 380,
     "metadata": {},
     "output_type": "execute_result"
    }
   ],
   "source": [
    "mdl.addConstrs((gb.quicksum(dn[i]*x[i,j] for i in range(n)) <= d for j in range(m)), name = \"kısıt_1\")\n",
    "#The total length of pieces cut from a stock cannot exceed the total length of that stock."
   ]
  },
  {
   "cell_type": "code",
   "execution_count": 381,
   "metadata": {},
   "outputs": [
    {
     "data": {
      "text/plain": [
       "{0: <gurobi.Constr *Awaiting Model Update*>,\n",
       " 1: <gurobi.Constr *Awaiting Model Update*>,\n",
       " 2: <gurobi.Constr *Awaiting Model Update*>,\n",
       " 3: <gurobi.Constr *Awaiting Model Update*>,\n",
       " 4: <gurobi.Constr *Awaiting Model Update*>,\n",
       " 5: <gurobi.Constr *Awaiting Model Update*>,\n",
       " 6: <gurobi.Constr *Awaiting Model Update*>,\n",
       " 7: <gurobi.Constr *Awaiting Model Update*>,\n",
       " 8: <gurobi.Constr *Awaiting Model Update*>,\n",
       " 9: <gurobi.Constr *Awaiting Model Update*>}"
      ]
     },
     "execution_count": 381,
     "metadata": {},
     "output_type": "execute_result"
    }
   ],
   "source": [
    "mdl.addConstrs((gb.quicksum(x[i,j] for j in range(m)) == tn[i] for i in range(n)), name = \"kısıt_2\")\n",
    "#Number of cutomer orders must be satisfied."
   ]
  },
  {
   "cell_type": "code",
   "execution_count": 382,
   "metadata": {},
   "outputs": [
    {
     "data": {
      "text/plain": [
       "{(0, 0): <gurobi.Constr *Awaiting Model Update*>,\n",
       " (0, 1): <gurobi.Constr *Awaiting Model Update*>,\n",
       " (0, 2): <gurobi.Constr *Awaiting Model Update*>,\n",
       " (0, 3): <gurobi.Constr *Awaiting Model Update*>,\n",
       " (0, 4): <gurobi.Constr *Awaiting Model Update*>,\n",
       " (0, 5): <gurobi.Constr *Awaiting Model Update*>,\n",
       " (0, 6): <gurobi.Constr *Awaiting Model Update*>,\n",
       " (0, 7): <gurobi.Constr *Awaiting Model Update*>,\n",
       " (0, 8): <gurobi.Constr *Awaiting Model Update*>,\n",
       " (0, 9): <gurobi.Constr *Awaiting Model Update*>,\n",
       " (0, 10): <gurobi.Constr *Awaiting Model Update*>,\n",
       " (0, 11): <gurobi.Constr *Awaiting Model Update*>,\n",
       " (0, 12): <gurobi.Constr *Awaiting Model Update*>,\n",
       " (0, 13): <gurobi.Constr *Awaiting Model Update*>,\n",
       " (0, 14): <gurobi.Constr *Awaiting Model Update*>,\n",
       " (0, 15): <gurobi.Constr *Awaiting Model Update*>,\n",
       " (0, 16): <gurobi.Constr *Awaiting Model Update*>,\n",
       " (0, 17): <gurobi.Constr *Awaiting Model Update*>,\n",
       " (0, 18): <gurobi.Constr *Awaiting Model Update*>,\n",
       " (0, 19): <gurobi.Constr *Awaiting Model Update*>,\n",
       " (1, 0): <gurobi.Constr *Awaiting Model Update*>,\n",
       " (1, 1): <gurobi.Constr *Awaiting Model Update*>,\n",
       " (1, 2): <gurobi.Constr *Awaiting Model Update*>,\n",
       " (1, 3): <gurobi.Constr *Awaiting Model Update*>,\n",
       " (1, 4): <gurobi.Constr *Awaiting Model Update*>,\n",
       " (1, 5): <gurobi.Constr *Awaiting Model Update*>,\n",
       " (1, 6): <gurobi.Constr *Awaiting Model Update*>,\n",
       " (1, 7): <gurobi.Constr *Awaiting Model Update*>,\n",
       " (1, 8): <gurobi.Constr *Awaiting Model Update*>,\n",
       " (1, 9): <gurobi.Constr *Awaiting Model Update*>,\n",
       " (1, 10): <gurobi.Constr *Awaiting Model Update*>,\n",
       " (1, 11): <gurobi.Constr *Awaiting Model Update*>,\n",
       " (1, 12): <gurobi.Constr *Awaiting Model Update*>,\n",
       " (1, 13): <gurobi.Constr *Awaiting Model Update*>,\n",
       " (1, 14): <gurobi.Constr *Awaiting Model Update*>,\n",
       " (1, 15): <gurobi.Constr *Awaiting Model Update*>,\n",
       " (1, 16): <gurobi.Constr *Awaiting Model Update*>,\n",
       " (1, 17): <gurobi.Constr *Awaiting Model Update*>,\n",
       " (1, 18): <gurobi.Constr *Awaiting Model Update*>,\n",
       " (1, 19): <gurobi.Constr *Awaiting Model Update*>,\n",
       " (2, 0): <gurobi.Constr *Awaiting Model Update*>,\n",
       " (2, 1): <gurobi.Constr *Awaiting Model Update*>,\n",
       " (2, 2): <gurobi.Constr *Awaiting Model Update*>,\n",
       " (2, 3): <gurobi.Constr *Awaiting Model Update*>,\n",
       " (2, 4): <gurobi.Constr *Awaiting Model Update*>,\n",
       " (2, 5): <gurobi.Constr *Awaiting Model Update*>,\n",
       " (2, 6): <gurobi.Constr *Awaiting Model Update*>,\n",
       " (2, 7): <gurobi.Constr *Awaiting Model Update*>,\n",
       " (2, 8): <gurobi.Constr *Awaiting Model Update*>,\n",
       " (2, 9): <gurobi.Constr *Awaiting Model Update*>,\n",
       " (2, 10): <gurobi.Constr *Awaiting Model Update*>,\n",
       " (2, 11): <gurobi.Constr *Awaiting Model Update*>,\n",
       " (2, 12): <gurobi.Constr *Awaiting Model Update*>,\n",
       " (2, 13): <gurobi.Constr *Awaiting Model Update*>,\n",
       " (2, 14): <gurobi.Constr *Awaiting Model Update*>,\n",
       " (2, 15): <gurobi.Constr *Awaiting Model Update*>,\n",
       " (2, 16): <gurobi.Constr *Awaiting Model Update*>,\n",
       " (2, 17): <gurobi.Constr *Awaiting Model Update*>,\n",
       " (2, 18): <gurobi.Constr *Awaiting Model Update*>,\n",
       " (2, 19): <gurobi.Constr *Awaiting Model Update*>,\n",
       " (3, 0): <gurobi.Constr *Awaiting Model Update*>,\n",
       " (3, 1): <gurobi.Constr *Awaiting Model Update*>,\n",
       " (3, 2): <gurobi.Constr *Awaiting Model Update*>,\n",
       " (3, 3): <gurobi.Constr *Awaiting Model Update*>,\n",
       " (3, 4): <gurobi.Constr *Awaiting Model Update*>,\n",
       " (3, 5): <gurobi.Constr *Awaiting Model Update*>,\n",
       " (3, 6): <gurobi.Constr *Awaiting Model Update*>,\n",
       " (3, 7): <gurobi.Constr *Awaiting Model Update*>,\n",
       " (3, 8): <gurobi.Constr *Awaiting Model Update*>,\n",
       " (3, 9): <gurobi.Constr *Awaiting Model Update*>,\n",
       " (3, 10): <gurobi.Constr *Awaiting Model Update*>,\n",
       " (3, 11): <gurobi.Constr *Awaiting Model Update*>,\n",
       " (3, 12): <gurobi.Constr *Awaiting Model Update*>,\n",
       " (3, 13): <gurobi.Constr *Awaiting Model Update*>,\n",
       " (3, 14): <gurobi.Constr *Awaiting Model Update*>,\n",
       " (3, 15): <gurobi.Constr *Awaiting Model Update*>,\n",
       " (3, 16): <gurobi.Constr *Awaiting Model Update*>,\n",
       " (3, 17): <gurobi.Constr *Awaiting Model Update*>,\n",
       " (3, 18): <gurobi.Constr *Awaiting Model Update*>,\n",
       " (3, 19): <gurobi.Constr *Awaiting Model Update*>,\n",
       " (4, 0): <gurobi.Constr *Awaiting Model Update*>,\n",
       " (4, 1): <gurobi.Constr *Awaiting Model Update*>,\n",
       " (4, 2): <gurobi.Constr *Awaiting Model Update*>,\n",
       " (4, 3): <gurobi.Constr *Awaiting Model Update*>,\n",
       " (4, 4): <gurobi.Constr *Awaiting Model Update*>,\n",
       " (4, 5): <gurobi.Constr *Awaiting Model Update*>,\n",
       " (4, 6): <gurobi.Constr *Awaiting Model Update*>,\n",
       " (4, 7): <gurobi.Constr *Awaiting Model Update*>,\n",
       " (4, 8): <gurobi.Constr *Awaiting Model Update*>,\n",
       " (4, 9): <gurobi.Constr *Awaiting Model Update*>,\n",
       " (4, 10): <gurobi.Constr *Awaiting Model Update*>,\n",
       " (4, 11): <gurobi.Constr *Awaiting Model Update*>,\n",
       " (4, 12): <gurobi.Constr *Awaiting Model Update*>,\n",
       " (4, 13): <gurobi.Constr *Awaiting Model Update*>,\n",
       " (4, 14): <gurobi.Constr *Awaiting Model Update*>,\n",
       " (4, 15): <gurobi.Constr *Awaiting Model Update*>,\n",
       " (4, 16): <gurobi.Constr *Awaiting Model Update*>,\n",
       " (4, 17): <gurobi.Constr *Awaiting Model Update*>,\n",
       " (4, 18): <gurobi.Constr *Awaiting Model Update*>,\n",
       " (4, 19): <gurobi.Constr *Awaiting Model Update*>,\n",
       " (5, 0): <gurobi.Constr *Awaiting Model Update*>,\n",
       " (5, 1): <gurobi.Constr *Awaiting Model Update*>,\n",
       " (5, 2): <gurobi.Constr *Awaiting Model Update*>,\n",
       " (5, 3): <gurobi.Constr *Awaiting Model Update*>,\n",
       " (5, 4): <gurobi.Constr *Awaiting Model Update*>,\n",
       " (5, 5): <gurobi.Constr *Awaiting Model Update*>,\n",
       " (5, 6): <gurobi.Constr *Awaiting Model Update*>,\n",
       " (5, 7): <gurobi.Constr *Awaiting Model Update*>,\n",
       " (5, 8): <gurobi.Constr *Awaiting Model Update*>,\n",
       " (5, 9): <gurobi.Constr *Awaiting Model Update*>,\n",
       " (5, 10): <gurobi.Constr *Awaiting Model Update*>,\n",
       " (5, 11): <gurobi.Constr *Awaiting Model Update*>,\n",
       " (5, 12): <gurobi.Constr *Awaiting Model Update*>,\n",
       " (5, 13): <gurobi.Constr *Awaiting Model Update*>,\n",
       " (5, 14): <gurobi.Constr *Awaiting Model Update*>,\n",
       " (5, 15): <gurobi.Constr *Awaiting Model Update*>,\n",
       " (5, 16): <gurobi.Constr *Awaiting Model Update*>,\n",
       " (5, 17): <gurobi.Constr *Awaiting Model Update*>,\n",
       " (5, 18): <gurobi.Constr *Awaiting Model Update*>,\n",
       " (5, 19): <gurobi.Constr *Awaiting Model Update*>,\n",
       " (6, 0): <gurobi.Constr *Awaiting Model Update*>,\n",
       " (6, 1): <gurobi.Constr *Awaiting Model Update*>,\n",
       " (6, 2): <gurobi.Constr *Awaiting Model Update*>,\n",
       " (6, 3): <gurobi.Constr *Awaiting Model Update*>,\n",
       " (6, 4): <gurobi.Constr *Awaiting Model Update*>,\n",
       " (6, 5): <gurobi.Constr *Awaiting Model Update*>,\n",
       " (6, 6): <gurobi.Constr *Awaiting Model Update*>,\n",
       " (6, 7): <gurobi.Constr *Awaiting Model Update*>,\n",
       " (6, 8): <gurobi.Constr *Awaiting Model Update*>,\n",
       " (6, 9): <gurobi.Constr *Awaiting Model Update*>,\n",
       " (6, 10): <gurobi.Constr *Awaiting Model Update*>,\n",
       " (6, 11): <gurobi.Constr *Awaiting Model Update*>,\n",
       " (6, 12): <gurobi.Constr *Awaiting Model Update*>,\n",
       " (6, 13): <gurobi.Constr *Awaiting Model Update*>,\n",
       " (6, 14): <gurobi.Constr *Awaiting Model Update*>,\n",
       " (6, 15): <gurobi.Constr *Awaiting Model Update*>,\n",
       " (6, 16): <gurobi.Constr *Awaiting Model Update*>,\n",
       " (6, 17): <gurobi.Constr *Awaiting Model Update*>,\n",
       " (6, 18): <gurobi.Constr *Awaiting Model Update*>,\n",
       " (6, 19): <gurobi.Constr *Awaiting Model Update*>,\n",
       " (7, 0): <gurobi.Constr *Awaiting Model Update*>,\n",
       " (7, 1): <gurobi.Constr *Awaiting Model Update*>,\n",
       " (7, 2): <gurobi.Constr *Awaiting Model Update*>,\n",
       " (7, 3): <gurobi.Constr *Awaiting Model Update*>,\n",
       " (7, 4): <gurobi.Constr *Awaiting Model Update*>,\n",
       " (7, 5): <gurobi.Constr *Awaiting Model Update*>,\n",
       " (7, 6): <gurobi.Constr *Awaiting Model Update*>,\n",
       " (7, 7): <gurobi.Constr *Awaiting Model Update*>,\n",
       " (7, 8): <gurobi.Constr *Awaiting Model Update*>,\n",
       " (7, 9): <gurobi.Constr *Awaiting Model Update*>,\n",
       " (7, 10): <gurobi.Constr *Awaiting Model Update*>,\n",
       " (7, 11): <gurobi.Constr *Awaiting Model Update*>,\n",
       " (7, 12): <gurobi.Constr *Awaiting Model Update*>,\n",
       " (7, 13): <gurobi.Constr *Awaiting Model Update*>,\n",
       " (7, 14): <gurobi.Constr *Awaiting Model Update*>,\n",
       " (7, 15): <gurobi.Constr *Awaiting Model Update*>,\n",
       " (7, 16): <gurobi.Constr *Awaiting Model Update*>,\n",
       " (7, 17): <gurobi.Constr *Awaiting Model Update*>,\n",
       " (7, 18): <gurobi.Constr *Awaiting Model Update*>,\n",
       " (7, 19): <gurobi.Constr *Awaiting Model Update*>,\n",
       " (8, 0): <gurobi.Constr *Awaiting Model Update*>,\n",
       " (8, 1): <gurobi.Constr *Awaiting Model Update*>,\n",
       " (8, 2): <gurobi.Constr *Awaiting Model Update*>,\n",
       " (8, 3): <gurobi.Constr *Awaiting Model Update*>,\n",
       " (8, 4): <gurobi.Constr *Awaiting Model Update*>,\n",
       " (8, 5): <gurobi.Constr *Awaiting Model Update*>,\n",
       " (8, 6): <gurobi.Constr *Awaiting Model Update*>,\n",
       " (8, 7): <gurobi.Constr *Awaiting Model Update*>,\n",
       " (8, 8): <gurobi.Constr *Awaiting Model Update*>,\n",
       " (8, 9): <gurobi.Constr *Awaiting Model Update*>,\n",
       " (8, 10): <gurobi.Constr *Awaiting Model Update*>,\n",
       " (8, 11): <gurobi.Constr *Awaiting Model Update*>,\n",
       " (8, 12): <gurobi.Constr *Awaiting Model Update*>,\n",
       " (8, 13): <gurobi.Constr *Awaiting Model Update*>,\n",
       " (8, 14): <gurobi.Constr *Awaiting Model Update*>,\n",
       " (8, 15): <gurobi.Constr *Awaiting Model Update*>,\n",
       " (8, 16): <gurobi.Constr *Awaiting Model Update*>,\n",
       " (8, 17): <gurobi.Constr *Awaiting Model Update*>,\n",
       " (8, 18): <gurobi.Constr *Awaiting Model Update*>,\n",
       " (8, 19): <gurobi.Constr *Awaiting Model Update*>,\n",
       " (9, 0): <gurobi.Constr *Awaiting Model Update*>,\n",
       " (9, 1): <gurobi.Constr *Awaiting Model Update*>,\n",
       " (9, 2): <gurobi.Constr *Awaiting Model Update*>,\n",
       " (9, 3): <gurobi.Constr *Awaiting Model Update*>,\n",
       " (9, 4): <gurobi.Constr *Awaiting Model Update*>,\n",
       " (9, 5): <gurobi.Constr *Awaiting Model Update*>,\n",
       " (9, 6): <gurobi.Constr *Awaiting Model Update*>,\n",
       " (9, 7): <gurobi.Constr *Awaiting Model Update*>,\n",
       " (9, 8): <gurobi.Constr *Awaiting Model Update*>,\n",
       " (9, 9): <gurobi.Constr *Awaiting Model Update*>,\n",
       " (9, 10): <gurobi.Constr *Awaiting Model Update*>,\n",
       " (9, 11): <gurobi.Constr *Awaiting Model Update*>,\n",
       " (9, 12): <gurobi.Constr *Awaiting Model Update*>,\n",
       " (9, 13): <gurobi.Constr *Awaiting Model Update*>,\n",
       " (9, 14): <gurobi.Constr *Awaiting Model Update*>,\n",
       " (9, 15): <gurobi.Constr *Awaiting Model Update*>,\n",
       " (9, 16): <gurobi.Constr *Awaiting Model Update*>,\n",
       " (9, 17): <gurobi.Constr *Awaiting Model Update*>,\n",
       " (9, 18): <gurobi.Constr *Awaiting Model Update*>,\n",
       " (9, 19): <gurobi.Constr *Awaiting Model Update*>}"
      ]
     },
     "execution_count": 382,
     "metadata": {},
     "output_type": "execute_result"
    }
   ],
   "source": [
    "mdl.addConstrs(((x[i,j] - np.floor(d/dn[i])*y[j] ) <= 0  for i in range(n) for j in range(m)), name = \"kısıt_3\")\n",
    "#fixed charge constrains. np.floor(d/dn[i])*y[j] calculates upper bound of numbers of every order type can be cut from a stock"
   ]
  },
  {
   "cell_type": "code",
   "execution_count": 383,
   "metadata": {},
   "outputs": [
    {
     "data": {
      "text/plain": [
       "{0: <gurobi.Constr *Awaiting Model Update*>,\n",
       " 1: <gurobi.Constr *Awaiting Model Update*>,\n",
       " 2: <gurobi.Constr *Awaiting Model Update*>,\n",
       " 3: <gurobi.Constr *Awaiting Model Update*>,\n",
       " 4: <gurobi.Constr *Awaiting Model Update*>,\n",
       " 5: <gurobi.Constr *Awaiting Model Update*>,\n",
       " 6: <gurobi.Constr *Awaiting Model Update*>,\n",
       " 7: <gurobi.Constr *Awaiting Model Update*>,\n",
       " 8: <gurobi.Constr *Awaiting Model Update*>,\n",
       " 9: <gurobi.Constr *Awaiting Model Update*>,\n",
       " 10: <gurobi.Constr *Awaiting Model Update*>,\n",
       " 11: <gurobi.Constr *Awaiting Model Update*>,\n",
       " 12: <gurobi.Constr *Awaiting Model Update*>,\n",
       " 13: <gurobi.Constr *Awaiting Model Update*>,\n",
       " 14: <gurobi.Constr *Awaiting Model Update*>,\n",
       " 15: <gurobi.Constr *Awaiting Model Update*>,\n",
       " 16: <gurobi.Constr *Awaiting Model Update*>,\n",
       " 17: <gurobi.Constr *Awaiting Model Update*>,\n",
       " 18: <gurobi.Constr *Awaiting Model Update*>}"
      ]
     },
     "execution_count": 383,
     "metadata": {},
     "output_type": "execute_result"
    }
   ],
   "source": [
    "mdl.addConstrs(((y[j]-y[j+1] ) >= 0 for j in range(m) if j < m-1), name = \"kısıt_4\")#preventing symmetries"
   ]
  },
  {
   "cell_type": "code",
   "execution_count": 384,
   "metadata": {},
   "outputs": [
    {
     "name": "stdout",
     "output_type": "stream",
     "text": [
      "Gurobi Optimizer version 9.1.0 build v9.1.0rc0 (win64)\n",
      "Thread count: 4 physical cores, 8 logical processors, using up to 8 threads\n",
      "Optimize a model with 249 rows, 220 columns and 838 nonzeros\n",
      "Model fingerprint: 0x95f539aa\n",
      "Variable types: 0 continuous, 220 integer (20 binary)\n",
      "Coefficient statistics:\n",
      "  Matrix range     [1e+00, 7e+01]\n",
      "  Objective range  [1e+00, 1e+00]\n",
      "  Bounds range     [1e+00, 1e+00]\n",
      "  RHS range        [1e+01, 5e+02]\n",
      "Found heuristic solution: objective 18.0000000\n",
      "Presolve removed 68 rows and 26 columns\n",
      "Presolve time: 0.00s\n",
      "Presolved: 181 rows, 194 columns, 666 nonzeros\n",
      "Variable types: 0 continuous, 194 integer (14 binary)\n",
      "\n",
      "Root relaxation: objective 5.230213e+00, 262 iterations, 0.00 seconds\n",
      "\n",
      "    Nodes    |    Current Node    |     Objective Bounds      |     Work\n",
      " Expl Unexpl |  Obj  Depth IntInf | Incumbent    BestBd   Gap | It/Node Time\n",
      "\n",
      "     0     0    5.23021    0  102   18.00000    5.23021  70.9%     -    0s\n",
      "H    0     0                      16.0000000    5.23021  67.3%     -    0s\n",
      "H    0     0                      15.0000000    5.23021  65.1%     -    0s\n",
      "H    0     0                      13.0000000    5.23021  59.8%     -    0s\n",
      "     0     0   13.00000    0  108   13.00000   13.00000  0.00%     -    0s\n",
      "\n",
      "Cutting planes:\n",
      "  Gomory: 5\n",
      "  Implied bound: 2\n",
      "  MIR: 15\n",
      "  StrongCG: 3\n",
      "  Zero half: 1\n",
      "  Relax-and-lift: 3\n",
      "\n",
      "Explored 1 nodes (611 simplex iterations) in 0.06 seconds\n",
      "Thread count was 8 (of 8 available processors)\n",
      "\n",
      "Solution count 4: 13 15 16 18 \n",
      "\n",
      "Optimal solution found (tolerance 1.00e-04)\n",
      "Best objective 1.300000000000e+01, best bound 1.300000000000e+01, gap 0.0000%\n"
     ]
    }
   ],
   "source": [
    "mdl.optimize()"
   ]
  },
  {
   "cell_type": "code",
   "execution_count": 385,
   "metadata": {},
   "outputs": [
    {
     "name": "stdout",
     "output_type": "stream",
     "text": [
      "\n",
      "    Variable            X \n",
      "-------------------------\n",
      "      x[0,4]            7 \n",
      "      x[0,7]            7 \n",
      "      x[0,8]            1 \n",
      "      x[1,8]           11 \n",
      "     x[1,12]            2 \n",
      "      x[2,0]            5 \n",
      "      x[2,1]            1 \n",
      "     x[2,11]           21 \n",
      "     x[2,12]            4 \n",
      "      x[3,3]            1 \n",
      "      x[3,4]            2 \n",
      "      x[3,8]           17 \n",
      "     x[3,12]            2 \n",
      "      x[4,0]           14 \n",
      "     x[4,12]            2 \n",
      "      x[5,1]            7 \n",
      "      x[5,9]            7 \n",
      "     x[5,11]            1 \n",
      "      x[6,2]            6 \n",
      "      x[6,3]            5 \n",
      "     x[6,12]            1 \n",
      "      x[7,2]            5 \n",
      "      x[7,3]            3 \n",
      "      x[7,5]            2 \n",
      "     x[7,12]            1 \n",
      "      x[8,6]           13 \n",
      "      x[8,7]            1 \n",
      "     x[8,10]           13 \n",
      "     x[8,11]            4 \n",
      "     x[8,12]            1 \n",
      "      x[9,0]            4 \n",
      "      x[9,3]            2 \n",
      "      x[9,5]           11 \n",
      "     x[9,12]            1 \n",
      "        y[0]            1 \n",
      "        y[1]            1 \n",
      "        y[2]            1 \n",
      "        y[3]            1 \n",
      "        y[4]            1 \n",
      "        y[5]            1 \n",
      "        y[6]            1 \n",
      "        y[7]            1 \n",
      "        y[8]            1 \n",
      "        y[9]            1 \n",
      "       y[10]            1 \n",
      "       y[11]            1 \n",
      "       y[12]            1 \n"
     ]
    }
   ],
   "source": [
    "mdl.printAttr(\"X\")"
   ]
  },
  {
   "cell_type": "code",
   "execution_count": 386,
   "metadata": {},
   "outputs": [],
   "source": [
    "#for visuliation\n",
    "assignment = []\n",
    "alt = []\n",
    "alt1 = []\n",
    "for i in range(m):\n",
    "    for j in range(n):\n",
    "        if x[j,i].x > 0:\n",
    "            alt.append([j]*int(x[j,i].x))\n",
    "            for k in alt[0]:\n",
    "                alt1.append(k)\n",
    "                alt = []\n",
    "    assignment.append([[i],alt1])\n",
    "    alt1 = []"
   ]
  },
  {
   "cell_type": "code",
   "execution_count": 387,
   "metadata": {},
   "outputs": [],
   "source": [
    "#for visuliation\n",
    "colors= [\"red\",\"black\",\"yellow\",\"orange\",\"grey\",\"green\",\"purple\",\"blue\",\"magenta\",\"cyan\",\"pink\",\"darkseagreen\",\"chocolate\"\n",
    "       ,\"lightsalmon\",\"aqua\",\"coral\",\"darkred\",\"azure\",\"limegreen\",\"bisque\"]\n",
    "labels = [\"stock-\"+str(i) for i in range(m)]"
   ]
  },
  {
   "cell_type": "code",
   "execution_count": 392,
   "metadata": {},
   "outputs": [
    {
     "data": {
      "image/png": "[encoded data removed]",
      "text/plain": [
       "<Figure size 648x504 with 1 Axes>"
      ]
     },
     "metadata": {
      "needs_background": "light"
     },
     "output_type": "display_data"
    }
   ],
   "source": [
    "#for visuliation. \n",
    "plt.figure(figsize=(9,7))\n",
    "plt.bar(labels,d, color =\"white\", edgecolor = \"peru\",hatch = \"\\\\X//\")\n",
    "for k in range(m):\n",
    "    a = 0\n",
    "    b = 0\n",
    "    for i in range(len(assignment[k][1])):\n",
    "        if i == 0:\n",
    "            plt.bar(labels[k],dn[assignment[k][1][i]], edgecolor = \"peru\", color = colors[assignment[k][1][i]])\n",
    "            a = dn[assignment[k][1][i]]\n",
    "        else:\n",
    "            plt.bar(labels[k], dn[assignment[k][1][i]],edgecolor = \"peru\", bottom = a+b,color = colors[assignment[k][1][i]])\n",
    "            b += dn[assignment[k][1][i]]\n",
    "plt.xticks(labels, rotation = 90)\n",
    "#plt.yticks(np.arange(0, d+100, 50))\n",
    "plt.show()"
   ]
  }
 ],
 "metadata": {
  "kernelspec": {
   "display_name": "Python 3",
   "language": "python",
   "name": "python3"
  },
  "language_info": {
   "codemirror_mode": {
    "name": "ipython",
    "version": 3
   },
   "file_extension": ".py",
   "mimetype": "text/x-python",
   "name": "python",
   "nbconvert_exporter": "python",
   "pygments_lexer": "ipython3",
   "version": "3.8.3"
  }
 },
 "nbformat": 4,
 "nbformat_minor": 4
}
