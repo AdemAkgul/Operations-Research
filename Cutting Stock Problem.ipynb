{
 "cells": [
  {
   "cell_type": "markdown",
   "metadata": {},
   "source": [
    "1-D Cutting stock problem is one of the most famous problems in OR. In this problem, the amount of residual pieces of processed stock rolls must be minimized. You can minimize the number of stock rolls to be used or the total length of residual (waste, scrap, etc.) pieces. There are two other variants of this problem: 2-D and 3D. I addressed 1-D problem in this post because it is comparatively easy. Mathematical model as followed below is not a good model due to fact that it has many symmetries. There are some other technics to handle this problem. \n",
    "https://laurentlessard.com/teaching/cs524/slides/21%20-%20set%20cover%20and%20TSP.pdf"
   ]
  },
  {
   "cell_type": "code",
   "execution_count": 313,
   "metadata": {},
   "outputs": [],
   "source": [
    "import gurobipy as gb\n",
    "import numpy as np\n",
    "import matplotlib.pyplot as plt"
   ]
  },
  {
   "cell_type": "code",
   "execution_count": 314,
   "metadata": {},
   "outputs": [],
   "source": [
    "n = 10 #number of types of orders. For instance 6 20cm-length, 12 30cm-legnth, etc. \n",
    "m = 20 #number of cutting stock rolls\n",
    "d = 500 #length of cutting stock roll. You may have rolls which have different lenghts. It does not matter.\n",
    "dn = {i: np.random.randint(10,80) for i in range(n)} #length of every order type\n",
    "tn = {i: np.random.randint(10,40) for i in range(n)} #number of every order type"
   ]
  },
  {
   "cell_type": "code",
   "execution_count": 315,
   "metadata": {},
   "outputs": [],
   "source": [
    "summation = [ dn[i]*tn[i] for i in range(n)]"
   ]
  },
  {
   "cell_type": "code",
   "execution_count": 316,
   "metadata": {},
   "outputs": [
    {
     "data": {
      "text/plain": [
       "(9484, 10000)"
      ]
     },
     "execution_count": 316,
     "metadata": {},
     "output_type": "execute_result"
    }
   ],
   "source": [
    "sum(summation),m*d #total length of orders (tlo) (meter) and total amount of stocks (tas) (meter). tlo must be less than tas\n",
    "#for feasible model."
   ]
  },
  {
   "cell_type": "code",
   "execution_count": 317,
   "metadata": {},
   "outputs": [],
   "source": [
    "mdl = gb.Model(\"Cutting Stock\")"
   ]
  },
  {
   "cell_type": "code",
   "execution_count": 318,
   "metadata": {},
   "outputs": [],
   "source": [
    "x = mdl.addVars(n,m, vtype = gb.GRB.INTEGER, name = \"x\")#number of order n cutting from stock m\n",
    "y = mdl.addVars(m, vtype = gb.GRB.BINARY, name = \"y\")#if stock m is used, it equals to 1, ow 0"
   ]
  },
  {
   "cell_type": "code",
   "execution_count": 319,
   "metadata": {},
   "outputs": [],
   "source": [
    "mdl.setObjective(gb.quicksum(y[j] for j in range(m)))#minimize number of used stocks"
   ]
  },
  {
   "cell_type": "code",
   "execution_count": 320,
   "metadata": {},
   "outputs": [],
   "source": [
    "#mdl.setObjective(gb.quicksum(y[j]*d-x[i,j]*dn[i] for i in range(n) for j in range(m)))#you can minimize total length of residual\n",
    "#pieces. Please try this onjective and observe difference"
   ]
  },
  {
   "cell_type": "code",
   "execution_count": 321,
   "metadata": {},
   "outputs": [
    {
     "data": {
      "text/plain": [
       "{0: <gurobi.Constr *Awaiting Model Update*>,\n",
       " 1: <gurobi.Constr *Awaiting Model Update*>,\n",
       " 2: <gurobi.Constr *Awaiting Model Update*>,\n",
       " 3: <gurobi.Constr *Awaiting Model Update*>,\n",
       " 4: <gurobi.Constr *Awaiting Model Update*>,\n",
       " 5: <gurobi.Constr *Awaiting Model Update*>,\n",
       " 6: <gurobi.Constr *Awaiting Model Update*>,\n",
       " 7: <gurobi.Constr *Awaiting Model Update*>,\n",
       " 8: <gurobi.Constr *Awaiting Model Update*>,\n",
       " 9: <gurobi.Constr *Awaiting Model Update*>,\n",
       " 10: <gurobi.Constr *Awaiting Model Update*>,\n",
       " 11: <gurobi.Constr *Awaiting Model Update*>,\n",
       " 12: <gurobi.Constr *Awaiting Model Update*>,\n",
       " 13: <gurobi.Constr *Awaiting Model Update*>,\n",
       " 14: <gurobi.Constr *Awaiting Model Update*>,\n",
       " 15: <gurobi.Constr *Awaiting Model Update*>,\n",
       " 16: <gurobi.Constr *Awaiting Model Update*>,\n",
       " 17: <gurobi.Constr *Awaiting Model Update*>,\n",
       " 18: <gurobi.Constr *Awaiting Model Update*>,\n",
       " 19: <gurobi.Constr *Awaiting Model Update*>}"
      ]
     },
     "execution_count": 321,
     "metadata": {},
     "output_type": "execute_result"
    }
   ],
   "source": [
    "mdl.addConstrs((gb.quicksum(dn[i]*x[i,j] for i in range(n)) <= d for j in range(m)), name = \"kısıt_1\")\n",
    "#The total length of pieces cut from a stock cannot exceed the total length of that stock."
   ]
  },
  {
   "cell_type": "code",
   "execution_count": 322,
   "metadata": {},
   "outputs": [
    {
     "data": {
      "text/plain": [
       "{0: <gurobi.Constr *Awaiting Model Update*>,\n",
       " 1: <gurobi.Constr *Awaiting Model Update*>,\n",
       " 2: <gurobi.Constr *Awaiting Model Update*>,\n",
       " 3: <gurobi.Constr *Awaiting Model Update*>,\n",
       " 4: <gurobi.Constr *Awaiting Model Update*>,\n",
       " 5: <gurobi.Constr *Awaiting Model Update*>,\n",
       " 6: <gurobi.Constr *Awaiting Model Update*>,\n",
       " 7: <gurobi.Constr *Awaiting Model Update*>,\n",
       " 8: <gurobi.Constr *Awaiting Model Update*>,\n",
       " 9: <gurobi.Constr *Awaiting Model Update*>}"
      ]
     },
     "execution_count": 322,
     "metadata": {},
     "output_type": "execute_result"
    }
   ],
   "source": [
    "mdl.addConstrs((gb.quicksum(x[i,j] for j in range(m)) >= tn[i] for i in range(n)), name = \"kısıt_2\")\n",
    "#Number of cutomer orders must be satisfied."
   ]
  },
  {
   "cell_type": "code",
   "execution_count": 323,
   "metadata": {},
   "outputs": [
    {
     "data": {
      "text/plain": [
       "{(0, 0): <gurobi.Constr *Awaiting Model Update*>,\n",
       " (0, 1): <gurobi.Constr *Awaiting Model Update*>,\n",
       " (0, 2): <gurobi.Constr *Awaiting Model Update*>,\n",
       " (0, 3): <gurobi.Constr *Awaiting Model Update*>,\n",
       " (0, 4): <gurobi.Constr *Awaiting Model Update*>,\n",
       " (0, 5): <gurobi.Constr *Awaiting Model Update*>,\n",
       " (0, 6): <gurobi.Constr *Awaiting Model Update*>,\n",
       " (0, 7): <gurobi.Constr *Awaiting Model Update*>,\n",
       " (0, 8): <gurobi.Constr *Awaiting Model Update*>,\n",
       " (0, 9): <gurobi.Constr *Awaiting Model Update*>,\n",
       " (0, 10): <gurobi.Constr *Awaiting Model Update*>,\n",
       " (0, 11): <gurobi.Constr *Awaiting Model Update*>,\n",
       " (0, 12): <gurobi.Constr *Awaiting Model Update*>,\n",
       " (0, 13): <gurobi.Constr *Awaiting Model Update*>,\n",
       " (0, 14): <gurobi.Constr *Awaiting Model Update*>,\n",
       " (0, 15): <gurobi.Constr *Awaiting Model Update*>,\n",
       " (0, 16): <gurobi.Constr *Awaiting Model Update*>,\n",
       " (0, 17): <gurobi.Constr *Awaiting Model Update*>,\n",
       " (0, 18): <gurobi.Constr *Awaiting Model Update*>,\n",
       " (0, 19): <gurobi.Constr *Awaiting Model Update*>,\n",
       " (1, 0): <gurobi.Constr *Awaiting Model Update*>,\n",
       " (1, 1): <gurobi.Constr *Awaiting Model Update*>,\n",
       " (1, 2): <gurobi.Constr *Awaiting Model Update*>,\n",
       " (1, 3): <gurobi.Constr *Awaiting Model Update*>,\n",
       " (1, 4): <gurobi.Constr *Awaiting Model Update*>,\n",
       " (1, 5): <gurobi.Constr *Awaiting Model Update*>,\n",
       " (1, 6): <gurobi.Constr *Awaiting Model Update*>,\n",
       " (1, 7): <gurobi.Constr *Awaiting Model Update*>,\n",
       " (1, 8): <gurobi.Constr *Awaiting Model Update*>,\n",
       " (1, 9): <gurobi.Constr *Awaiting Model Update*>,\n",
       " (1, 10): <gurobi.Constr *Awaiting Model Update*>,\n",
       " (1, 11): <gurobi.Constr *Awaiting Model Update*>,\n",
       " (1, 12): <gurobi.Constr *Awaiting Model Update*>,\n",
       " (1, 13): <gurobi.Constr *Awaiting Model Update*>,\n",
       " (1, 14): <gurobi.Constr *Awaiting Model Update*>,\n",
       " (1, 15): <gurobi.Constr *Awaiting Model Update*>,\n",
       " (1, 16): <gurobi.Constr *Awaiting Model Update*>,\n",
       " (1, 17): <gurobi.Constr *Awaiting Model Update*>,\n",
       " (1, 18): <gurobi.Constr *Awaiting Model Update*>,\n",
       " (1, 19): <gurobi.Constr *Awaiting Model Update*>,\n",
       " (2, 0): <gurobi.Constr *Awaiting Model Update*>,\n",
       " (2, 1): <gurobi.Constr *Awaiting Model Update*>,\n",
       " (2, 2): <gurobi.Constr *Awaiting Model Update*>,\n",
       " (2, 3): <gurobi.Constr *Awaiting Model Update*>,\n",
       " (2, 4): <gurobi.Constr *Awaiting Model Update*>,\n",
       " (2, 5): <gurobi.Constr *Awaiting Model Update*>,\n",
       " (2, 6): <gurobi.Constr *Awaiting Model Update*>,\n",
       " (2, 7): <gurobi.Constr *Awaiting Model Update*>,\n",
       " (2, 8): <gurobi.Constr *Awaiting Model Update*>,\n",
       " (2, 9): <gurobi.Constr *Awaiting Model Update*>,\n",
       " (2, 10): <gurobi.Constr *Awaiting Model Update*>,\n",
       " (2, 11): <gurobi.Constr *Awaiting Model Update*>,\n",
       " (2, 12): <gurobi.Constr *Awaiting Model Update*>,\n",
       " (2, 13): <gurobi.Constr *Awaiting Model Update*>,\n",
       " (2, 14): <gurobi.Constr *Awaiting Model Update*>,\n",
       " (2, 15): <gurobi.Constr *Awaiting Model Update*>,\n",
       " (2, 16): <gurobi.Constr *Awaiting Model Update*>,\n",
       " (2, 17): <gurobi.Constr *Awaiting Model Update*>,\n",
       " (2, 18): <gurobi.Constr *Awaiting Model Update*>,\n",
       " (2, 19): <gurobi.Constr *Awaiting Model Update*>,\n",
       " (3, 0): <gurobi.Constr *Awaiting Model Update*>,\n",
       " (3, 1): <gurobi.Constr *Awaiting Model Update*>,\n",
       " (3, 2): <gurobi.Constr *Awaiting Model Update*>,\n",
       " (3, 3): <gurobi.Constr *Awaiting Model Update*>,\n",
       " (3, 4): <gurobi.Constr *Awaiting Model Update*>,\n",
       " (3, 5): <gurobi.Constr *Awaiting Model Update*>,\n",
       " (3, 6): <gurobi.Constr *Awaiting Model Update*>,\n",
       " (3, 7): <gurobi.Constr *Awaiting Model Update*>,\n",
       " (3, 8): <gurobi.Constr *Awaiting Model Update*>,\n",
       " (3, 9): <gurobi.Constr *Awaiting Model Update*>,\n",
       " (3, 10): <gurobi.Constr *Awaiting Model Update*>,\n",
       " (3, 11): <gurobi.Constr *Awaiting Model Update*>,\n",
       " (3, 12): <gurobi.Constr *Awaiting Model Update*>,\n",
       " (3, 13): <gurobi.Constr *Awaiting Model Update*>,\n",
       " (3, 14): <gurobi.Constr *Awaiting Model Update*>,\n",
       " (3, 15): <gurobi.Constr *Awaiting Model Update*>,\n",
       " (3, 16): <gurobi.Constr *Awaiting Model Update*>,\n",
       " (3, 17): <gurobi.Constr *Awaiting Model Update*>,\n",
       " (3, 18): <gurobi.Constr *Awaiting Model Update*>,\n",
       " (3, 19): <gurobi.Constr *Awaiting Model Update*>,\n",
       " (4, 0): <gurobi.Constr *Awaiting Model Update*>,\n",
       " (4, 1): <gurobi.Constr *Awaiting Model Update*>,\n",
       " (4, 2): <gurobi.Constr *Awaiting Model Update*>,\n",
       " (4, 3): <gurobi.Constr *Awaiting Model Update*>,\n",
       " (4, 4): <gurobi.Constr *Awaiting Model Update*>,\n",
       " (4, 5): <gurobi.Constr *Awaiting Model Update*>,\n",
       " (4, 6): <gurobi.Constr *Awaiting Model Update*>,\n",
       " (4, 7): <gurobi.Constr *Awaiting Model Update*>,\n",
       " (4, 8): <gurobi.Constr *Awaiting Model Update*>,\n",
       " (4, 9): <gurobi.Constr *Awaiting Model Update*>,\n",
       " (4, 10): <gurobi.Constr *Awaiting Model Update*>,\n",
       " (4, 11): <gurobi.Constr *Awaiting Model Update*>,\n",
       " (4, 12): <gurobi.Constr *Awaiting Model Update*>,\n",
       " (4, 13): <gurobi.Constr *Awaiting Model Update*>,\n",
       " (4, 14): <gurobi.Constr *Awaiting Model Update*>,\n",
       " (4, 15): <gurobi.Constr *Awaiting Model Update*>,\n",
       " (4, 16): <gurobi.Constr *Awaiting Model Update*>,\n",
       " (4, 17): <gurobi.Constr *Awaiting Model Update*>,\n",
       " (4, 18): <gurobi.Constr *Awaiting Model Update*>,\n",
       " (4, 19): <gurobi.Constr *Awaiting Model Update*>,\n",
       " (5, 0): <gurobi.Constr *Awaiting Model Update*>,\n",
       " (5, 1): <gurobi.Constr *Awaiting Model Update*>,\n",
       " (5, 2): <gurobi.Constr *Awaiting Model Update*>,\n",
       " (5, 3): <gurobi.Constr *Awaiting Model Update*>,\n",
       " (5, 4): <gurobi.Constr *Awaiting Model Update*>,\n",
       " (5, 5): <gurobi.Constr *Awaiting Model Update*>,\n",
       " (5, 6): <gurobi.Constr *Awaiting Model Update*>,\n",
       " (5, 7): <gurobi.Constr *Awaiting Model Update*>,\n",
       " (5, 8): <gurobi.Constr *Awaiting Model Update*>,\n",
       " (5, 9): <gurobi.Constr *Awaiting Model Update*>,\n",
       " (5, 10): <gurobi.Constr *Awaiting Model Update*>,\n",
       " (5, 11): <gurobi.Constr *Awaiting Model Update*>,\n",
       " (5, 12): <gurobi.Constr *Awaiting Model Update*>,\n",
       " (5, 13): <gurobi.Constr *Awaiting Model Update*>,\n",
       " (5, 14): <gurobi.Constr *Awaiting Model Update*>,\n",
       " (5, 15): <gurobi.Constr *Awaiting Model Update*>,\n",
       " (5, 16): <gurobi.Constr *Awaiting Model Update*>,\n",
       " (5, 17): <gurobi.Constr *Awaiting Model Update*>,\n",
       " (5, 18): <gurobi.Constr *Awaiting Model Update*>,\n",
       " (5, 19): <gurobi.Constr *Awaiting Model Update*>,\n",
       " (6, 0): <gurobi.Constr *Awaiting Model Update*>,\n",
       " (6, 1): <gurobi.Constr *Awaiting Model Update*>,\n",
       " (6, 2): <gurobi.Constr *Awaiting Model Update*>,\n",
       " (6, 3): <gurobi.Constr *Awaiting Model Update*>,\n",
       " (6, 4): <gurobi.Constr *Awaiting Model Update*>,\n",
       " (6, 5): <gurobi.Constr *Awaiting Model Update*>,\n",
       " (6, 6): <gurobi.Constr *Awaiting Model Update*>,\n",
       " (6, 7): <gurobi.Constr *Awaiting Model Update*>,\n",
       " (6, 8): <gurobi.Constr *Awaiting Model Update*>,\n",
       " (6, 9): <gurobi.Constr *Awaiting Model Update*>,\n",
       " (6, 10): <gurobi.Constr *Awaiting Model Update*>,\n",
       " (6, 11): <gurobi.Constr *Awaiting Model Update*>,\n",
       " (6, 12): <gurobi.Constr *Awaiting Model Update*>,\n",
       " (6, 13): <gurobi.Constr *Awaiting Model Update*>,\n",
       " (6, 14): <gurobi.Constr *Awaiting Model Update*>,\n",
       " (6, 15): <gurobi.Constr *Awaiting Model Update*>,\n",
       " (6, 16): <gurobi.Constr *Awaiting Model Update*>,\n",
       " (6, 17): <gurobi.Constr *Awaiting Model Update*>,\n",
       " (6, 18): <gurobi.Constr *Awaiting Model Update*>,\n",
       " (6, 19): <gurobi.Constr *Awaiting Model Update*>,\n",
       " (7, 0): <gurobi.Constr *Awaiting Model Update*>,\n",
       " (7, 1): <gurobi.Constr *Awaiting Model Update*>,\n",
       " (7, 2): <gurobi.Constr *Awaiting Model Update*>,\n",
       " (7, 3): <gurobi.Constr *Awaiting Model Update*>,\n",
       " (7, 4): <gurobi.Constr *Awaiting Model Update*>,\n",
       " (7, 5): <gurobi.Constr *Awaiting Model Update*>,\n",
       " (7, 6): <gurobi.Constr *Awaiting Model Update*>,\n",
       " (7, 7): <gurobi.Constr *Awaiting Model Update*>,\n",
       " (7, 8): <gurobi.Constr *Awaiting Model Update*>,\n",
       " (7, 9): <gurobi.Constr *Awaiting Model Update*>,\n",
       " (7, 10): <gurobi.Constr *Awaiting Model Update*>,\n",
       " (7, 11): <gurobi.Constr *Awaiting Model Update*>,\n",
       " (7, 12): <gurobi.Constr *Awaiting Model Update*>,\n",
       " (7, 13): <gurobi.Constr *Awaiting Model Update*>,\n",
       " (7, 14): <gurobi.Constr *Awaiting Model Update*>,\n",
       " (7, 15): <gurobi.Constr *Awaiting Model Update*>,\n",
       " (7, 16): <gurobi.Constr *Awaiting Model Update*>,\n",
       " (7, 17): <gurobi.Constr *Awaiting Model Update*>,\n",
       " (7, 18): <gurobi.Constr *Awaiting Model Update*>,\n",
       " (7, 19): <gurobi.Constr *Awaiting Model Update*>,\n",
       " (8, 0): <gurobi.Constr *Awaiting Model Update*>,\n",
       " (8, 1): <gurobi.Constr *Awaiting Model Update*>,\n",
       " (8, 2): <gurobi.Constr *Awaiting Model Update*>,\n",
       " (8, 3): <gurobi.Constr *Awaiting Model Update*>,\n",
       " (8, 4): <gurobi.Constr *Awaiting Model Update*>,\n",
       " (8, 5): <gurobi.Constr *Awaiting Model Update*>,\n",
       " (8, 6): <gurobi.Constr *Awaiting Model Update*>,\n",
       " (8, 7): <gurobi.Constr *Awaiting Model Update*>,\n",
       " (8, 8): <gurobi.Constr *Awaiting Model Update*>,\n",
       " (8, 9): <gurobi.Constr *Awaiting Model Update*>,\n",
       " (8, 10): <gurobi.Constr *Awaiting Model Update*>,\n",
       " (8, 11): <gurobi.Constr *Awaiting Model Update*>,\n",
       " (8, 12): <gurobi.Constr *Awaiting Model Update*>,\n",
       " (8, 13): <gurobi.Constr *Awaiting Model Update*>,\n",
       " (8, 14): <gurobi.Constr *Awaiting Model Update*>,\n",
       " (8, 15): <gurobi.Constr *Awaiting Model Update*>,\n",
       " (8, 16): <gurobi.Constr *Awaiting Model Update*>,\n",
       " (8, 17): <gurobi.Constr *Awaiting Model Update*>,\n",
       " (8, 18): <gurobi.Constr *Awaiting Model Update*>,\n",
       " (8, 19): <gurobi.Constr *Awaiting Model Update*>,\n",
       " (9, 0): <gurobi.Constr *Awaiting Model Update*>,\n",
       " (9, 1): <gurobi.Constr *Awaiting Model Update*>,\n",
       " (9, 2): <gurobi.Constr *Awaiting Model Update*>,\n",
       " (9, 3): <gurobi.Constr *Awaiting Model Update*>,\n",
       " (9, 4): <gurobi.Constr *Awaiting Model Update*>,\n",
       " (9, 5): <gurobi.Constr *Awaiting Model Update*>,\n",
       " (9, 6): <gurobi.Constr *Awaiting Model Update*>,\n",
       " (9, 7): <gurobi.Constr *Awaiting Model Update*>,\n",
       " (9, 8): <gurobi.Constr *Awaiting Model Update*>,\n",
       " (9, 9): <gurobi.Constr *Awaiting Model Update*>,\n",
       " (9, 10): <gurobi.Constr *Awaiting Model Update*>,\n",
       " (9, 11): <gurobi.Constr *Awaiting Model Update*>,\n",
       " (9, 12): <gurobi.Constr *Awaiting Model Update*>,\n",
       " (9, 13): <gurobi.Constr *Awaiting Model Update*>,\n",
       " (9, 14): <gurobi.Constr *Awaiting Model Update*>,\n",
       " (9, 15): <gurobi.Constr *Awaiting Model Update*>,\n",
       " (9, 16): <gurobi.Constr *Awaiting Model Update*>,\n",
       " (9, 17): <gurobi.Constr *Awaiting Model Update*>,\n",
       " (9, 18): <gurobi.Constr *Awaiting Model Update*>,\n",
       " (9, 19): <gurobi.Constr *Awaiting Model Update*>}"
      ]
     },
     "execution_count": 323,
     "metadata": {},
     "output_type": "execute_result"
    }
   ],
   "source": [
    "mdl.addConstrs(((x[i,j] - np.floor(d/dn[i])*y[j] ) <= 0  for i in range(n) for j in range(m)), name = \"kısıt_3\")\n",
    "#fixed charge constrains. np.floor(d/dn[i])*y[j] calculates upper bound of numbers of every order type can be cut from a stock"
   ]
  },
  {
   "cell_type": "code",
   "execution_count": 324,
   "metadata": {},
   "outputs": [
    {
     "data": {
      "text/plain": [
       "{0: <gurobi.Constr *Awaiting Model Update*>,\n",
       " 1: <gurobi.Constr *Awaiting Model Update*>,\n",
       " 2: <gurobi.Constr *Awaiting Model Update*>,\n",
       " 3: <gurobi.Constr *Awaiting Model Update*>,\n",
       " 4: <gurobi.Constr *Awaiting Model Update*>,\n",
       " 5: <gurobi.Constr *Awaiting Model Update*>,\n",
       " 6: <gurobi.Constr *Awaiting Model Update*>,\n",
       " 7: <gurobi.Constr *Awaiting Model Update*>,\n",
       " 8: <gurobi.Constr *Awaiting Model Update*>,\n",
       " 9: <gurobi.Constr *Awaiting Model Update*>,\n",
       " 10: <gurobi.Constr *Awaiting Model Update*>,\n",
       " 11: <gurobi.Constr *Awaiting Model Update*>,\n",
       " 12: <gurobi.Constr *Awaiting Model Update*>,\n",
       " 13: <gurobi.Constr *Awaiting Model Update*>,\n",
       " 14: <gurobi.Constr *Awaiting Model Update*>,\n",
       " 15: <gurobi.Constr *Awaiting Model Update*>,\n",
       " 16: <gurobi.Constr *Awaiting Model Update*>,\n",
       " 17: <gurobi.Constr *Awaiting Model Update*>,\n",
       " 18: <gurobi.Constr *Awaiting Model Update*>}"
      ]
     },
     "execution_count": 324,
     "metadata": {},
     "output_type": "execute_result"
    }
   ],
   "source": [
    "mdl.addConstrs(((y[j]-y[j+1] ) >= 0 for j in range(m) if j < m-1), name = \"kısıt_4\")#preventing symmetries"
   ]
  },
  {
   "cell_type": "code",
   "execution_count": 325,
   "metadata": {},
   "outputs": [
    {
     "name": "stdout",
     "output_type": "stream",
     "text": [
      "Gurobi Optimizer version 9.1.0 build v9.1.0rc0 (win64)\n",
      "Thread count: 4 physical cores, 8 logical processors, using up to 8 threads\n",
      "Optimize a model with 249 rows, 220 columns and 838 nonzeros\n",
      "Model fingerprint: 0x7481a1bf\n",
      "Variable types: 0 continuous, 220 integer (20 binary)\n",
      "Coefficient statistics:\n",
      "  Matrix range     [1e+00, 7e+01]\n",
      "  Objective range  [1e+00, 1e+00]\n",
      "  Bounds range     [1e+00, 1e+00]\n",
      "  RHS range        [1e+01, 5e+02]\n",
      "Found heuristic solution: objective 20.0000000\n",
      "Presolve removed 77 rows and 7 columns\n",
      "Presolve time: 0.00s\n",
      "Presolved: 172 rows, 213 columns, 684 nonzeros\n",
      "Variable types: 0 continuous, 213 integer (13 binary)\n",
      "\n",
      "Root relaxation: objective 8.439545e+00, 263 iterations, 0.00 seconds\n",
      "\n",
      "    Nodes    |    Current Node    |     Objective Bounds      |     Work\n",
      " Expl Unexpl |  Obj  Depth IntInf | Incumbent    BestBd   Gap | It/Node Time\n",
      "\n",
      "     0     0    8.43955    0  135   20.00000    8.43955  57.8%     -    0s\n",
      "     0     0   19.00000    0   35   20.00000   19.00000  5.00%     -    0s\n",
      "     0     0   19.00000    0   36   20.00000   19.00000  5.00%     -    0s\n",
      "     0     0   19.00000    0   32   20.00000   19.00000  5.00%     -    0s\n",
      "     0     0   19.00000    0   30   20.00000   19.00000  5.00%     -    0s\n",
      "     0     0   19.00000    0   30   20.00000   19.00000  5.00%     -    0s\n",
      "     0     0   19.00000    0   25   20.00000   19.00000  5.00%     -    0s\n",
      "     0     0   19.00000    0   22   20.00000   19.00000  5.00%     -    0s\n",
      "     0     0   19.00000    0   27   20.00000   19.00000  5.00%     -    0s\n",
      "     0     0   19.00000    0   24   20.00000   19.00000  5.00%     -    0s\n",
      "     0     0   19.00000    0   18   20.00000   19.00000  5.00%     -    0s\n",
      "     0     0   19.00000    0   36   20.00000   19.00000  5.00%     -    0s\n",
      "     0     0   19.00000    0   22   20.00000   19.00000  5.00%     -    0s\n",
      "     0     2   19.00000    0   21   20.00000   19.00000  5.00%     -    0s\n",
      "H 1109   770                      19.0000000   19.00000  0.00%   4.8    0s\n",
      "\n",
      "Cutting planes:\n",
      "  Gomory: 27\n",
      "  MIR: 47\n",
      "  StrongCG: 25\n",
      "\n",
      "Explored 1109 nodes (7453 simplex iterations) in 0.42 seconds\n",
      "Thread count was 8 (of 8 available processors)\n",
      "\n",
      "Solution count 2: 19 20 \n",
      "\n",
      "Optimal solution found (tolerance 1.00e-04)\n",
      "Best objective 1.900000000000e+01, best bound 1.900000000000e+01, gap 0.0000%\n"
     ]
    }
   ],
   "source": [
    "mdl.optimize()"
   ]
  },
  {
   "cell_type": "code",
   "execution_count": 326,
   "metadata": {},
   "outputs": [
    {
     "name": "stdout",
     "output_type": "stream",
     "text": [
      "\n",
      "    Variable            X \n",
      "-------------------------\n",
      "      x[0,0]            2 \n",
      "      x[0,1]            2 \n",
      "      x[0,2]            2 \n",
      "      x[0,3]            2 \n",
      "      x[0,5]            7 \n",
      "     x[0,11]            3 \n",
      "     x[0,12]            7 \n",
      "     x[0,14]            1 \n",
      "     x[0,17]            5 \n",
      "     x[0,18]            7 \n",
      "      x[1,1]            5 \n",
      "      x[1,8]            6 \n",
      "     x[1,11]            1 \n",
      "     x[1,14]            2 \n",
      "     x[1,15]            4 \n",
      "      x[2,0]            1 \n",
      "      x[2,4]           10 \n",
      "      x[2,6]            1 \n",
      "     x[2,10]            7 \n",
      "     x[2,11]            4 \n",
      "     x[2,14]            6 \n",
      "     x[2,16]            2 \n",
      "      x[3,0]            3 \n",
      "      x[3,4]            3 \n",
      "      x[3,6]            6 \n",
      "      x[3,8]            2 \n",
      "      x[4,7]            8 \n",
      "     x[4,10]            3 \n",
      "     x[4,16]            3 \n",
      "      x[5,0]            1 \n",
      "      x[5,4]            2 \n",
      "      x[5,8]            2 \n",
      "     x[5,10]            1 \n",
      "     x[5,11]            1 \n",
      "     x[5,14]            1 \n",
      "     x[5,15]            4 \n",
      "     x[5,17]            2 \n",
      "      x[6,0]            1 \n",
      "      x[6,1]            2 \n",
      "      x[6,6]            3 \n",
      "     x[6,13]            2 \n",
      "     x[6,16]            3 \n",
      "      x[7,0]            1 \n",
      "      x[7,2]            6 \n",
      "      x[7,3]            6 \n",
      "      x[7,6]            1 \n",
      "      x[7,9]            9 \n",
      "     x[7,11]            1 \n",
      "     x[7,13]            3 \n",
      "     x[7,14]            2 \n",
      "     x[7,15]            1 \n",
      "      x[8,2]            1 \n",
      "      x[8,3]            1 \n",
      "      x[8,6]            2 \n",
      "     x[8,10]            2 \n",
      "     x[8,13]            6 \n",
      "     x[8,16]            1 \n",
      "     x[8,17]            1 \n",
      "      x[9,0]            4 \n",
      "      x[9,4]            1 \n",
      "      x[9,7]            1 \n",
      "      x[9,9]            1 \n",
      "     x[9,11]            1 \n",
      "     x[9,13]            1 \n",
      "     x[9,15]            1 \n",
      "     x[9,16]            5 \n",
      "        y[0]            1 \n",
      "        y[1]            1 \n",
      "        y[2]            1 \n",
      "        y[3]            1 \n",
      "        y[4]            1 \n",
      "        y[5]            1 \n",
      "        y[6]            1 \n",
      "        y[7]            1 \n",
      "        y[8]            1 \n",
      "        y[9]            1 \n",
      "       y[10]            1 \n",
      "       y[11]            1 \n",
      "       y[12]            1 \n",
      "       y[13]            1 \n",
      "       y[14]            1 \n",
      "       y[15]            1 \n",
      "       y[16]            1 \n",
      "       y[17]            1 \n",
      "       y[18]            1 \n"
     ]
    }
   ],
   "source": [
    "mdl.printAttr(\"X\")"
   ]
  },
  {
   "cell_type": "code",
   "execution_count": 327,
   "metadata": {},
   "outputs": [],
   "source": [
    "#for visuliation\n",
    "assignment = []\n",
    "alt = []\n",
    "alt1 = []\n",
    "for i in range(m):\n",
    "    for j in range(n):\n",
    "        if x[j,i].x > 0:\n",
    "            alt.append([j]*int(x[j,i].x))\n",
    "            for k in alt[0]:\n",
    "                alt1.append(k)\n",
    "                alt = []\n",
    "    assignment.append([[i],alt1])\n",
    "    alt1 = []"
   ]
  },
  {
   "cell_type": "code",
   "execution_count": 328,
   "metadata": {},
   "outputs": [],
   "source": [
    "#for visuliation\n",
    "colors= [\"red\",\"black\",\"yellow\",\"orange\",\"grey\",\"green\",\"purple\",\"blue\",\"magenta\",\"cyan\",\"pink\",\"darkseagreen\",\"chocolate\"\n",
    "       ,\"lightsalmon\",\"aqua\",\"coral\",\"darkred\",\"azure\",\"limegreen\",\"bisque\"]\n",
    "labels = [\"stock-\"+str(i) for i in range(m)]"
   ]
  },
  {
   "cell_type": "code",
   "execution_count": 329,
   "metadata": {},
   "outputs": [
    {
     "data": {
      "image/png": "[encoded data removed]",
      "text/plain": [
       "<Figure size 648x504 with 1 Axes>"
      ]
     },
     "metadata": {
      "needs_background": "light"
     },
     "output_type": "display_data"
    }
   ],
   "source": [
    "#for visuliation. Try second objective and observe difference between two objectives.\n",
    "plt.figure(figsize=(9,7))\n",
    "plt.bar(labels,d, color =\"white\", edgecolor = \"peru\",hatch = \"\\\\X//\")\n",
    "for k in range(m):\n",
    "    a = 0\n",
    "    b = 0\n",
    "    for i in range(len(assignment[k][1])):\n",
    "        if i == 0:\n",
    "            plt.bar(labels[k],dn[assignment[k][1][i]], edgecolor = \"peru\", color = colors[assignment[k][1][i]])\n",
    "            a = dn[assignment[k][1][i]]\n",
    "        else:\n",
    "            plt.bar(labels[k], dn[assignment[k][1][i]],edgecolor = \"peru\", bottom = a+b,color = colors[assignment[k][1][i]])\n",
    "            b += dn[assignment[k][1][i]]\n",
    "plt.xticks(labels, rotation = 90)\n",
    "plt.show()"
   ]
  }
 ],
 "metadata": {
  "kernelspec": {
   "display_name": "Python 3",
   "language": "python",
   "name": "python3"
  },
  "language_info": {
   "codemirror_mode": {
    "name": "ipython",
    "version": 3
   },
   "file_extension": ".py",
   "mimetype": "text/x-python",
   "name": "python",
   "nbconvert_exporter": "python",
   "pygments_lexer": "ipython3",
   "version": "3.8.3"
  }
 },
 "nbformat": 4,
 "nbformat_minor": 4
}
