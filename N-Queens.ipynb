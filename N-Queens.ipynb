{
 "cells": [
  {
   "cell_type": "markdown",
   "metadata": {},
   "source": [
    "The N-Queens problem is to maximize the number of queens placed on an nxn chessboard such that no queen\n",
    "can be captured by another queen."
   ]
  },
  {
   "cell_type": "code",
   "execution_count": 48,
   "metadata": {},
   "outputs": [],
   "source": [
    "import gurobipy as gb"
   ]
  },
  {
   "cell_type": "code",
   "execution_count": 49,
   "metadata": {},
   "outputs": [],
   "source": [
    "mdl = gb.Model(\"nqueens\")"
   ]
  },
  {
   "cell_type": "code",
   "execution_count": 50,
   "metadata": {},
   "outputs": [],
   "source": [
    "n = 10\n",
    "t = n*n"
   ]
  },
  {
   "cell_type": "code",
   "execution_count": 51,
   "metadata": {},
   "outputs": [],
   "source": [
    "x = mdl.addVars(n,n, vtype = gb.GRB.BINARY, name = \"Xij\")"
   ]
  },
  {
   "cell_type": "code",
   "execution_count": 52,
   "metadata": {},
   "outputs": [],
   "source": [
    "mdl.setObjective((gb.quicksum(x[i,j] for i in range(n) for j in range(n))), gb.GRB.MAXIMIZE)"
   ]
  },
  {
   "cell_type": "code",
   "execution_count": 53,
   "metadata": {},
   "outputs": [
    {
     "data": {
      "text/plain": [
       "{0: <gurobi.Constr *Awaiting Model Update*>,\n",
       " 1: <gurobi.Constr *Awaiting Model Update*>,\n",
       " 2: <gurobi.Constr *Awaiting Model Update*>,\n",
       " 3: <gurobi.Constr *Awaiting Model Update*>,\n",
       " 4: <gurobi.Constr *Awaiting Model Update*>,\n",
       " 5: <gurobi.Constr *Awaiting Model Update*>,\n",
       " 6: <gurobi.Constr *Awaiting Model Update*>,\n",
       " 7: <gurobi.Constr *Awaiting Model Update*>,\n",
       " 8: <gurobi.Constr *Awaiting Model Update*>,\n",
       " 9: <gurobi.Constr *Awaiting Model Update*>}"
      ]
     },
     "execution_count": 53,
     "metadata": {},
     "output_type": "execute_result"
    }
   ],
   "source": [
    "mdl.addConstrs(gb.quicksum(x[i,j] for j in range(n)) <= 1 for i in range(n))#every row"
   ]
  },
  {
   "cell_type": "code",
   "execution_count": 54,
   "metadata": {},
   "outputs": [
    {
     "data": {
      "text/plain": [
       "{0: <gurobi.Constr *Awaiting Model Update*>,\n",
       " 1: <gurobi.Constr *Awaiting Model Update*>,\n",
       " 2: <gurobi.Constr *Awaiting Model Update*>,\n",
       " 3: <gurobi.Constr *Awaiting Model Update*>,\n",
       " 4: <gurobi.Constr *Awaiting Model Update*>,\n",
       " 5: <gurobi.Constr *Awaiting Model Update*>,\n",
       " 6: <gurobi.Constr *Awaiting Model Update*>,\n",
       " 7: <gurobi.Constr *Awaiting Model Update*>,\n",
       " 8: <gurobi.Constr *Awaiting Model Update*>,\n",
       " 9: <gurobi.Constr *Awaiting Model Update*>}"
      ]
     },
     "execution_count": 54,
     "metadata": {},
     "output_type": "execute_result"
    }
   ],
   "source": [
    "mdl.addConstrs(gb.quicksum(x[i,j] for i in range(n)) <= 1 for j in range(n))#every column "
   ]
  },
  {
   "cell_type": "code",
   "execution_count": 55,
   "metadata": {},
   "outputs": [
    {
     "data": {
      "text/plain": [
       "{0: <gurobi.Constr *Awaiting Model Update*>,\n",
       " 1: <gurobi.Constr *Awaiting Model Update*>,\n",
       " 2: <gurobi.Constr *Awaiting Model Update*>,\n",
       " 3: <gurobi.Constr *Awaiting Model Update*>,\n",
       " 4: <gurobi.Constr *Awaiting Model Update*>,\n",
       " 5: <gurobi.Constr *Awaiting Model Update*>,\n",
       " 6: <gurobi.Constr *Awaiting Model Update*>,\n",
       " 7: <gurobi.Constr *Awaiting Model Update*>,\n",
       " 8: <gurobi.Constr *Awaiting Model Update*>,\n",
       " 9: <gurobi.Constr *Awaiting Model Update*>}"
      ]
     },
     "execution_count": 55,
     "metadata": {},
     "output_type": "execute_result"
    }
   ],
   "source": [
    "mdl.addConstrs(gb.quicksum(x[j,i+j] for j in range(n) if i+j <= n-1) <= 1 for i in range(n))#diagonal1"
   ]
  },
  {
   "cell_type": "code",
   "execution_count": 56,
   "metadata": {},
   "outputs": [
    {
     "data": {
      "text/plain": [
       "{0: <gurobi.Constr *Awaiting Model Update*>,\n",
       " 1: <gurobi.Constr *Awaiting Model Update*>,\n",
       " 2: <gurobi.Constr *Awaiting Model Update*>,\n",
       " 3: <gurobi.Constr *Awaiting Model Update*>,\n",
       " 4: <gurobi.Constr *Awaiting Model Update*>,\n",
       " 5: <gurobi.Constr *Awaiting Model Update*>,\n",
       " 6: <gurobi.Constr *Awaiting Model Update*>,\n",
       " 7: <gurobi.Constr *Awaiting Model Update*>,\n",
       " 8: <gurobi.Constr *Awaiting Model Update*>,\n",
       " 9: <gurobi.Constr *Awaiting Model Update*>}"
      ]
     },
     "execution_count": 56,
     "metadata": {},
     "output_type": "execute_result"
    }
   ],
   "source": [
    "mdl.addConstrs(gb.quicksum(x[i+j,j] for j in range(n) if i+j <= n-1) <= 1 for i in range(n))#diagonal2"
   ]
  },
  {
   "cell_type": "code",
   "execution_count": 57,
   "metadata": {},
   "outputs": [
    {
     "data": {
      "text/plain": [
       "{0: <gurobi.Constr *Awaiting Model Update*>,\n",
       " 1: <gurobi.Constr *Awaiting Model Update*>,\n",
       " 2: <gurobi.Constr *Awaiting Model Update*>,\n",
       " 3: <gurobi.Constr *Awaiting Model Update*>,\n",
       " 4: <gurobi.Constr *Awaiting Model Update*>,\n",
       " 5: <gurobi.Constr *Awaiting Model Update*>,\n",
       " 6: <gurobi.Constr *Awaiting Model Update*>,\n",
       " 7: <gurobi.Constr *Awaiting Model Update*>,\n",
       " 8: <gurobi.Constr *Awaiting Model Update*>,\n",
       " 9: <gurobi.Constr *Awaiting Model Update*>}"
      ]
     },
     "execution_count": 57,
     "metadata": {},
     "output_type": "execute_result"
    }
   ],
   "source": [
    "mdl.addConstrs((gb.quicksum(x[i+l,j] for l,j in zip(list(range(n)),list(range(n-1,-1,-1))) if i+l <= n-1) \n",
    "                 <= 1  for i in range(n)),name = \"anti_diag\")#antidiagonal1"
   ]
  },
  {
   "cell_type": "code",
   "execution_count": 58,
   "metadata": {},
   "outputs": [
    {
     "data": {
      "text/plain": [
       "{9: <gurobi.Constr *Awaiting Model Update*>,\n",
       " 8: <gurobi.Constr *Awaiting Model Update*>,\n",
       " 7: <gurobi.Constr *Awaiting Model Update*>,\n",
       " 6: <gurobi.Constr *Awaiting Model Update*>,\n",
       " 5: <gurobi.Constr *Awaiting Model Update*>,\n",
       " 4: <gurobi.Constr *Awaiting Model Update*>,\n",
       " 3: <gurobi.Constr *Awaiting Model Update*>,\n",
       " 2: <gurobi.Constr *Awaiting Model Update*>,\n",
       " 1: <gurobi.Constr *Awaiting Model Update*>,\n",
       " 0: <gurobi.Constr *Awaiting Model Update*>}"
      ]
     },
     "execution_count": 58,
     "metadata": {},
     "output_type": "execute_result"
    }
   ],
   "source": [
    "mdl.addConstrs((gb.quicksum(x[i,j-i] for i in range(n) if i <= j) \n",
    "                 <= 1  for j in list(range(n-1,-1,-1))),name = \"anti_diag_2\")#antidiagonal2"
   ]
  },
  {
   "cell_type": "code",
   "execution_count": 59,
   "metadata": {},
   "outputs": [
    {
     "name": "stdout",
     "output_type": "stream",
     "text": [
      "Gurobi Optimizer version 9.1.0 build v9.1.0rc0 (win64)\n",
      "Thread count: 4 physical cores, 8 logical processors, using up to 8 threads\n",
      "Optimize a model with 60 rows, 100 columns and 420 nonzeros\n",
      "Model fingerprint: 0x43efa16c\n",
      "Variable types: 0 continuous, 100 integer (100 binary)\n",
      "Coefficient statistics:\n",
      "  Matrix range     [1e+00, 1e+00]\n",
      "  Objective range  [1e+00, 1e+00]\n",
      "  Bounds range     [1e+00, 1e+00]\n",
      "  RHS range        [1e+00, 1e+00]\n",
      "Found heuristic solution: objective 7.0000000\n",
      "Presolve removed 6 rows and 0 columns\n",
      "Presolve time: 0.00s\n",
      "Presolved: 54 rows, 100 columns, 414 nonzeros\n",
      "Variable types: 0 continuous, 100 integer (100 binary)\n",
      "\n",
      "Root relaxation: objective 1.000000e+01, 39 iterations, 0.00 seconds\n",
      "\n",
      "    Nodes    |    Current Node    |     Objective Bounds      |     Work\n",
      " Expl Unexpl |  Obj  Depth IntInf | Incumbent    BestBd   Gap | It/Node Time\n",
      "\n",
      "H    0     0                      10.0000000  100.00000   900%     -    0s\n",
      "     0     0          -    0        10.00000   10.00000  0.00%     -    0s\n",
      "\n",
      "Explored 0 nodes (89 simplex iterations) in 0.02 seconds\n",
      "Thread count was 8 (of 8 available processors)\n",
      "\n",
      "Solution count 2: 10 7 \n",
      "\n",
      "Optimal solution found (tolerance 1.00e-04)\n",
      "Best objective 1.000000000000e+01, best bound 1.000000000000e+01, gap 0.0000%\n"
     ]
    }
   ],
   "source": [
    "mdl.optimize()"
   ]
  },
  {
   "cell_type": "code",
   "execution_count": 60,
   "metadata": {},
   "outputs": [
    {
     "name": "stdout",
     "output_type": "stream",
     "text": [
      "\n",
      "    Variable            X \n",
      "-------------------------\n",
      "    Xij[0,4]            1 \n",
      "    Xij[1,2]            1 \n",
      "    Xij[2,5]            1 \n",
      "    Xij[3,9]            1 \n",
      "    Xij[4,6]            1 \n",
      "    Xij[5,3]            1 \n",
      "    Xij[6,0]            1 \n",
      "    Xij[7,7]            1 \n",
      "    Xij[8,1]            1 \n",
      "    Xij[9,8]            1 \n"
     ]
    }
   ],
   "source": [
    "mdl.printAttr('X')"
   ]
  },
  {
   "cell_type": "code",
   "execution_count": 61,
   "metadata": {},
   "outputs": [],
   "source": [
    "#mdl.write(\"nqueen.lp\")"
   ]
  },
  {
   "cell_type": "code",
   "execution_count": 62,
   "metadata": {},
   "outputs": [],
   "source": [
    "assignment = [(i,j) for i,j in x if x[i,j].x == 1]"
   ]
  },
  {
   "cell_type": "code",
   "execution_count": 63,
   "metadata": {},
   "outputs": [],
   "source": [
    "import pandas as pd\n",
    "import numpy as np\n",
    "df = pd.DataFrame(np.zeros((n,n)))\n",
    "for i,j in x:\n",
    "    if (i,j) in assignment:\n",
    "        df.iloc[i,j] = \"Q\"\n",
    "    else:\n",
    "        df.iloc[i,j] = \"##\""
   ]
  },
  {
   "cell_type": "code",
   "execution_count": 64,
   "metadata": {},
   "outputs": [
    {
     "data": {
      "text/html": [
       "<div>\n",
       "<style scoped>\n",
       "    .dataframe tbody tr th:only-of-type {\n",
       "        vertical-align: middle;\n",
       "    }\n",
       "\n",
       "    .dataframe tbody tr th {\n",
       "        vertical-align: top;\n",
       "    }\n",
       "\n",
       "    .dataframe thead th {\n",
       "        text-align: right;\n",
       "    }\n",
       "</style>\n",
       "<table border=\"1\" class=\"dataframe\">\n",
       "  <thead>\n",
       "    <tr style=\"text-align: right;\">\n",
       "      <th></th>\n",
       "      <th>0</th>\n",
       "      <th>1</th>\n",
       "      <th>2</th>\n",
       "      <th>3</th>\n",
       "      <th>4</th>\n",
       "      <th>5</th>\n",
       "      <th>6</th>\n",
       "      <th>7</th>\n",
       "      <th>8</th>\n",
       "      <th>9</th>\n",
       "    </tr>\n",
       "  </thead>\n",
       "  <tbody>\n",
       "    <tr>\n",
       "      <th>0</th>\n",
       "      <td>##</td>\n",
       "      <td>##</td>\n",
       "      <td>##</td>\n",
       "      <td>##</td>\n",
       "      <td>Q</td>\n",
       "      <td>##</td>\n",
       "      <td>##</td>\n",
       "      <td>##</td>\n",
       "      <td>##</td>\n",
       "      <td>##</td>\n",
       "    </tr>\n",
       "    <tr>\n",
       "      <th>1</th>\n",
       "      <td>##</td>\n",
       "      <td>##</td>\n",
       "      <td>Q</td>\n",
       "      <td>##</td>\n",
       "      <td>##</td>\n",
       "      <td>##</td>\n",
       "      <td>##</td>\n",
       "      <td>##</td>\n",
       "      <td>##</td>\n",
       "      <td>##</td>\n",
       "    </tr>\n",
       "    <tr>\n",
       "      <th>2</th>\n",
       "      <td>##</td>\n",
       "      <td>##</td>\n",
       "      <td>##</td>\n",
       "      <td>##</td>\n",
       "      <td>##</td>\n",
       "      <td>Q</td>\n",
       "      <td>##</td>\n",
       "      <td>##</td>\n",
       "      <td>##</td>\n",
       "      <td>##</td>\n",
       "    </tr>\n",
       "    <tr>\n",
       "      <th>3</th>\n",
       "      <td>##</td>\n",
       "      <td>##</td>\n",
       "      <td>##</td>\n",
       "      <td>##</td>\n",
       "      <td>##</td>\n",
       "      <td>##</td>\n",
       "      <td>##</td>\n",
       "      <td>##</td>\n",
       "      <td>##</td>\n",
       "      <td>Q</td>\n",
       "    </tr>\n",
       "    <tr>\n",
       "      <th>4</th>\n",
       "      <td>##</td>\n",
       "      <td>##</td>\n",
       "      <td>##</td>\n",
       "      <td>##</td>\n",
       "      <td>##</td>\n",
       "      <td>##</td>\n",
       "      <td>Q</td>\n",
       "      <td>##</td>\n",
       "      <td>##</td>\n",
       "      <td>##</td>\n",
       "    </tr>\n",
       "    <tr>\n",
       "      <th>5</th>\n",
       "      <td>##</td>\n",
       "      <td>##</td>\n",
       "      <td>##</td>\n",
       "      <td>Q</td>\n",
       "      <td>##</td>\n",
       "      <td>##</td>\n",
       "      <td>##</td>\n",
       "      <td>##</td>\n",
       "      <td>##</td>\n",
       "      <td>##</td>\n",
       "    </tr>\n",
       "    <tr>\n",
       "      <th>6</th>\n",
       "      <td>Q</td>\n",
       "      <td>##</td>\n",
       "      <td>##</td>\n",
       "      <td>##</td>\n",
       "      <td>##</td>\n",
       "      <td>##</td>\n",
       "      <td>##</td>\n",
       "      <td>##</td>\n",
       "      <td>##</td>\n",
       "      <td>##</td>\n",
       "    </tr>\n",
       "    <tr>\n",
       "      <th>7</th>\n",
       "      <td>##</td>\n",
       "      <td>##</td>\n",
       "      <td>##</td>\n",
       "      <td>##</td>\n",
       "      <td>##</td>\n",
       "      <td>##</td>\n",
       "      <td>##</td>\n",
       "      <td>Q</td>\n",
       "      <td>##</td>\n",
       "      <td>##</td>\n",
       "    </tr>\n",
       "    <tr>\n",
       "      <th>8</th>\n",
       "      <td>##</td>\n",
       "      <td>Q</td>\n",
       "      <td>##</td>\n",
       "      <td>##</td>\n",
       "      <td>##</td>\n",
       "      <td>##</td>\n",
       "      <td>##</td>\n",
       "      <td>##</td>\n",
       "      <td>##</td>\n",
       "      <td>##</td>\n",
       "    </tr>\n",
       "    <tr>\n",
       "      <th>9</th>\n",
       "      <td>##</td>\n",
       "      <td>##</td>\n",
       "      <td>##</td>\n",
       "      <td>##</td>\n",
       "      <td>##</td>\n",
       "      <td>##</td>\n",
       "      <td>##</td>\n",
       "      <td>##</td>\n",
       "      <td>Q</td>\n",
       "      <td>##</td>\n",
       "    </tr>\n",
       "  </tbody>\n",
       "</table>\n",
       "</div>"
      ],
      "text/plain": [
       "    0   1   2   3   4   5   6   7   8   9\n",
       "0  ##  ##  ##  ##   Q  ##  ##  ##  ##  ##\n",
       "1  ##  ##   Q  ##  ##  ##  ##  ##  ##  ##\n",
       "2  ##  ##  ##  ##  ##   Q  ##  ##  ##  ##\n",
       "3  ##  ##  ##  ##  ##  ##  ##  ##  ##   Q\n",
       "4  ##  ##  ##  ##  ##  ##   Q  ##  ##  ##\n",
       "5  ##  ##  ##   Q  ##  ##  ##  ##  ##  ##\n",
       "6   Q  ##  ##  ##  ##  ##  ##  ##  ##  ##\n",
       "7  ##  ##  ##  ##  ##  ##  ##   Q  ##  ##\n",
       "8  ##   Q  ##  ##  ##  ##  ##  ##  ##  ##\n",
       "9  ##  ##  ##  ##  ##  ##  ##  ##   Q  ##"
      ]
     },
     "execution_count": 64,
     "metadata": {},
     "output_type": "execute_result"
    }
   ],
   "source": [
    "df"
   ]
  }
 ],
 "metadata": {
  "kernelspec": {
   "display_name": "Python 3",
   "language": "python",
   "name": "python3"
  },
  "language_info": {
   "codemirror_mode": {
    "name": "ipython",
    "version": 3
   },
   "file_extension": ".py",
   "mimetype": "text/x-python",
   "name": "python",
   "nbconvert_exporter": "python",
   "pygments_lexer": "ipython3",
   "version": "3.8.3"
  }
 },
 "nbformat": 4,
 "nbformat_minor": 4
}
