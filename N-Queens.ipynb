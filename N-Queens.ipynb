{
 "cells": [
  {
   "cell_type": "markdown",
   "metadata": {},
   "source": [
    "The queens problem is to maximize the number of queens placed on an nxn chessboard such that no queen\n",
    "can be captured by another queen."
   ]
  },
  {
   "cell_type": "code",
   "execution_count": 20,
   "metadata": {},
   "outputs": [],
   "source": [
    "import gurobipy as gb"
   ]
  },
  {
   "cell_type": "code",
   "execution_count": 21,
   "metadata": {},
   "outputs": [],
   "source": [
    "mdl = gb.Model(\"nqueens\")"
   ]
  },
  {
   "cell_type": "code",
   "execution_count": 22,
   "metadata": {},
   "outputs": [],
   "source": [
    "n = 10\n",
    "t = n*n"
   ]
  },
  {
   "cell_type": "code",
   "execution_count": 23,
   "metadata": {},
   "outputs": [],
   "source": [
    "x = mdl.addVars(n,n, vtype = gb.GRB.BINARY, name = \"Xij\")"
   ]
  },
  {
   "cell_type": "code",
   "execution_count": 24,
   "metadata": {},
   "outputs": [],
   "source": [
    "mdl.setObjective((gb.quicksum(x[i,j] for i in range(n) for j in range(n))), gb.GRB.MAXIMIZE)"
   ]
  },
  {
   "cell_type": "code",
   "execution_count": 25,
   "metadata": {},
   "outputs": [
    {
     "data": {
      "text/plain": [
       "{0: <gurobi.Constr *Awaiting Model Update*>,\n",
       " 1: <gurobi.Constr *Awaiting Model Update*>,\n",
       " 2: <gurobi.Constr *Awaiting Model Update*>,\n",
       " 3: <gurobi.Constr *Awaiting Model Update*>,\n",
       " 4: <gurobi.Constr *Awaiting Model Update*>,\n",
       " 5: <gurobi.Constr *Awaiting Model Update*>,\n",
       " 6: <gurobi.Constr *Awaiting Model Update*>,\n",
       " 7: <gurobi.Constr *Awaiting Model Update*>,\n",
       " 8: <gurobi.Constr *Awaiting Model Update*>,\n",
       " 9: <gurobi.Constr *Awaiting Model Update*>}"
      ]
     },
     "execution_count": 25,
     "metadata": {},
     "output_type": "execute_result"
    }
   ],
   "source": [
    "mdl.addConstrs(gb.quicksum(x[i,j] for j in range(n)) <= 1 for i in range(n))#every row"
   ]
  },
  {
   "cell_type": "code",
   "execution_count": 26,
   "metadata": {},
   "outputs": [
    {
     "data": {
      "text/plain": [
       "{0: <gurobi.Constr *Awaiting Model Update*>,\n",
       " 1: <gurobi.Constr *Awaiting Model Update*>,\n",
       " 2: <gurobi.Constr *Awaiting Model Update*>,\n",
       " 3: <gurobi.Constr *Awaiting Model Update*>,\n",
       " 4: <gurobi.Constr *Awaiting Model Update*>,\n",
       " 5: <gurobi.Constr *Awaiting Model Update*>,\n",
       " 6: <gurobi.Constr *Awaiting Model Update*>,\n",
       " 7: <gurobi.Constr *Awaiting Model Update*>,\n",
       " 8: <gurobi.Constr *Awaiting Model Update*>,\n",
       " 9: <gurobi.Constr *Awaiting Model Update*>}"
      ]
     },
     "execution_count": 26,
     "metadata": {},
     "output_type": "execute_result"
    }
   ],
   "source": [
    "mdl.addConstrs(gb.quicksum(x[i,j] for i in range(n)) <= 1 for j in range(n))#every column "
   ]
  },
  {
   "cell_type": "code",
   "execution_count": 27,
   "metadata": {},
   "outputs": [
    {
     "data": {
      "text/plain": [
       "{0: <gurobi.Constr *Awaiting Model Update*>,\n",
       " 1: <gurobi.Constr *Awaiting Model Update*>,\n",
       " 2: <gurobi.Constr *Awaiting Model Update*>,\n",
       " 3: <gurobi.Constr *Awaiting Model Update*>,\n",
       " 4: <gurobi.Constr *Awaiting Model Update*>,\n",
       " 5: <gurobi.Constr *Awaiting Model Update*>,\n",
       " 6: <gurobi.Constr *Awaiting Model Update*>,\n",
       " 7: <gurobi.Constr *Awaiting Model Update*>,\n",
       " 8: <gurobi.Constr *Awaiting Model Update*>,\n",
       " 9: <gurobi.Constr *Awaiting Model Update*>}"
      ]
     },
     "execution_count": 27,
     "metadata": {},
     "output_type": "execute_result"
    }
   ],
   "source": [
    "mdl.addConstrs(gb.quicksum(x[j,i+j] for j in range(n) if i+j <= n-1) <= 1 for i in range(n))#diagonal1"
   ]
  },
  {
   "cell_type": "code",
   "execution_count": 28,
   "metadata": {},
   "outputs": [
    {
     "data": {
      "text/plain": [
       "{0: <gurobi.Constr *Awaiting Model Update*>,\n",
       " 1: <gurobi.Constr *Awaiting Model Update*>,\n",
       " 2: <gurobi.Constr *Awaiting Model Update*>,\n",
       " 3: <gurobi.Constr *Awaiting Model Update*>,\n",
       " 4: <gurobi.Constr *Awaiting Model Update*>,\n",
       " 5: <gurobi.Constr *Awaiting Model Update*>,\n",
       " 6: <gurobi.Constr *Awaiting Model Update*>,\n",
       " 7: <gurobi.Constr *Awaiting Model Update*>,\n",
       " 8: <gurobi.Constr *Awaiting Model Update*>,\n",
       " 9: <gurobi.Constr *Awaiting Model Update*>}"
      ]
     },
     "execution_count": 28,
     "metadata": {},
     "output_type": "execute_result"
    }
   ],
   "source": [
    "mdl.addConstrs(gb.quicksum(x[i+j,j] for j in range(n) if i+j <= n-1) <= 1 for i in range(n))#diagonal2"
   ]
  },
  {
   "cell_type": "code",
   "execution_count": 29,
   "metadata": {},
   "outputs": [
    {
     "data": {
      "text/plain": [
       "{0: <gurobi.Constr *Awaiting Model Update*>,\n",
       " 1: <gurobi.Constr *Awaiting Model Update*>,\n",
       " 2: <gurobi.Constr *Awaiting Model Update*>,\n",
       " 3: <gurobi.Constr *Awaiting Model Update*>,\n",
       " 4: <gurobi.Constr *Awaiting Model Update*>,\n",
       " 5: <gurobi.Constr *Awaiting Model Update*>,\n",
       " 6: <gurobi.Constr *Awaiting Model Update*>,\n",
       " 7: <gurobi.Constr *Awaiting Model Update*>,\n",
       " 8: <gurobi.Constr *Awaiting Model Update*>,\n",
       " 9: <gurobi.Constr *Awaiting Model Update*>}"
      ]
     },
     "execution_count": 29,
     "metadata": {},
     "output_type": "execute_result"
    }
   ],
   "source": [
    "mdl.addConstrs((gb.quicksum(x[i+l,j] for l,j in zip(list(range(n)),list(range(n-1,-1,-1))) if i+l <= n-1) \n",
    "                 <= 1  for i in range(n)),name = \"anti_diag\")#antidiagonal1"
   ]
  },
  {
   "cell_type": "code",
   "execution_count": 30,
   "metadata": {},
   "outputs": [
    {
     "data": {
      "text/plain": [
       "{9: <gurobi.Constr *Awaiting Model Update*>,\n",
       " 8: <gurobi.Constr *Awaiting Model Update*>,\n",
       " 7: <gurobi.Constr *Awaiting Model Update*>,\n",
       " 6: <gurobi.Constr *Awaiting Model Update*>,\n",
       " 5: <gurobi.Constr *Awaiting Model Update*>,\n",
       " 4: <gurobi.Constr *Awaiting Model Update*>,\n",
       " 3: <gurobi.Constr *Awaiting Model Update*>,\n",
       " 2: <gurobi.Constr *Awaiting Model Update*>,\n",
       " 1: <gurobi.Constr *Awaiting Model Update*>,\n",
       " 0: <gurobi.Constr *Awaiting Model Update*>}"
      ]
     },
     "execution_count": 30,
     "metadata": {},
     "output_type": "execute_result"
    }
   ],
   "source": [
    "mdl.addConstrs((gb.quicksum(x[i,j-i] for i in range(n) if i <= j) \n",
    "                 <= 1  for j in list(range(n-1,-1,-1))),name = \"anti_diag_2\")#antidiagonal2"
   ]
  },
  {
   "cell_type": "code",
   "execution_count": 31,
   "metadata": {},
   "outputs": [
    {
     "name": "stdout",
     "output_type": "stream",
     "text": [
      "Gurobi Optimizer version 9.1.0 build v9.1.0rc0 (win64)\n",
      "Thread count: 4 physical cores, 8 logical processors, using up to 8 threads\n",
      "Optimize a model with 60 rows, 100 columns and 420 nonzeros\n",
      "Model fingerprint: 0x43efa16c\n",
      "Variable types: 0 continuous, 100 integer (100 binary)\n",
      "Coefficient statistics:\n",
      "  Matrix range     [1e+00, 1e+00]\n",
      "  Objective range  [1e+00, 1e+00]\n",
      "  Bounds range     [1e+00, 1e+00]\n",
      "  RHS range        [1e+00, 1e+00]\n",
      "Found heuristic solution: objective 7.0000000\n",
      "Presolve removed 6 rows and 0 columns\n",
      "Presolve time: 0.00s\n",
      "Presolved: 54 rows, 100 columns, 414 nonzeros\n",
      "Variable types: 0 continuous, 100 integer (100 binary)\n",
      "\n",
      "Root relaxation: objective 1.000000e+01, 39 iterations, 0.00 seconds\n",
      "\n",
      "    Nodes    |    Current Node    |     Objective Bounds      |     Work\n",
      " Expl Unexpl |  Obj  Depth IntInf | Incumbent    BestBd   Gap | It/Node Time\n",
      "\n",
      "H    0     0                      10.0000000  100.00000   900%     -    0s\n",
      "     0     0          -    0        10.00000   10.00000  0.00%     -    0s\n",
      "\n",
      "Explored 0 nodes (89 simplex iterations) in 0.02 seconds\n",
      "Thread count was 8 (of 8 available processors)\n",
      "\n",
      "Solution count 2: 10 7 \n",
      "\n",
      "Optimal solution found (tolerance 1.00e-04)\n",
      "Best objective 1.000000000000e+01, best bound 1.000000000000e+01, gap 0.0000%\n"
     ]
    }
   ],
   "source": [
    "mdl.optimize()"
   ]
  },
  {
   "cell_type": "code",
   "execution_count": 32,
   "metadata": {},
   "outputs": [
    {
     "name": "stdout",
     "output_type": "stream",
     "text": [
      "\n",
      "    Variable            X \n",
      "-------------------------\n",
      "    Xij[0,4]            1 \n",
      "    Xij[1,2]            1 \n",
      "    Xij[2,5]            1 \n",
      "    Xij[3,9]            1 \n",
      "    Xij[4,6]            1 \n",
      "    Xij[5,3]            1 \n",
      "    Xij[6,0]            1 \n",
      "    Xij[7,7]            1 \n",
      "    Xij[8,1]            1 \n",
      "    Xij[9,8]            1 \n"
     ]
    }
   ],
   "source": [
    "mdl.printAttr('X')"
   ]
  },
  {
   "cell_type": "code",
   "execution_count": 33,
   "metadata": {},
   "outputs": [],
   "source": [
    "#mdl.write(\"nqueen.lp\")"
   ]
  },
  {
   "cell_type": "code",
   "execution_count": 34,
   "metadata": {},
   "outputs": [],
   "source": [
    "assignment = [(i,j) for i,j in x if x[i,j].x == 1]"
   ]
  },
  {
   "cell_type": "code",
   "execution_count": 35,
   "metadata": {},
   "outputs": [],
   "source": [
    "import pandas as pd\n",
    "import numpy as np\n",
    "df = pd.DataFrame(np.zeros((n,n)))\n",
    "for i,j in assignment:\n",
    "    df.iloc[i,j] = 1"
   ]
  },
  {
   "cell_type": "code",
   "execution_count": 36,
   "metadata": {},
   "outputs": [
    {
     "data": {
      "text/html": [
       "<div>\n",
       "<style scoped>\n",
       "    .dataframe tbody tr th:only-of-type {\n",
       "        vertical-align: middle;\n",
       "    }\n",
       "\n",
       "    .dataframe tbody tr th {\n",
       "        vertical-align: top;\n",
       "    }\n",
       "\n",
       "    .dataframe thead th {\n",
       "        text-align: right;\n",
       "    }\n",
       "</style>\n",
       "<table border=\"1\" class=\"dataframe\">\n",
       "  <thead>\n",
       "    <tr style=\"text-align: right;\">\n",
       "      <th></th>\n",
       "      <th>0</th>\n",
       "      <th>1</th>\n",
       "      <th>2</th>\n",
       "      <th>3</th>\n",
       "      <th>4</th>\n",
       "      <th>5</th>\n",
       "      <th>6</th>\n",
       "      <th>7</th>\n",
       "      <th>8</th>\n",
       "      <th>9</th>\n",
       "    </tr>\n",
       "  </thead>\n",
       "  <tbody>\n",
       "    <tr>\n",
       "      <th>0</th>\n",
       "      <td>0.0</td>\n",
       "      <td>0.0</td>\n",
       "      <td>0.0</td>\n",
       "      <td>0.0</td>\n",
       "      <td>1.0</td>\n",
       "      <td>0.0</td>\n",
       "      <td>0.0</td>\n",
       "      <td>0.0</td>\n",
       "      <td>0.0</td>\n",
       "      <td>0.0</td>\n",
       "    </tr>\n",
       "    <tr>\n",
       "      <th>1</th>\n",
       "      <td>0.0</td>\n",
       "      <td>0.0</td>\n",
       "      <td>1.0</td>\n",
       "      <td>0.0</td>\n",
       "      <td>0.0</td>\n",
       "      <td>0.0</td>\n",
       "      <td>0.0</td>\n",
       "      <td>0.0</td>\n",
       "      <td>0.0</td>\n",
       "      <td>0.0</td>\n",
       "    </tr>\n",
       "    <tr>\n",
       "      <th>2</th>\n",
       "      <td>0.0</td>\n",
       "      <td>0.0</td>\n",
       "      <td>0.0</td>\n",
       "      <td>0.0</td>\n",
       "      <td>0.0</td>\n",
       "      <td>1.0</td>\n",
       "      <td>0.0</td>\n",
       "      <td>0.0</td>\n",
       "      <td>0.0</td>\n",
       "      <td>0.0</td>\n",
       "    </tr>\n",
       "    <tr>\n",
       "      <th>3</th>\n",
       "      <td>0.0</td>\n",
       "      <td>0.0</td>\n",
       "      <td>0.0</td>\n",
       "      <td>0.0</td>\n",
       "      <td>0.0</td>\n",
       "      <td>0.0</td>\n",
       "      <td>0.0</td>\n",
       "      <td>0.0</td>\n",
       "      <td>0.0</td>\n",
       "      <td>1.0</td>\n",
       "    </tr>\n",
       "    <tr>\n",
       "      <th>4</th>\n",
       "      <td>0.0</td>\n",
       "      <td>0.0</td>\n",
       "      <td>0.0</td>\n",
       "      <td>0.0</td>\n",
       "      <td>0.0</td>\n",
       "      <td>0.0</td>\n",
       "      <td>1.0</td>\n",
       "      <td>0.0</td>\n",
       "      <td>0.0</td>\n",
       "      <td>0.0</td>\n",
       "    </tr>\n",
       "    <tr>\n",
       "      <th>5</th>\n",
       "      <td>0.0</td>\n",
       "      <td>0.0</td>\n",
       "      <td>0.0</td>\n",
       "      <td>1.0</td>\n",
       "      <td>0.0</td>\n",
       "      <td>0.0</td>\n",
       "      <td>0.0</td>\n",
       "      <td>0.0</td>\n",
       "      <td>0.0</td>\n",
       "      <td>0.0</td>\n",
       "    </tr>\n",
       "    <tr>\n",
       "      <th>6</th>\n",
       "      <td>1.0</td>\n",
       "      <td>0.0</td>\n",
       "      <td>0.0</td>\n",
       "      <td>0.0</td>\n",
       "      <td>0.0</td>\n",
       "      <td>0.0</td>\n",
       "      <td>0.0</td>\n",
       "      <td>0.0</td>\n",
       "      <td>0.0</td>\n",
       "      <td>0.0</td>\n",
       "    </tr>\n",
       "    <tr>\n",
       "      <th>7</th>\n",
       "      <td>0.0</td>\n",
       "      <td>0.0</td>\n",
       "      <td>0.0</td>\n",
       "      <td>0.0</td>\n",
       "      <td>0.0</td>\n",
       "      <td>0.0</td>\n",
       "      <td>0.0</td>\n",
       "      <td>1.0</td>\n",
       "      <td>0.0</td>\n",
       "      <td>0.0</td>\n",
       "    </tr>\n",
       "    <tr>\n",
       "      <th>8</th>\n",
       "      <td>0.0</td>\n",
       "      <td>1.0</td>\n",
       "      <td>0.0</td>\n",
       "      <td>0.0</td>\n",
       "      <td>0.0</td>\n",
       "      <td>0.0</td>\n",
       "      <td>0.0</td>\n",
       "      <td>0.0</td>\n",
       "      <td>0.0</td>\n",
       "      <td>0.0</td>\n",
       "    </tr>\n",
       "    <tr>\n",
       "      <th>9</th>\n",
       "      <td>0.0</td>\n",
       "      <td>0.0</td>\n",
       "      <td>0.0</td>\n",
       "      <td>0.0</td>\n",
       "      <td>0.0</td>\n",
       "      <td>0.0</td>\n",
       "      <td>0.0</td>\n",
       "      <td>0.0</td>\n",
       "      <td>1.0</td>\n",
       "      <td>0.0</td>\n",
       "    </tr>\n",
       "  </tbody>\n",
       "</table>\n",
       "</div>"
      ],
      "text/plain": [
       "     0    1    2    3    4    5    6    7    8    9\n",
       "0  0.0  0.0  0.0  0.0  1.0  0.0  0.0  0.0  0.0  0.0\n",
       "1  0.0  0.0  1.0  0.0  0.0  0.0  0.0  0.0  0.0  0.0\n",
       "2  0.0  0.0  0.0  0.0  0.0  1.0  0.0  0.0  0.0  0.0\n",
       "3  0.0  0.0  0.0  0.0  0.0  0.0  0.0  0.0  0.0  1.0\n",
       "4  0.0  0.0  0.0  0.0  0.0  0.0  1.0  0.0  0.0  0.0\n",
       "5  0.0  0.0  0.0  1.0  0.0  0.0  0.0  0.0  0.0  0.0\n",
       "6  1.0  0.0  0.0  0.0  0.0  0.0  0.0  0.0  0.0  0.0\n",
       "7  0.0  0.0  0.0  0.0  0.0  0.0  0.0  1.0  0.0  0.0\n",
       "8  0.0  1.0  0.0  0.0  0.0  0.0  0.0  0.0  0.0  0.0\n",
       "9  0.0  0.0  0.0  0.0  0.0  0.0  0.0  0.0  1.0  0.0"
      ]
     },
     "execution_count": 36,
     "metadata": {},
     "output_type": "execute_result"
    }
   ],
   "source": [
    "df"
   ]
  },
  {
   "cell_type": "code",
   "execution_count": 37,
   "metadata": {},
   "outputs": [],
   "source": [
    "t = df.style.highlight_max(axis=1)#https://pandas.pydata.org/pandas-docs/stable/user_guide/style.html"
   ]
  },
  {
   "cell_type": "code",
   "execution_count": 38,
   "metadata": {},
   "outputs": [
    {
     "data": {
      "text/html": [
       "<style  type=\"text/css\" >\n",
       "    #T_16fdce0b_79d2_11eb_8860_dc85de333325row0_col4 {\n",
       "            background-color:  yellow;\n",
       "        }    #T_16fdce0b_79d2_11eb_8860_dc85de333325row1_col2 {\n",
       "            background-color:  yellow;\n",
       "        }    #T_16fdce0b_79d2_11eb_8860_dc85de333325row2_col5 {\n",
       "            background-color:  yellow;\n",
       "        }    #T_16fdce0b_79d2_11eb_8860_dc85de333325row3_col9 {\n",
       "            background-color:  yellow;\n",
       "        }    #T_16fdce0b_79d2_11eb_8860_dc85de333325row4_col6 {\n",
       "            background-color:  yellow;\n",
       "        }    #T_16fdce0b_79d2_11eb_8860_dc85de333325row5_col3 {\n",
       "            background-color:  yellow;\n",
       "        }    #T_16fdce0b_79d2_11eb_8860_dc85de333325row6_col0 {\n",
       "            background-color:  yellow;\n",
       "        }    #T_16fdce0b_79d2_11eb_8860_dc85de333325row7_col7 {\n",
       "            background-color:  yellow;\n",
       "        }    #T_16fdce0b_79d2_11eb_8860_dc85de333325row8_col1 {\n",
       "            background-color:  yellow;\n",
       "        }    #T_16fdce0b_79d2_11eb_8860_dc85de333325row9_col8 {\n",
       "            background-color:  yellow;\n",
       "        }</style><table id=\"T_16fdce0b_79d2_11eb_8860_dc85de333325\" ><thead>    <tr>        <th class=\"blank level0\" ></th>        <th class=\"col_heading level0 col0\" >0</th>        <th class=\"col_heading level0 col1\" >1</th>        <th class=\"col_heading level0 col2\" >2</th>        <th class=\"col_heading level0 col3\" >3</th>        <th class=\"col_heading level0 col4\" >4</th>        <th class=\"col_heading level0 col5\" >5</th>        <th class=\"col_heading level0 col6\" >6</th>        <th class=\"col_heading level0 col7\" >7</th>        <th class=\"col_heading level0 col8\" >8</th>        <th class=\"col_heading level0 col9\" >9</th>    </tr></thead><tbody>\n",
       "                <tr>\n",
       "                        <th id=\"T_16fdce0b_79d2_11eb_8860_dc85de333325level0_row0\" class=\"row_heading level0 row0\" >0</th>\n",
       "                        <td id=\"T_16fdce0b_79d2_11eb_8860_dc85de333325row0_col0\" class=\"data row0 col0\" >0.0</td>\n",
       "                        <td id=\"T_16fdce0b_79d2_11eb_8860_dc85de333325row0_col1\" class=\"data row0 col1\" >0.0</td>\n",
       "                        <td id=\"T_16fdce0b_79d2_11eb_8860_dc85de333325row0_col2\" class=\"data row0 col2\" >0.0</td>\n",
       "                        <td id=\"T_16fdce0b_79d2_11eb_8860_dc85de333325row0_col3\" class=\"data row0 col3\" >0.0</td>\n",
       "                        <td id=\"T_16fdce0b_79d2_11eb_8860_dc85de333325row0_col4\" class=\"data row0 col4\" >1.0</td>\n",
       "                        <td id=\"T_16fdce0b_79d2_11eb_8860_dc85de333325row0_col5\" class=\"data row0 col5\" >0.0</td>\n",
       "                        <td id=\"T_16fdce0b_79d2_11eb_8860_dc85de333325row0_col6\" class=\"data row0 col6\" >0.0</td>\n",
       "                        <td id=\"T_16fdce0b_79d2_11eb_8860_dc85de333325row0_col7\" class=\"data row0 col7\" >0.0</td>\n",
       "                        <td id=\"T_16fdce0b_79d2_11eb_8860_dc85de333325row0_col8\" class=\"data row0 col8\" >0.0</td>\n",
       "                        <td id=\"T_16fdce0b_79d2_11eb_8860_dc85de333325row0_col9\" class=\"data row0 col9\" >0.0</td>\n",
       "            </tr>\n",
       "            <tr>\n",
       "                        <th id=\"T_16fdce0b_79d2_11eb_8860_dc85de333325level0_row1\" class=\"row_heading level0 row1\" >1</th>\n",
       "                        <td id=\"T_16fdce0b_79d2_11eb_8860_dc85de333325row1_col0\" class=\"data row1 col0\" >0.0</td>\n",
       "                        <td id=\"T_16fdce0b_79d2_11eb_8860_dc85de333325row1_col1\" class=\"data row1 col1\" >0.0</td>\n",
       "                        <td id=\"T_16fdce0b_79d2_11eb_8860_dc85de333325row1_col2\" class=\"data row1 col2\" >1.0</td>\n",
       "                        <td id=\"T_16fdce0b_79d2_11eb_8860_dc85de333325row1_col3\" class=\"data row1 col3\" >0.0</td>\n",
       "                        <td id=\"T_16fdce0b_79d2_11eb_8860_dc85de333325row1_col4\" class=\"data row1 col4\" >0.0</td>\n",
       "                        <td id=\"T_16fdce0b_79d2_11eb_8860_dc85de333325row1_col5\" class=\"data row1 col5\" >0.0</td>\n",
       "                        <td id=\"T_16fdce0b_79d2_11eb_8860_dc85de333325row1_col6\" class=\"data row1 col6\" >0.0</td>\n",
       "                        <td id=\"T_16fdce0b_79d2_11eb_8860_dc85de333325row1_col7\" class=\"data row1 col7\" >0.0</td>\n",
       "                        <td id=\"T_16fdce0b_79d2_11eb_8860_dc85de333325row1_col8\" class=\"data row1 col8\" >0.0</td>\n",
       "                        <td id=\"T_16fdce0b_79d2_11eb_8860_dc85de333325row1_col9\" class=\"data row1 col9\" >0.0</td>\n",
       "            </tr>\n",
       "            <tr>\n",
       "                        <th id=\"T_16fdce0b_79d2_11eb_8860_dc85de333325level0_row2\" class=\"row_heading level0 row2\" >2</th>\n",
       "                        <td id=\"T_16fdce0b_79d2_11eb_8860_dc85de333325row2_col0\" class=\"data row2 col0\" >0.0</td>\n",
       "                        <td id=\"T_16fdce0b_79d2_11eb_8860_dc85de333325row2_col1\" class=\"data row2 col1\" >0.0</td>\n",
       "                        <td id=\"T_16fdce0b_79d2_11eb_8860_dc85de333325row2_col2\" class=\"data row2 col2\" >0.0</td>\n",
       "                        <td id=\"T_16fdce0b_79d2_11eb_8860_dc85de333325row2_col3\" class=\"data row2 col3\" >0.0</td>\n",
       "                        <td id=\"T_16fdce0b_79d2_11eb_8860_dc85de333325row2_col4\" class=\"data row2 col4\" >0.0</td>\n",
       "                        <td id=\"T_16fdce0b_79d2_11eb_8860_dc85de333325row2_col5\" class=\"data row2 col5\" >1.0</td>\n",
       "                        <td id=\"T_16fdce0b_79d2_11eb_8860_dc85de333325row2_col6\" class=\"data row2 col6\" >0.0</td>\n",
       "                        <td id=\"T_16fdce0b_79d2_11eb_8860_dc85de333325row2_col7\" class=\"data row2 col7\" >0.0</td>\n",
       "                        <td id=\"T_16fdce0b_79d2_11eb_8860_dc85de333325row2_col8\" class=\"data row2 col8\" >0.0</td>\n",
       "                        <td id=\"T_16fdce0b_79d2_11eb_8860_dc85de333325row2_col9\" class=\"data row2 col9\" >0.0</td>\n",
       "            </tr>\n",
       "            <tr>\n",
       "                        <th id=\"T_16fdce0b_79d2_11eb_8860_dc85de333325level0_row3\" class=\"row_heading level0 row3\" >3</th>\n",
       "                        <td id=\"T_16fdce0b_79d2_11eb_8860_dc85de333325row3_col0\" class=\"data row3 col0\" >0.0</td>\n",
       "                        <td id=\"T_16fdce0b_79d2_11eb_8860_dc85de333325row3_col1\" class=\"data row3 col1\" >0.0</td>\n",
       "                        <td id=\"T_16fdce0b_79d2_11eb_8860_dc85de333325row3_col2\" class=\"data row3 col2\" >0.0</td>\n",
       "                        <td id=\"T_16fdce0b_79d2_11eb_8860_dc85de333325row3_col3\" class=\"data row3 col3\" >0.0</td>\n",
       "                        <td id=\"T_16fdce0b_79d2_11eb_8860_dc85de333325row3_col4\" class=\"data row3 col4\" >0.0</td>\n",
       "                        <td id=\"T_16fdce0b_79d2_11eb_8860_dc85de333325row3_col5\" class=\"data row3 col5\" >0.0</td>\n",
       "                        <td id=\"T_16fdce0b_79d2_11eb_8860_dc85de333325row3_col6\" class=\"data row3 col6\" >0.0</td>\n",
       "                        <td id=\"T_16fdce0b_79d2_11eb_8860_dc85de333325row3_col7\" class=\"data row3 col7\" >0.0</td>\n",
       "                        <td id=\"T_16fdce0b_79d2_11eb_8860_dc85de333325row3_col8\" class=\"data row3 col8\" >0.0</td>\n",
       "                        <td id=\"T_16fdce0b_79d2_11eb_8860_dc85de333325row3_col9\" class=\"data row3 col9\" >1.0</td>\n",
       "            </tr>\n",
       "            <tr>\n",
       "                        <th id=\"T_16fdce0b_79d2_11eb_8860_dc85de333325level0_row4\" class=\"row_heading level0 row4\" >4</th>\n",
       "                        <td id=\"T_16fdce0b_79d2_11eb_8860_dc85de333325row4_col0\" class=\"data row4 col0\" >0.0</td>\n",
       "                        <td id=\"T_16fdce0b_79d2_11eb_8860_dc85de333325row4_col1\" class=\"data row4 col1\" >0.0</td>\n",
       "                        <td id=\"T_16fdce0b_79d2_11eb_8860_dc85de333325row4_col2\" class=\"data row4 col2\" >0.0</td>\n",
       "                        <td id=\"T_16fdce0b_79d2_11eb_8860_dc85de333325row4_col3\" class=\"data row4 col3\" >0.0</td>\n",
       "                        <td id=\"T_16fdce0b_79d2_11eb_8860_dc85de333325row4_col4\" class=\"data row4 col4\" >0.0</td>\n",
       "                        <td id=\"T_16fdce0b_79d2_11eb_8860_dc85de333325row4_col5\" class=\"data row4 col5\" >0.0</td>\n",
       "                        <td id=\"T_16fdce0b_79d2_11eb_8860_dc85de333325row4_col6\" class=\"data row4 col6\" >1.0</td>\n",
       "                        <td id=\"T_16fdce0b_79d2_11eb_8860_dc85de333325row4_col7\" class=\"data row4 col7\" >0.0</td>\n",
       "                        <td id=\"T_16fdce0b_79d2_11eb_8860_dc85de333325row4_col8\" class=\"data row4 col8\" >0.0</td>\n",
       "                        <td id=\"T_16fdce0b_79d2_11eb_8860_dc85de333325row4_col9\" class=\"data row4 col9\" >0.0</td>\n",
       "            </tr>\n",
       "            <tr>\n",
       "                        <th id=\"T_16fdce0b_79d2_11eb_8860_dc85de333325level0_row5\" class=\"row_heading level0 row5\" >5</th>\n",
       "                        <td id=\"T_16fdce0b_79d2_11eb_8860_dc85de333325row5_col0\" class=\"data row5 col0\" >0.0</td>\n",
       "                        <td id=\"T_16fdce0b_79d2_11eb_8860_dc85de333325row5_col1\" class=\"data row5 col1\" >0.0</td>\n",
       "                        <td id=\"T_16fdce0b_79d2_11eb_8860_dc85de333325row5_col2\" class=\"data row5 col2\" >0.0</td>\n",
       "                        <td id=\"T_16fdce0b_79d2_11eb_8860_dc85de333325row5_col3\" class=\"data row5 col3\" >1.0</td>\n",
       "                        <td id=\"T_16fdce0b_79d2_11eb_8860_dc85de333325row5_col4\" class=\"data row5 col4\" >0.0</td>\n",
       "                        <td id=\"T_16fdce0b_79d2_11eb_8860_dc85de333325row5_col5\" class=\"data row5 col5\" >0.0</td>\n",
       "                        <td id=\"T_16fdce0b_79d2_11eb_8860_dc85de333325row5_col6\" class=\"data row5 col6\" >0.0</td>\n",
       "                        <td id=\"T_16fdce0b_79d2_11eb_8860_dc85de333325row5_col7\" class=\"data row5 col7\" >0.0</td>\n",
       "                        <td id=\"T_16fdce0b_79d2_11eb_8860_dc85de333325row5_col8\" class=\"data row5 col8\" >0.0</td>\n",
       "                        <td id=\"T_16fdce0b_79d2_11eb_8860_dc85de333325row5_col9\" class=\"data row5 col9\" >0.0</td>\n",
       "            </tr>\n",
       "            <tr>\n",
       "                        <th id=\"T_16fdce0b_79d2_11eb_8860_dc85de333325level0_row6\" class=\"row_heading level0 row6\" >6</th>\n",
       "                        <td id=\"T_16fdce0b_79d2_11eb_8860_dc85de333325row6_col0\" class=\"data row6 col0\" >1.0</td>\n",
       "                        <td id=\"T_16fdce0b_79d2_11eb_8860_dc85de333325row6_col1\" class=\"data row6 col1\" >0.0</td>\n",
       "                        <td id=\"T_16fdce0b_79d2_11eb_8860_dc85de333325row6_col2\" class=\"data row6 col2\" >0.0</td>\n",
       "                        <td id=\"T_16fdce0b_79d2_11eb_8860_dc85de333325row6_col3\" class=\"data row6 col3\" >0.0</td>\n",
       "                        <td id=\"T_16fdce0b_79d2_11eb_8860_dc85de333325row6_col4\" class=\"data row6 col4\" >0.0</td>\n",
       "                        <td id=\"T_16fdce0b_79d2_11eb_8860_dc85de333325row6_col5\" class=\"data row6 col5\" >0.0</td>\n",
       "                        <td id=\"T_16fdce0b_79d2_11eb_8860_dc85de333325row6_col6\" class=\"data row6 col6\" >0.0</td>\n",
       "                        <td id=\"T_16fdce0b_79d2_11eb_8860_dc85de333325row6_col7\" class=\"data row6 col7\" >0.0</td>\n",
       "                        <td id=\"T_16fdce0b_79d2_11eb_8860_dc85de333325row6_col8\" class=\"data row6 col8\" >0.0</td>\n",
       "                        <td id=\"T_16fdce0b_79d2_11eb_8860_dc85de333325row6_col9\" class=\"data row6 col9\" >0.0</td>\n",
       "            </tr>\n",
       "            <tr>\n",
       "                        <th id=\"T_16fdce0b_79d2_11eb_8860_dc85de333325level0_row7\" class=\"row_heading level0 row7\" >7</th>\n",
       "                        <td id=\"T_16fdce0b_79d2_11eb_8860_dc85de333325row7_col0\" class=\"data row7 col0\" >0.0</td>\n",
       "                        <td id=\"T_16fdce0b_79d2_11eb_8860_dc85de333325row7_col1\" class=\"data row7 col1\" >0.0</td>\n",
       "                        <td id=\"T_16fdce0b_79d2_11eb_8860_dc85de333325row7_col2\" class=\"data row7 col2\" >0.0</td>\n",
       "                        <td id=\"T_16fdce0b_79d2_11eb_8860_dc85de333325row7_col3\" class=\"data row7 col3\" >0.0</td>\n",
       "                        <td id=\"T_16fdce0b_79d2_11eb_8860_dc85de333325row7_col4\" class=\"data row7 col4\" >0.0</td>\n",
       "                        <td id=\"T_16fdce0b_79d2_11eb_8860_dc85de333325row7_col5\" class=\"data row7 col5\" >0.0</td>\n",
       "                        <td id=\"T_16fdce0b_79d2_11eb_8860_dc85de333325row7_col6\" class=\"data row7 col6\" >0.0</td>\n",
       "                        <td id=\"T_16fdce0b_79d2_11eb_8860_dc85de333325row7_col7\" class=\"data row7 col7\" >1.0</td>\n",
       "                        <td id=\"T_16fdce0b_79d2_11eb_8860_dc85de333325row7_col8\" class=\"data row7 col8\" >0.0</td>\n",
       "                        <td id=\"T_16fdce0b_79d2_11eb_8860_dc85de333325row7_col9\" class=\"data row7 col9\" >0.0</td>\n",
       "            </tr>\n",
       "            <tr>\n",
       "                        <th id=\"T_16fdce0b_79d2_11eb_8860_dc85de333325level0_row8\" class=\"row_heading level0 row8\" >8</th>\n",
       "                        <td id=\"T_16fdce0b_79d2_11eb_8860_dc85de333325row8_col0\" class=\"data row8 col0\" >0.0</td>\n",
       "                        <td id=\"T_16fdce0b_79d2_11eb_8860_dc85de333325row8_col1\" class=\"data row8 col1\" >1.0</td>\n",
       "                        <td id=\"T_16fdce0b_79d2_11eb_8860_dc85de333325row8_col2\" class=\"data row8 col2\" >0.0</td>\n",
       "                        <td id=\"T_16fdce0b_79d2_11eb_8860_dc85de333325row8_col3\" class=\"data row8 col3\" >0.0</td>\n",
       "                        <td id=\"T_16fdce0b_79d2_11eb_8860_dc85de333325row8_col4\" class=\"data row8 col4\" >0.0</td>\n",
       "                        <td id=\"T_16fdce0b_79d2_11eb_8860_dc85de333325row8_col5\" class=\"data row8 col5\" >0.0</td>\n",
       "                        <td id=\"T_16fdce0b_79d2_11eb_8860_dc85de333325row8_col6\" class=\"data row8 col6\" >0.0</td>\n",
       "                        <td id=\"T_16fdce0b_79d2_11eb_8860_dc85de333325row8_col7\" class=\"data row8 col7\" >0.0</td>\n",
       "                        <td id=\"T_16fdce0b_79d2_11eb_8860_dc85de333325row8_col8\" class=\"data row8 col8\" >0.0</td>\n",
       "                        <td id=\"T_16fdce0b_79d2_11eb_8860_dc85de333325row8_col9\" class=\"data row8 col9\" >0.0</td>\n",
       "            </tr>\n",
       "            <tr>\n",
       "                        <th id=\"T_16fdce0b_79d2_11eb_8860_dc85de333325level0_row9\" class=\"row_heading level0 row9\" >9</th>\n",
       "                        <td id=\"T_16fdce0b_79d2_11eb_8860_dc85de333325row9_col0\" class=\"data row9 col0\" >0.0</td>\n",
       "                        <td id=\"T_16fdce0b_79d2_11eb_8860_dc85de333325row9_col1\" class=\"data row9 col1\" >0.0</td>\n",
       "                        <td id=\"T_16fdce0b_79d2_11eb_8860_dc85de333325row9_col2\" class=\"data row9 col2\" >0.0</td>\n",
       "                        <td id=\"T_16fdce0b_79d2_11eb_8860_dc85de333325row9_col3\" class=\"data row9 col3\" >0.0</td>\n",
       "                        <td id=\"T_16fdce0b_79d2_11eb_8860_dc85de333325row9_col4\" class=\"data row9 col4\" >0.0</td>\n",
       "                        <td id=\"T_16fdce0b_79d2_11eb_8860_dc85de333325row9_col5\" class=\"data row9 col5\" >0.0</td>\n",
       "                        <td id=\"T_16fdce0b_79d2_11eb_8860_dc85de333325row9_col6\" class=\"data row9 col6\" >0.0</td>\n",
       "                        <td id=\"T_16fdce0b_79d2_11eb_8860_dc85de333325row9_col7\" class=\"data row9 col7\" >0.0</td>\n",
       "                        <td id=\"T_16fdce0b_79d2_11eb_8860_dc85de333325row9_col8\" class=\"data row9 col8\" >1.0</td>\n",
       "                        <td id=\"T_16fdce0b_79d2_11eb_8860_dc85de333325row9_col9\" class=\"data row9 col9\" >0.0</td>\n",
       "            </tr>\n",
       "    </tbody></table>"
      ],
      "text/plain": [
       "<pandas.io.formats.style.Styler at 0x1fc4f9598b0>"
      ]
     },
     "execution_count": 38,
     "metadata": {},
     "output_type": "execute_result"
    }
   ],
   "source": [
    "t.set_precision(1)#https://pandas.pydata.org/pandas-docs/stable/user_guide/style.html"
   ]
  }
 ],
 "metadata": {
  "kernelspec": {
   "display_name": "Python 3",
   "language": "python",
   "name": "python3"
  },
  "language_info": {
   "codemirror_mode": {
    "name": "ipython",
    "version": 3
   },
   "file_extension": ".py",
   "mimetype": "text/x-python",
   "name": "python",
   "nbconvert_exporter": "python",
   "pygments_lexer": "ipython3",
   "version": "3.8.3"
  }
 },
 "nbformat": 4,
 "nbformat_minor": 4
}
